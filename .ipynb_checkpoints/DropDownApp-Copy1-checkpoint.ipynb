{
 "cells": [
  {
   "cell_type": "code",
   "execution_count": 2,
   "metadata": {
    "collapsed": true
   },
   "outputs": [],
   "source": [
    "import ipywidgets as ipw\n",
    "from ipywidgets import Layout\n",
    "import pyperclip\n",
    "import datetime\n",
    "import string\n",
    "import appmode\n",
    "import pandas as pd"
   ]
  },
  {
   "cell_type": "markdown",
   "metadata": {},
   "source": [
    "### Dictionary"
   ]
  },
  {
   "cell_type": "code",
   "execution_count": 193,
   "metadata": {},
   "outputs": [],
   "source": [
    "project = {'None Selected':'None Selected',\n",
    "           'CSL689':('CSL689', '689'), \n",
    "           'CSL312':('CSL312','312'), \n",
    "           'CSL324':('CSL324','324'),\n",
    "           'CSL346':('CSL346','346'),\n",
    "           'CSL311':('CSL311','311'),\n",
    "           'CSL730':('CLS730','730')}\n",
    "\n",
    "fund_technique = {}\n",
    "\n",
    "fund_technique['CSL689'] = {'None Selected':'None Selected',\n",
    "                            'High Pressure Liquid Chromatography':('High Pressure Liquid Chromatography','HPLC'),\n",
    "                            'Electrophoresis':('Electrophoresis','EP'),\n",
    "                            'Cell-based':('Cell-based','CB'),\n",
    "                            'Mass Spectrometry':('Mass Spectrometry','MS'),\n",
    "                            'Polymerase Chain Reaction':('Polymerase Chain Reaction','PCR'),\n",
    "                            'Potency / Interaction':('Potency / Interaction','PI'),\n",
    "                            'Crystallography':('Crystallography','CR'),\n",
    "                            'Protein Concentration':('Protein Concentration','ProteinConc')}\n",
    "\n",
    "fund_technique['CSL312'] = {'None Selected':'None Selected',\n",
    "                            'High Pressure Liquid Chromatography':('High Pressure Liquid Chromatography','HPLC'),\n",
    "                            'Electrophoresis':('Electrophoresis','EP'),\n",
    "                            'Cell-based':('Cell-based','CB'),\n",
    "                            'Mass Spectrometry':('Mass Spectrometry','MS'),\n",
    "                            'Polymerase Chain Reaction':('Polymerase Chain Reaction','PCR'),\n",
    "                            'Potency / Interaction':('Potency / Interaction','PI'),\n",
    "                            'Crystallography':('Crystallography','CR'),\n",
    "                            'Protein Concentration':('Protein Concentration','ProteinConc')}\n",
    "\n",
    "fund_technique['CSL324'] = {'None Selected':'None Selected',\n",
    "                            'High Pressure Liquid Chromatography':('High Pressure Liquid Chromatography','HPLC'),\n",
    "                            'Electrophoresis':('Electrophoresis','EP'),\n",
    "                            'Cell-based':('Cell-based','CB'),\n",
    "                            'Mass Spectrometry':('Mass Spectrometry','MS'),\n",
    "                            'Polymerase Chain Reaction':('Polymerase Chain Reaction','PCR'),\n",
    "                            'Potency / Interaction':('Potency / Interaction','PI'),\n",
    "                            'Crystallography':('Crystallography','CR'),\n",
    "                            'Protein Concentration':('Protein Concentration','ProteinConc')}\n",
    "\n",
    "fund_technique['CSL346'] = {'None Selected':'None Selected',\n",
    "                            'High Pressure Liquid Chromatography':('High Pressure Liquid Chromatography','HPLC'),\n",
    "                            'Electrophoresis':('Electrophoresis','EP'),\n",
    "                            'Cell-based':('Cell-based','CB'),\n",
    "                            'Mass Spectrometry':('Mass Spectrometry','MS'),\n",
    "                            'Polymerase Chain Reaction':('Polymerase Chain Reaction','PCR'),\n",
    "                            'Potency / Interaction':('Potency / Interaction','PI'),\n",
    "                            'Crystallography':('Crystallography','CR'),\n",
    "                            'Protein Concentration':('Protein Concentration','ProteinConc')}\n",
    "\n",
    "fund_technique['CSL311'] = {'None Selected':'None Selected',\n",
    "                            'High Pressure Liquid Chromatography':('High Pressure Liquid Chromatography','HPLC'),\n",
    "                            'Electrophoresis':('Electrophoresis','EP'),\n",
    "                            'Cell-based':('Cell-based','CB'),\n",
    "                            'Mass Spectrometry':('Mass Spectrometry','MS'),\n",
    "                            'Polymerase Chain Reaction':('Polymerase Chain Reaction','PCR'),\n",
    "                            'Potency / Interaction':('Potency / Interaction','PI'),\n",
    "                            'Crystallography':('Crystallography','CR'),\n",
    "                            'Protein Concentration':('Protein Concentration','ProteinConc')}\n",
    "\n",
    "fund_technique['CSL730'] = {'None Selected':'None Selected',\n",
    "                            'High Pressure Liquid Chromatography':('High Pressure Liquid Chromatography','HPLC'),\n",
    "                            'Electrophoresis':('Electrophoresis','EP'),\n",
    "                            'Cell-based':('Cell-based','CB'),\n",
    "                            'Mass Spectrometry':('Mass Spectrometry','MS'),\n",
    "                            'Polymerase Chain Reaction':('Polymerase Chain Reaction','PCR'),\n",
    "                            'Potency / Interaction':('Potency / Interaction','PI'),\n",
    "                            'Crystallography':('Crystallography','CR'),\n",
    "                            'Protein Concentration':('Protein Concentration','ProteinConc')}\n",
    "\n",
    "methodology = {}\n",
    "\n",
    "methodology['CSL689'] = {}\n",
    "methodology['CSL689']['High Pressure Liquid Chromatography'] = {'None Selected':'None Selected',\n",
    "                                                               'Size Exclusion':('Size Exclusion', 'SE'),\n",
    "                                                               'Anion Exchange':('Anion Exchange', 'AEX'),\n",
    "                                                               'Cation Exchange':('Cation Exchange', 'CEX'),\n",
    "                                                               'Polysorbate80':('Polysorbate80', 'PS80'),\n",
    "                                                               'Reverse Phase':('Reverse Phase', 'RP')}\n",
    "methodology['CSL312'] = {}\n",
    "methodology['CSL312']['High Pressure Liquid Chromatography'] = {'None Selected':'None Selected',\n",
    "                                                               'Size Exclusion':('Size Exclusion', 'SE'),\n",
    "                                                               'Anion Exchange':('Anion Exchange', 'AEX'),\n",
    "                                                               'Cation Exchange':('Cation Exchange', 'CEX'),\n",
    "                                                               'Polysorbate80':('Polysorbate80', 'PS80'),\n",
    "                                                               'Reverse Phase':('Reverse Phase', 'RP')}\n",
    "methodology['CSL324'] = {}\n",
    "methodology['CSL324']['High Pressure Liquid Chromatography'] = {'None Selected':'None Selected',\n",
    "                                                               'Size Exclusion':('Size Exclusion', 'SE'),\n",
    "                                                               'Anion Exchange':('Anion Exchange', 'AEX'),\n",
    "                                                               'Cation Exchange':('Cation Exchange', 'CEX'),\n",
    "                                                               'Polysorbate80':('Polysorbate80', 'PS80'),\n",
    "                                                               'Reverse Phase':('Reverse Phase', 'RP')}\n",
    "methodology['CSL346'] = {}\n",
    "methodology['CSL346']['High Pressure Liquid Chromatography'] = {'None Selected':'None Selected',\n",
    "                                                               'Size Exclusion':('Size Exclusion', 'SE'),\n",
    "                                                               'Anion Exchange':('Anion Exchange', 'AEX'),\n",
    "                                                               'Cation Exchange':('Cation Exchange', 'CEX'),\n",
    "                                                               'Polysorbate80':('Polysorbate80', 'PS80'),\n",
    "                                                               'Reverse Phase':('Reverse Phase', 'RP')}\n",
    "methodology['CSL311'] = {}\n",
    "methodology['CSL311']['High Pressure Liquid Chromatography'] = {'None Selected':'None Selected',\n",
    "                                                               'Size Exclusion':('Size Exclusion', 'SE'),\n",
    "                                                               'Anion Exchange':('Anion Exchange', 'AEX'),\n",
    "                                                               'Cation Exchange':('Cation Exchange', 'CEX'),\n",
    "                                                               'Polysorbate80':('Polysorbate80', 'PS80'),\n",
    "                                                               'Reverse Phase':('Reverse Phase', 'RP')}\n",
    "methodology['CSL730'] = {}\n",
    "methodology['CSL730']['High Pressure Liquid Chromatography'] = {'None Selected':'None Selected',\n",
    "                                                               'Size Exclusion':('Size Exclusion', 'SE'),\n",
    "                                                               'Anion Exchange':('Anion Exchange', 'AEX'),\n",
    "                                                               'Cation Exchange':('Cation Exchange', 'CEX'),\n",
    "                                                               'Polysorbate80':('Polysorbate80', 'PS80'),\n",
    "                                                               'Reverse Phase':('Reverse Phase', 'RP')}"
   ]
  },
  {
   "cell_type": "markdown",
   "metadata": {},
   "source": [
    "### Date Picker Widget"
   ]
  },
  {
   "cell_type": "code",
   "execution_count": 169,
   "metadata": {
    "collapsed": true
   },
   "outputs": [],
   "source": [
    "dp = ipw.DatePicker(\n",
    "    description='Analysis Date', style= {'description_width': '150px'},\n",
    "    disabled=False,\n",
    "    layout=Layout(width='450px'),\n",
    "    value=datetime.datetime.now()\n",
    ")\n",
    "\n",
    "def on_dp_change(change):\n",
    "    refresh_eln_name()\n",
    "\n",
    "dp.observe(on_dp_change)"
   ]
  },
  {
   "cell_type": "markdown",
   "metadata": {},
   "source": [
    "### Dependent Drop Down Code"
   ]
  },
  {
   "cell_type": "code",
   "execution_count": 194,
   "metadata": {},
   "outputs": [],
   "source": [
    "pro_drop = ipw.Dropdown(\n",
    "    options = project,\n",
    "    value = 'None Selected',\n",
    "    description = 'Project', style= {'description_width': '150px'},\n",
    "    layout=Layout(width='450px')\n",
    ")\n",
    "\n",
    "tech_drop = ipw.Dropdown(\n",
    "    options = fund_technique['CSL689'],\n",
    "    value = 'None Selected',\n",
    "    description = 'Fundamental Technique', style= {'description_width': '150px'},\n",
    "    layout=Layout(width='450px')\n",
    ")\n",
    "\n",
    "meth_drop = ipw.Dropdown(\n",
    "    options = methodology['CSL689']['High Pressure Liquid Chromatography'],\n",
    "    value = 'None Selected',\n",
    "    description = 'Methodology', style= {'description_width': '150px'},\n",
    "    layout=Layout(width='450px')\n",
    ")\n",
    "\n",
    "def on_project_select(change):\n",
    "    if change['name'] == 'label':\n",
    "        if change['new'] != 'None Selected':\n",
    "            tech_drop.options=fund_technique[change['new']]\n",
    "        #print(list(count_drop.options.keys()))\n",
    "\n",
    "    tech_drop.value = 'None Selected'\n",
    "    meth_drop.value = 'None Selected'\n",
    "    refresh_eln_name()\n",
    "        \n",
    "\n",
    "def on_technique_select(change):\n",
    "    if change['name'] == 'label':\n",
    "        if change['new'] != 'None Selected':\n",
    "            meth_drop.options=methodology[pro_drop.value[0]][change['new']]\n",
    "    meth_drop.value = 'None Selected'\n",
    "    refresh_eln_name()\n",
    "\n",
    "def on_meth_select(change):\n",
    "    refresh_eln_name()\n",
    "    \n",
    "    \n",
    "    \n",
    "pro_drop.observe(on_project_select)\n",
    "tech_drop.observe(on_technique_select)\n",
    "meth_drop.observe(on_meth_select)\n",
    "\n",
    "name_selector = ipw.VBox((pro_drop, tech_drop, meth_drop))"
   ]
  },
  {
   "cell_type": "markdown",
   "metadata": {},
   "source": [
    "### Text Widget "
   ]
  },
  {
   "cell_type": "code",
   "execution_count": 187,
   "metadata": {
    "collapsed": true
   },
   "outputs": [],
   "source": [
    "eln_name = ipw.Text(\n",
    "    value=None,\n",
    "    placeholder='Make selection from dropdowns',\n",
    "    description='ELN Name:', style= {'description_width': '150px'},\n",
    "    disabled=False,\n",
    "    layout=Layout(width='450px')\n",
    ")"
   ]
  },
  {
   "cell_type": "markdown",
   "metadata": {},
   "source": [
    "### Widget Button"
   ]
  },
  {
   "cell_type": "code",
   "execution_count": 188,
   "metadata": {
    "collapsed": true
   },
   "outputs": [],
   "source": [
    "btn = ipw.Button(\n",
    "    description='Copy to Clipboard',\n",
    "    disabled=False,\n",
    "    button_style='', # 'success', 'info', 'warning', 'danger' or ''\n",
    "    tooltip='Copy to Clipboard',\n",
    "    icon='paperclip'\n",
    ")\n",
    "\n",
    "\n",
    "def copy_to_clip(b):\n",
    "    df = pd.DataFrame([eln_name.value])\n",
    "    df.to_clipboard(index=False,header=False)\n",
    "\n",
    "btn.on_click(copy_to_clip)"
   ]
  },
  {
   "cell_type": "markdown",
   "metadata": {},
   "source": [
    "### Amalgamate Functions / Widgets"
   ]
  },
  {
   "cell_type": "code",
   "execution_count": 189,
   "metadata": {},
   "outputs": [],
   "source": [
    "def refresh_eln_name():\n",
    "    if dp.value != None:\n",
    "        eln_name.value = dp.value.strftime('%Y%m%d') + '_'\n",
    "    if pro_drop.value != 'None Selected':\n",
    "        eln_name.value += pro_drop.value[1]\n",
    "        if tech_drop.value != 'None Selected':\n",
    "            eln_name.value += '_' + tech_drop.value[1]\n",
    "            if meth_drop.value != 'None Selected':\n",
    "                eln_name.value += '_' + meth_drop.value[1]\n",
    "            \n",
    "             #   if tech_drop.value != 'None Selected':\n",
    "              #      eln_name.value -= '_' + tech_drop.value[1]\n",
    "               #     if meth_drop.value != 'None Selected':\n",
    "                #        eln_name.value -= '_' + meth_drop.value[1]\n",
    "\n",
    "refresh_eln_name()"
   ]
  },
  {
   "cell_type": "markdown",
   "metadata": {},
   "source": [
    "## Dependent Drop Down with Date and Copy"
   ]
  },
  {
   "cell_type": "code",
   "execution_count": 190,
   "metadata": {},
   "outputs": [
    {
     "data": {
      "application/vnd.jupyter.widget-view+json": {
       "model_id": "add87ceb9ae849e7b38f19c30a793eec",
       "version_major": 2,
       "version_minor": 0
      },
      "text/plain": [
       "A Jupyter Widget"
      ]
     },
     "metadata": {},
     "output_type": "display_data"
    }
   ],
   "source": [
    "from ipywidgets import Layout\n",
    "ipw.VBox((dp,name_selector, ipw.HBox((eln_name, btn))))"
   ]
  },
  {
   "cell_type": "code",
   "execution_count": 191,
   "metadata": {},
   "outputs": [
    {
     "data": {
      "text/plain": [
       "'20180105_'"
      ]
     },
     "execution_count": 191,
     "metadata": {},
     "output_type": "execute_result"
    }
   ],
   "source": [
    "# If select middle then NS top, will crash\n",
    "# eln_name.value\n"
   ]
  },
  {
   "cell_type": "code",
   "execution_count": null,
   "metadata": {
    "collapsed": true
   },
   "outputs": [],
   "source": [
    "# import os\n",
    "# os.getcwd()"
   ]
  },
  {
   "cell_type": "code",
   "execution_count": null,
   "metadata": {
    "collapsed": true
   },
   "outputs": [],
   "source": [
    "# import sys\n",
    "#sys.path"
   ]
  },
  {
   "cell_type": "code",
   "execution_count": 15,
   "metadata": {},
   "outputs": [
    {
     "ename": "NameError",
     "evalue": "name 'NamingApp' is not defined",
     "output_type": "error",
     "traceback": [
      "\u001b[0;31m---------------------------------------------------------------------------\u001b[0m",
      "\u001b[0;31mNameError\u001b[0m                                 Traceback (most recent call last)",
      "\u001b[0;32m<ipython-input-15-f8ac6ec69d3c>\u001b[0m in \u001b[0;36m<module>\u001b[0;34m()\u001b[0m\n\u001b[1;32m      3\u001b[0m \u001b[0mhtml_exporter\u001b[0m \u001b[0;34m=\u001b[0m \u001b[0mHTMLExporter\u001b[0m\u001b[0;34m(\u001b[0m\u001b[0;34m)\u001b[0m\u001b[0;34m\u001b[0m\u001b[0m\n\u001b[1;32m      4\u001b[0m \u001b[0mhtml_exporter\u001b[0m\u001b[0;34m.\u001b[0m\u001b[0mtemplate_file\u001b[0m \u001b[0;34m=\u001b[0m \u001b[0;34m'basic'\u001b[0m\u001b[0;34m\u001b[0m\u001b[0m\n\u001b[0;32m----> 5\u001b[0;31m \u001b[0;34m(\u001b[0m\u001b[0mbody\u001b[0m\u001b[0;34m,\u001b[0m \u001b[0mresources\u001b[0m\u001b[0;34m)\u001b[0m \u001b[0;34m=\u001b[0m \u001b[0mhtml_exporter\u001b[0m\u001b[0;34m.\u001b[0m\u001b[0mfrom_notebook_node\u001b[0m\u001b[0;34m(\u001b[0m\u001b[0mNamingApp\u001b[0m\u001b[0;34m)\u001b[0m\u001b[0;34m\u001b[0m\u001b[0m\n\u001b[0m",
      "\u001b[0;31mNameError\u001b[0m: name 'NamingApp' is not defined"
     ]
    }
   ],
   "source": [
    "# https://nbconvert.readthedocs.io/en/latest/nbconvert_library.html\n",
    "# from traitlets.config import Config\n",
    "# from nbconvert import HTMLExporter\n",
    "# html_exporter = HTMLExporter()\n",
    "# html_exporter.template_file = 'basic'\n",
    "# (body, resources) = html_exporter.from_notebook_node(NamingApp)"
   ]
  },
  {
   "cell_type": "markdown",
   "metadata": {
    "collapsed": true
   },
   "source": [
    "## To Do"
   ]
  },
  {
   "cell_type": "code",
   "execution_count": null,
   "metadata": {
    "collapsed": true
   },
   "outputs": [],
   "source": [
    "# NOTE when certain things are selected, e.g., \"HPLC includes UPLC\""
   ]
  }
 ],
 "metadata": {
  "kernelspec": {
   "display_name": "Python 3",
   "language": "python",
   "name": "python3"
  },
  "language_info": {
   "codemirror_mode": {
    "name": "ipython",
    "version": 3
   },
   "file_extension": ".py",
   "mimetype": "text/x-python",
   "name": "python",
   "nbconvert_exporter": "python",
   "pygments_lexer": "ipython3",
   "version": "3.6.3"
  },
  "widgets": {
   "application/vnd.jupyter.widget-state+json": {
    "state": {
     "000b76a795ae48d7a9e9e7f575f69993": {
      "model_module": "@jupyter-widgets/base",
      "model_module_version": "1.0.0",
      "model_name": "LayoutModel",
      "state": {
       "width": "450px"
      }
     },
     "0010fbea1fd0431a911fcbf8f79eafcf": {
      "model_module": "@jupyter-widgets/controls",
      "model_module_version": "1.0.0",
      "model_name": "VBoxModel",
      "state": {
       "children": [
        "IPY_MODEL_40700ff5f15e49db92bca6a2b0c42aff",
        "IPY_MODEL_9ae6ab8bcda242ff8f9ed5273915ab19",
        "IPY_MODEL_4c0fe8dfe0d344de8b1477a0fdff6dce"
       ],
       "layout": "IPY_MODEL_e14ac2316a1044fe8632e61bad18977d"
      }
     },
     "00832bcc88ed43f896d9f2e1cd9bc35c": {
      "model_module": "@jupyter-widgets/controls",
      "model_module_version": "1.0.0",
      "model_name": "ButtonStyleModel",
      "state": {}
     },
     "0088ba77d3074713bc78b66ec2457e3c": {
      "model_module": "@jupyter-widgets/controls",
      "model_module_version": "1.0.0",
      "model_name": "HBoxModel",
      "state": {
       "children": [
        "IPY_MODEL_3d1bea791e0e440f87a0b92ac04d8f7c",
        "IPY_MODEL_958be916eb5e44e1b33aaa7c229a692f"
       ],
       "layout": "IPY_MODEL_b151f0be4e82479e822c95c7360d7b79"
      }
     },
     "008d6377010e4ce9bf510134855262fe": {
      "model_module": "@jupyter-widgets/base",
      "model_module_version": "1.0.0",
      "model_name": "LayoutModel",
      "state": {
       "width": "350px"
      }
     },
     "00bc3f5acd9b4530bf2f56a4d8bb0d9b": {
      "model_module": "@jupyter-widgets/base",
      "model_module_version": "1.0.0",
      "model_name": "LayoutModel",
      "state": {}
     },
     "010ee954acf94a1ca2ffc9549d7d7499": {
      "model_module": "@jupyter-widgets/controls",
      "model_module_version": "1.0.0",
      "model_name": "VBoxModel",
      "state": {
       "children": [
        "IPY_MODEL_64ca095075cd4753a07f813f5e80d866",
        "IPY_MODEL_3c6704dbaf07454bb4599259d10523bc",
        "IPY_MODEL_9b9db1b72cc34276ab03c89a23f9c742"
       ],
       "layout": "IPY_MODEL_f1c9a9fe1da14b9bad4cdc1b8fd1e9b7"
      }
     },
     "013fed27698b4e6aa4c50d2813157d98": {
      "model_module": "@jupyter-widgets/controls",
      "model_module_version": "1.0.0",
      "model_name": "DescriptionStyleModel",
      "state": {
       "description_width": ""
      }
     },
     "016fa0411c19449dbf85c90b5f366f3c": {
      "model_module": "@jupyter-widgets/controls",
      "model_module_version": "1.0.0",
      "model_name": "DropdownModel",
      "state": {
       "_options_labels": [
        "None Selected",
        "CSL689",
        "CSL312",
        "CSL324",
        "CSL346",
        "CSL311",
        "CSL730"
       ],
       "description": "Project",
       "index": 0,
       "layout": "IPY_MODEL_086d9f3f59b947678618fbaaf73ec68a",
       "style": "IPY_MODEL_5597bd6db7c54531bf944caf9a85ce80"
      }
     },
     "01a17b8dfbe846548761ece112e4a413": {
      "model_module": "@jupyter-widgets/base",
      "model_module_version": "1.0.0",
      "model_name": "LayoutModel",
      "state": {}
     },
     "01c8a842ce164e1787e9fbe88373da99": {
      "model_module": "@jupyter-widgets/controls",
      "model_module_version": "1.0.0",
      "model_name": "HBoxModel",
      "state": {
       "children": [
        "IPY_MODEL_3d1bea791e0e440f87a0b92ac04d8f7c",
        "IPY_MODEL_958be916eb5e44e1b33aaa7c229a692f"
       ],
       "layout": "IPY_MODEL_54099d3eb3c0456b9bccd57b0f9dc8e9"
      }
     },
     "020da89b3cd0408c9a339e6438ac6b8f": {
      "model_module": "@jupyter-widgets/controls",
      "model_module_version": "1.0.0",
      "model_name": "VBoxModel",
      "state": {
       "children": [
        "IPY_MODEL_3b3c7fbe540046a3825c521459afc10f",
        "IPY_MODEL_0c7a094922854a4ab0272c1064853c73",
        "IPY_MODEL_c11c0c8341d4452c8236a8679f661871"
       ],
       "layout": "IPY_MODEL_a040424075b1400aa8d838d6b2f9f078"
      }
     },
     "02218284deec4b38a7d0514aab4ca6a8": {
      "model_module": "@jupyter-widgets/base",
      "model_module_version": "1.0.0",
      "model_name": "LayoutModel",
      "state": {}
     },
     "026c5cc64f9d46ee8db2dc01bf0e2acb": {
      "model_module": "@jupyter-widgets/controls",
      "model_module_version": "1.0.0",
      "model_name": "VBoxModel",
      "state": {
       "children": [
        "IPY_MODEL_3b3c7fbe540046a3825c521459afc10f",
        "IPY_MODEL_bc73e2740e10441b910201a9bcc29596",
        "IPY_MODEL_8409a4fa70dd47469def7f23885b3f91"
       ],
       "layout": "IPY_MODEL_397c3f2f807c46a9bb8f42914f5e610f"
      }
     },
     "027e6404e548428dad128773ecf44198": {
      "model_module": "@jupyter-widgets/base",
      "model_module_version": "1.0.0",
      "model_name": "LayoutModel",
      "state": {
       "width": "350px"
      }
     },
     "029a9748432a4be0bace13bc0d9ea553": {
      "model_module": "@jupyter-widgets/controls",
      "model_module_version": "1.0.0",
      "model_name": "VBoxModel",
      "state": {
       "children": [
        "IPY_MODEL_64ca095075cd4753a07f813f5e80d866",
        "IPY_MODEL_a2a7bdf3b45446c6abc1bda48e82d52f",
        "IPY_MODEL_d70f9217dd5f4a19938659cb97549719"
       ],
       "layout": "IPY_MODEL_f6948a07b25249e29d4b6b07047ed4fd"
      }
     },
     "02e73804ceaf466c93448c5417c40fbf": {
      "model_module": "@jupyter-widgets/base",
      "model_module_version": "1.0.0",
      "model_name": "LayoutModel",
      "state": {}
     },
     "03166eb67dca4ee792f89f845d8608c7": {
      "model_module": "@jupyter-widgets/controls",
      "model_module_version": "1.0.0",
      "model_name": "DropdownModel",
      "state": {
       "_options_labels": [
        "None Selected",
        "High Pressue Liquid Chromatography",
        "Electrophoresis",
        "Cell-based",
        "Mass Spectrometry",
        "Polymerase Chain Reaction",
        "Potency / Interaction",
        "Crystallography",
        "Protein Concentration"
       ],
       "description": "Fundamental Technique",
       "index": 1,
       "layout": "IPY_MODEL_904cdc40996946e794c30a5994fb048c",
       "style": "IPY_MODEL_fe6acfa8e1654684a6e026711f02cf43"
      }
     },
     "032f1addaaad4ac1b5a439f1605885cb": {
      "model_module": "@jupyter-widgets/controls",
      "model_module_version": "1.0.0",
      "model_name": "DescriptionStyleModel",
      "state": {
       "description_width": ""
      }
     },
     "037d0d4feff64b56be43f7ea7aab503f": {
      "model_module": "@jupyter-widgets/base",
      "model_module_version": "1.0.0",
      "model_name": "LayoutModel",
      "state": {}
     },
     "038b1037257e459997bc5922a5c37a91": {
      "model_module": "@jupyter-widgets/base",
      "model_module_version": "1.0.0",
      "model_name": "LayoutModel",
      "state": {}
     },
     "039ddf3f9d2c43bf95c50aa85122c0dc": {
      "model_module": "@jupyter-widgets/controls",
      "model_module_version": "1.0.0",
      "model_name": "DropdownModel",
      "state": {
       "_options_labels": [
        "None Selected",
        "High Pressue Liquid Chromatography",
        "Electrophoresis",
        "Cell-based",
        "Mass Spectrometry",
        "Polymerase Chain Reaction",
        "Potency / Interaction",
        "Crystallography",
        "Protein Concentration"
       ],
       "description": "Fundamental Technique",
       "index": 1,
       "layout": "IPY_MODEL_31040a36b2a242b7a1cc06333d2eae16",
       "style": "IPY_MODEL_6188ed76b119425aa45f4d6a7f6b9ef0"
      }
     },
     "03bfdc0caf8645a981c32f88ee67044a": {
      "model_module": "@jupyter-widgets/controls",
      "model_module_version": "1.0.0",
      "model_name": "DescriptionStyleModel",
      "state": {
       "description_width": ""
      }
     },
     "0400e08d00a94f7396112c6b2c5e213f": {
      "model_module": "@jupyter-widgets/controls",
      "model_module_version": "1.0.0",
      "model_name": "TextModel",
      "state": {
       "description": "ELN Name:",
       "layout": "IPY_MODEL_92b02004e0ec4d3f939bf319829b5adf",
       "placeholder": "Make selection from dropdowns",
       "style": "IPY_MODEL_ea64e47ac6f74b53879cfa9632ef2e0e",
       "value": "20180105_"
      }
     },
     "045d8cf251b24e7f9316de3189ec0e87": {
      "model_module": "@jupyter-widgets/controls",
      "model_module_version": "1.0.0",
      "model_name": "DropdownModel",
      "state": {
       "_options_labels": [
        "None Selected",
        "High Pressue Liquid Chromatography",
        "Electrophoresis",
        "Cell-based",
        "Mass Spectrometry",
        "Polymerase Chain Reaction",
        "Potency / Interaction",
        "Crystallography",
        "Protein Concentration"
       ],
       "description": "Fundamental Technique",
       "index": 1,
       "layout": "IPY_MODEL_13bc44821df9453dae23ab98c63c06df",
       "style": "IPY_MODEL_4de311e7db3b4bc2b7282800a06340e1"
      }
     },
     "046b351ec58c436da72a33bdfccb2910": {
      "model_module": "@jupyter-widgets/base",
      "model_module_version": "1.0.0",
      "model_name": "LayoutModel",
      "state": {
       "width": "350px"
      }
     },
     "046b42152ada47568dd7346a792ffb52": {
      "model_module": "@jupyter-widgets/base",
      "model_module_version": "1.0.0",
      "model_name": "LayoutModel",
      "state": {}
     },
     "0481258f980f4d8e8ac6a933e24e84d1": {
      "model_module": "@jupyter-widgets/base",
      "model_module_version": "1.0.0",
      "model_name": "LayoutModel",
      "state": {}
     },
     "049c2933a0854fb78278c62b733d48c2": {
      "model_module": "@jupyter-widgets/controls",
      "model_module_version": "1.0.0",
      "model_name": "VBoxModel",
      "state": {
       "children": [
        "IPY_MODEL_1db66c6c29f64afdad2d6359483b7318",
        "IPY_MODEL_eff217738a644f36a1289a3be37ef3aa",
        "IPY_MODEL_42fa915c7c6848c3b4b70c4881003e6c"
       ],
       "layout": "IPY_MODEL_c77af9ef87f6431cbac4e50e8ac89933"
      }
     },
     "04a620876bb14acaae591786a753f8d9": {
      "model_module": "@jupyter-widgets/controls",
      "model_module_version": "1.0.0",
      "model_name": "DropdownModel",
      "state": {
       "_options_labels": [
        "None Selected",
        "Size Exclusion",
        "Anion Exchange",
        "Cation Exchange",
        "Polysorbate80",
        "Reverse Phase"
       ],
       "description": "Methodology",
       "index": 0,
       "layout": "IPY_MODEL_e1b4f958ccb9442ebcbf9127fe0078f4",
       "style": "IPY_MODEL_3b858e052ebf46beaec897c86fa09b33"
      }
     },
     "065d8edce45244a588f1e1cf40a1b220": {
      "model_module": "@jupyter-widgets/base",
      "model_module_version": "1.0.0",
      "model_name": "LayoutModel",
      "state": {}
     },
     "06d574ef40fa4b00bb1560ce0f36d595": {
      "model_module": "@jupyter-widgets/controls",
      "model_module_version": "1.0.0",
      "model_name": "VBoxModel",
      "state": {
       "children": [
        "IPY_MODEL_8ff84e5784294954a962c2fac2802471",
        "IPY_MODEL_9e1ba05ca16849f7938a7646ee2f7d12",
        "IPY_MODEL_04a620876bb14acaae591786a753f8d9"
       ],
       "layout": "IPY_MODEL_67f88b93afbc4f6e8fbd3c9232ddf52a"
      }
     },
     "0731a99dd1fd49b8b84ddf94c2227b54": {
      "model_module": "@jupyter-widgets/base",
      "model_module_version": "1.0.0",
      "model_name": "LayoutModel",
      "state": {}
     },
     "0734dc07e8f741d7aad9717c6c52b8fb": {
      "model_module": "@jupyter-widgets/controls",
      "model_module_version": "1.0.0",
      "model_name": "DropdownModel",
      "state": {
       "_options_labels": [
        "None Selected",
        "CSL689",
        "CSL312",
        "CSL324",
        "CSL346",
        "CSL311",
        "CSL730"
       ],
       "description": "Project",
       "index": 0,
       "layout": "IPY_MODEL_046b351ec58c436da72a33bdfccb2910",
       "style": "IPY_MODEL_6215fb72a0b94541993ba973f01e4677"
      }
     },
     "0774c47b9bdd414bb3c8a6751c3e8822": {
      "model_module": "@jupyter-widgets/base",
      "model_module_version": "1.0.0",
      "model_name": "LayoutModel",
      "state": {}
     },
     "084db2e10e8f4d798242307bbe73f416": {
      "model_module": "@jupyter-widgets/controls",
      "model_module_version": "1.0.0",
      "model_name": "VBoxModel",
      "state": {
       "children": [
        "IPY_MODEL_9e79c250a2f74a15abe05c6f41cd26d3",
        "IPY_MODEL_635d895282024389b23a79db2dca3d48",
        "IPY_MODEL_6ca97caf063d4e31a15e71ea4998ea3f"
       ],
       "layout": "IPY_MODEL_3ed090fcf53f467daf49d51decd79d1d"
      }
     },
     "086d9f3f59b947678618fbaaf73ec68a": {
      "model_module": "@jupyter-widgets/base",
      "model_module_version": "1.0.0",
      "model_name": "LayoutModel",
      "state": {}
     },
     "08e4411b917e417fbf017fc686323155": {
      "model_module": "@jupyter-widgets/base",
      "model_module_version": "1.0.0",
      "model_name": "LayoutModel",
      "state": {
       "height": "20px",
       "width": "500px"
      }
     },
     "0924681c43d446de8866eea3251ac4d6": {
      "model_module": "@jupyter-widgets/base",
      "model_module_version": "1.0.0",
      "model_name": "LayoutModel",
      "state": {
       "width": "350px"
      }
     },
     "092a992409d3417ebda5ddb2adbd9b05": {
      "model_module": "@jupyter-widgets/controls",
      "model_module_version": "1.0.0",
      "model_name": "ButtonStyleModel",
      "state": {}
     },
     "09bd479f8ebc4238aab4d52204525ea6": {
      "model_module": "@jupyter-widgets/controls",
      "model_module_version": "1.0.0",
      "model_name": "HBoxModel",
      "state": {
       "children": [
        "IPY_MODEL_4f75a9dd9ea44eb0a93618d99c7bf923",
        "IPY_MODEL_958be916eb5e44e1b33aaa7c229a692f"
       ],
       "layout": "IPY_MODEL_61dea8c008b1418791b4b5704914076b"
      }
     },
     "09fe1f3283f649b0bc8f9ca4cd353574": {
      "model_module": "@jupyter-widgets/controls",
      "model_module_version": "1.0.0",
      "model_name": "VBoxModel",
      "state": {
       "children": [
        "IPY_MODEL_40700ff5f15e49db92bca6a2b0c42aff",
        "IPY_MODEL_385072533ffc43b1a224ccdb5f307e08",
        "IPY_MODEL_17720ae50a434bde8c57c8d5859057ad"
       ],
       "layout": "IPY_MODEL_8de4b69331ba4b90a871a1fd996be83d"
      }
     },
     "0bc36f18b04a4e08bbefdb42fd09dd03": {
      "model_module": "@jupyter-widgets/controls",
      "model_module_version": "1.0.0",
      "model_name": "DropdownModel",
      "state": {
       "_options_labels": [
        "None Selected",
        "CSL689",
        "CSL312",
        "CSL324",
        "CSL346",
        "CSL311",
        "CSL730"
       ],
       "description": "Project",
       "index": 0,
       "layout": "IPY_MODEL_6be9ba41b6b24625a25bc0678a9e72d2",
       "style": "IPY_MODEL_54ace2d85a5d49e58b96523bab9eaa87"
      }
     },
     "0c066c6e8d9843e0bab2b5cebb64de15": {
      "model_module": "@jupyter-widgets/controls",
      "model_module_version": "1.0.0",
      "model_name": "DropdownModel",
      "state": {
       "_options_labels": [
        "None Selected",
        "Africa",
        "North America",
        "South America"
       ],
       "description": "Project",
       "index": 0,
       "layout": "IPY_MODEL_5649f535d3624aaabcdf40dedf3b73b6",
       "style": "IPY_MODEL_d1142319607443408ef2594e02a269a4"
      }
     },
     "0c48329e875b47f6a5a8d80f866613a0": {
      "model_module": "@jupyter-widgets/base",
      "model_module_version": "1.0.0",
      "model_name": "LayoutModel",
      "state": {}
     },
     "0c7a094922854a4ab0272c1064853c73": {
      "model_module": "@jupyter-widgets/controls",
      "model_module_version": "1.0.0",
      "model_name": "VBoxModel",
      "state": {
       "children": [
        "IPY_MODEL_75ef1e18a8b441f78ef393fdfdac45c5",
        "IPY_MODEL_f56884f5c4704ef998887ec914536985",
        "IPY_MODEL_9b96bd7b21494832b075ba8198dcff44"
       ],
       "layout": "IPY_MODEL_40aa54fb47a644e0bc89581c5892d371"
      }
     },
     "0cd5535f167345efb617d7183fc977fe": {
      "model_module": "@jupyter-widgets/controls",
      "model_module_version": "1.0.0",
      "model_name": "DropdownModel",
      "state": {
       "_options_labels": [
        "None Selected",
        "Size Exclusion",
        "Anion Exchange",
        "Cation Exchange",
        "Polysorbate80",
        "Reverse Phase"
       ],
       "description": "Methodology",
       "index": 0,
       "layout": "IPY_MODEL_96fbf008e0684250ae82c8d86b8d0ed8",
       "style": "IPY_MODEL_54ff36abfbf5440a9689727cbd536600"
      }
     },
     "0d3a8c92c8894647a05143e0d169649b": {
      "model_module": "@jupyter-widgets/base",
      "model_module_version": "1.0.0",
      "model_name": "LayoutModel",
      "state": {}
     },
     "0d7759b5fb074bc6b4b55f591966c440": {
      "model_module": "@jupyter-widgets/base",
      "model_module_version": "1.0.0",
      "model_name": "LayoutModel",
      "state": {}
     },
     "0d7f468550c94eb79af116aeaa919368": {
      "model_module": "@jupyter-widgets/controls",
      "model_module_version": "1.0.0",
      "model_name": "HBoxModel",
      "state": {
       "children": [
        "IPY_MODEL_0400e08d00a94f7396112c6b2c5e213f",
        "IPY_MODEL_0e5fcff178a44385811198c566671611"
       ],
       "layout": "IPY_MODEL_5218c323250d4213a77a99564250ab84"
      }
     },
     "0d81341144e04e8ca04472e6fe7aedb5": {
      "model_module": "@jupyter-widgets/base",
      "model_module_version": "1.0.0",
      "model_name": "LayoutModel",
      "state": {}
     },
     "0dab00001bef4592bb3a88e9761e6b43": {
      "model_module": "@jupyter-widgets/controls",
      "model_module_version": "1.0.0",
      "model_name": "VBoxModel",
      "state": {
       "children": [
        "IPY_MODEL_1bde5ef8944248b983cc7b5deddc11b5",
        "IPY_MODEL_c1b12ee6eebc490cbdab84d40f004de4",
        "IPY_MODEL_64ca6938a6464a62926086f10497840d"
       ],
       "layout": "IPY_MODEL_fa468d9d14724062976af74ddf2b50f7"
      }
     },
     "0ddcd5882fc4421687bf12493f8fbb97": {
      "model_module": "@jupyter-widgets/base",
      "model_module_version": "1.0.0",
      "model_name": "LayoutModel",
      "state": {
       "width": "450px"
      }
     },
     "0e5fcff178a44385811198c566671611": {
      "model_module": "@jupyter-widgets/controls",
      "model_module_version": "1.0.0",
      "model_name": "ButtonModel",
      "state": {
       "description": "Copy to Clipboard",
       "icon": "paperclip",
       "layout": "IPY_MODEL_ea97085614a549899d79c716269082cc",
       "style": "IPY_MODEL_092a992409d3417ebda5ddb2adbd9b05",
       "tooltip": "Copy to Clipboard"
      }
     },
     "0e6b663ba3d44963b1f9d2cfdc8b498e": {
      "model_module": "@jupyter-widgets/controls",
      "model_module_version": "1.0.0",
      "model_name": "HBoxModel",
      "state": {
       "children": [
        "IPY_MODEL_3d1bea791e0e440f87a0b92ac04d8f7c",
        "IPY_MODEL_958be916eb5e44e1b33aaa7c229a692f"
       ],
       "layout": "IPY_MODEL_ae712dd4cae743069cc9ff57d43cdc05"
      }
     },
     "0ed69701b53642b6acaaa9c1bffb650b": {
      "model_module": "@jupyter-widgets/base",
      "model_module_version": "1.0.0",
      "model_name": "LayoutModel",
      "state": {}
     },
     "0f3ffd838b2543f2b4e049d589c309f5": {
      "model_module": "@jupyter-widgets/base",
      "model_module_version": "1.0.0",
      "model_name": "LayoutModel",
      "state": {}
     },
     "0f85689b3e9c42d4a8a90969617f5bd8": {
      "model_module": "@jupyter-widgets/base",
      "model_module_version": "1.0.0",
      "model_name": "LayoutModel",
      "state": {}
     },
     "0fcf1d13ae614239ad4ddff1f4943ffc": {
      "model_module": "@jupyter-widgets/controls",
      "model_module_version": "1.0.0",
      "model_name": "VBoxModel",
      "state": {
       "children": [
        "IPY_MODEL_3c4ed251a3664d94b9f3a7591221d093",
        "IPY_MODEL_6c30c671b26a40db8465358b4d307174",
        "IPY_MODEL_3335cc9e97e8477abd96c8ca97149a1d"
       ],
       "layout": "IPY_MODEL_509cf0252f6c49febed965561aeaa233"
      }
     },
     "10410de12e024ea5ac6c60fb09e0ef34": {
      "model_module": "@jupyter-widgets/base",
      "model_module_version": "1.0.0",
      "model_name": "LayoutModel",
      "state": {}
     },
     "104e0a560f1c424394e6a98666393a87": {
      "model_module": "@jupyter-widgets/base",
      "model_module_version": "1.0.0",
      "model_name": "LayoutModel",
      "state": {}
     },
     "1085c42af98d484d924aca99a32d132e": {
      "model_module": "@jupyter-widgets/base",
      "model_module_version": "1.0.0",
      "model_name": "LayoutModel",
      "state": {}
     },
     "10aec655937b4ca1afb5795d38cee47a": {
      "model_module": "@jupyter-widgets/controls",
      "model_module_version": "1.0.0",
      "model_name": "VBoxModel",
      "state": {
       "children": [
        "IPY_MODEL_3b3c7fbe540046a3825c521459afc10f",
        "IPY_MODEL_ec9c0d326eb04360a8562ff84be349ae",
        "IPY_MODEL_290d94e206574a078df3fa6a7f650192"
       ],
       "layout": "IPY_MODEL_78046ff0ce7c42599a87413978426eed"
      }
     },
     "10e744f6ebed441399ee334b606e7321": {
      "model_module": "@jupyter-widgets/base",
      "model_module_version": "1.0.0",
      "model_name": "LayoutModel",
      "state": {
       "width": "350px"
      }
     },
     "1121d84bde0845ff90244744ae4d266d": {
      "model_module": "@jupyter-widgets/controls",
      "model_module_version": "1.0.0",
      "model_name": "DropdownModel",
      "state": {
       "_options_labels": [
        "None Selected",
        "Size Exclusion",
        "Anion Exchange",
        "Cation Exchange",
        "Polysorbate80",
        "Reverse Phase"
       ],
       "description": "Methodology",
       "index": 0,
       "layout": "IPY_MODEL_1c743e65012d456695baec1fbaa3e1e7",
       "style": "IPY_MODEL_38f5cc7095944f788be91c673ab9e1fd"
      }
     },
     "1162eae9a026487da008370203ff457b": {
      "model_module": "@jupyter-widgets/base",
      "model_module_version": "1.0.0",
      "model_name": "LayoutModel",
      "state": {}
     },
     "11d627520f9c44e3a7fe8433527f7697": {
      "model_module": "@jupyter-widgets/base",
      "model_module_version": "1.0.0",
      "model_name": "LayoutModel",
      "state": {
       "width": "350px"
      }
     },
     "123d00e2fa7f4852bba6e1d5298855c3": {
      "model_module": "@jupyter-widgets/controls",
      "model_module_version": "1.0.0",
      "model_name": "VBoxModel",
      "state": {
       "children": [
        "IPY_MODEL_40700ff5f15e49db92bca6a2b0c42aff",
        "IPY_MODEL_4a004058a2df42efa60d46b084aa12a5",
        "IPY_MODEL_78e1b5cf6cd34009bdb64f1b72267c4f"
       ],
       "layout": "IPY_MODEL_a497a6a958d34431b3431d0ad66467ed"
      }
     },
     "1334a185d7ea4caea716ffa9c6400c6a": {
      "model_module": "@jupyter-widgets/base",
      "model_module_version": "1.0.0",
      "model_name": "LayoutModel",
      "state": {}
     },
     "135a2c7b4304496b99d64d5c98d47f19": {
      "model_module": "@jupyter-widgets/base",
      "model_module_version": "1.0.0",
      "model_name": "LayoutModel",
      "state": {
       "width": "350px"
      }
     },
     "13957336d01044ccaea662d633b7df2f": {
      "model_module": "@jupyter-widgets/base",
      "model_module_version": "1.0.0",
      "model_name": "LayoutModel",
      "state": {}
     },
     "13ae1b7e93074a70b99021ceaef0c60c": {
      "model_module": "@jupyter-widgets/controls",
      "model_module_version": "1.0.0",
      "model_name": "DescriptionStyleModel",
      "state": {
       "description_width": "150px"
      }
     },
     "13bc44821df9453dae23ab98c63c06df": {
      "model_module": "@jupyter-widgets/base",
      "model_module_version": "1.0.0",
      "model_name": "LayoutModel",
      "state": {
       "width": "350px"
      }
     },
     "1471c3b2b6bf4c0eaa82adca3bbf31a6": {
      "model_module": "@jupyter-widgets/base",
      "model_module_version": "1.0.0",
      "model_name": "LayoutModel",
      "state": {}
     },
     "15627e9f15864b8cbce6f94872c6c6e1": {
      "model_module": "@jupyter-widgets/controls",
      "model_module_version": "1.0.0",
      "model_name": "HBoxModel",
      "state": {
       "children": [
        "IPY_MODEL_3d1bea791e0e440f87a0b92ac04d8f7c",
        "IPY_MODEL_958be916eb5e44e1b33aaa7c229a692f"
       ],
       "layout": "IPY_MODEL_cc394985c45e4207b18a6ed5040404eb"
      }
     },
     "1596e2a870f84d25b05fbf33455cee10": {
      "model_module": "@jupyter-widgets/base",
      "model_module_version": "1.0.0",
      "model_name": "LayoutModel",
      "state": {
       "width": "450px"
      }
     },
     "15d8e4f5e541469e84d848ec4f716be9": {
      "model_module": "@jupyter-widgets/base",
      "model_module_version": "1.0.0",
      "model_name": "LayoutModel",
      "state": {
       "width": "350px"
      }
     },
     "164900e10f5844e1868b359107f52bea": {
      "model_module": "@jupyter-widgets/base",
      "model_module_version": "1.0.0",
      "model_name": "LayoutModel",
      "state": {
       "width": "450px"
      }
     },
     "165b7c2221904d16b80b8e77d8727b5d": {
      "model_module": "@jupyter-widgets/controls",
      "model_module_version": "1.0.0",
      "model_name": "DescriptionStyleModel",
      "state": {
       "description_width": "initial"
      }
     },
     "1735d55abbf147e98925899874ceb512": {
      "model_module": "@jupyter-widgets/controls",
      "model_module_version": "1.0.0",
      "model_name": "DropdownModel",
      "state": {
       "_options_labels": [
        "None Selected",
        "CSL689",
        "CSL312",
        "CSL324",
        "CSL346",
        "CSL311",
        "CSL730"
       ],
       "description": "Project",
       "index": 0,
       "layout": "IPY_MODEL_b934258489fe4e90bf878b0c965bf610",
       "style": "IPY_MODEL_4d65a7456d8c484288fea41c6bbad91e"
      }
     },
     "1737e06c07da466bb993d9ffebcb001a": {
      "model_module": "@jupyter-widgets/controls",
      "model_module_version": "1.0.0",
      "model_name": "VBoxModel",
      "state": {
       "children": [
        "IPY_MODEL_3b3c7fbe540046a3825c521459afc10f",
        "IPY_MODEL_ec9c0d326eb04360a8562ff84be349ae",
        "IPY_MODEL_31c2a59b91064618b9c0fdefa05951a7"
       ],
       "layout": "IPY_MODEL_f6c2baf65dfb40aeaa81ce9da7db6500"
      }
     },
     "1748638232644216a69e03eca920a1ad": {
      "model_module": "@jupyter-widgets/controls",
      "model_module_version": "1.0.0",
      "model_name": "DropdownModel",
      "state": {
       "_options_labels": [
        "None Selected",
        "Size Exclusion",
        "Anion Exchange",
        "Cation Exchange",
        "Polysorbate80",
        "Reverse Phase"
       ],
       "description": "Methodology",
       "index": 0,
       "layout": "IPY_MODEL_9401b420cf2b48dda1605fb84297595a",
       "style": "IPY_MODEL_8692dedc98014c8fa9430ca0e36101dc"
      }
     },
     "17720ae50a434bde8c57c8d5859057ad": {
      "model_module": "@jupyter-widgets/controls",
      "model_module_version": "1.0.0",
      "model_name": "HBoxModel",
      "state": {
       "children": [
        "IPY_MODEL_3d1bea791e0e440f87a0b92ac04d8f7c",
        "IPY_MODEL_958be916eb5e44e1b33aaa7c229a692f"
       ],
       "layout": "IPY_MODEL_43bbc31811df49e7a29e3bb3aec25835"
      }
     },
     "17f0db181f764a48906dbffbe8c37125": {
      "model_module": "@jupyter-widgets/controls",
      "model_module_version": "1.0.0",
      "model_name": "DescriptionStyleModel",
      "state": {
       "description_width": "150px"
      }
     },
     "182f545768444257ab4da4aa29b26870": {
      "model_module": "@jupyter-widgets/controls",
      "model_module_version": "1.0.0",
      "model_name": "DescriptionStyleModel",
      "state": {
       "description_width": ""
      }
     },
     "18be79141bb140d4b9d05da32a4ad100": {
      "model_module": "@jupyter-widgets/controls",
      "model_module_version": "1.0.0",
      "model_name": "VBoxModel",
      "state": {
       "children": [
        "IPY_MODEL_016fa0411c19449dbf85c90b5f366f3c",
        "IPY_MODEL_baee2dfc90284db4a683e4ff4b43d678",
        "IPY_MODEL_5f69cf87a2fb47f39821cf2379de40fb"
       ],
       "layout": "IPY_MODEL_02e73804ceaf466c93448c5417c40fbf"
      }
     },
     "18cbc00ef5c14b329d432889b3c9aba9": {
      "model_module": "@jupyter-widgets/controls",
      "model_module_version": "1.0.0",
      "model_name": "VBoxModel",
      "state": {
       "children": [
        "IPY_MODEL_478a61d808d5441ab34fe44bc457c5d9",
        "IPY_MODEL_65b03823fe084fe99f6457fbf64601c9",
        "IPY_MODEL_7f32b33fd1df4d21b8aa4e2773e8ec91"
       ],
       "layout": "IPY_MODEL_f6533802ada046769912461d790f440d"
      }
     },
     "19d6e14125004dfb8e9959acb2c4d69a": {
      "model_module": "@jupyter-widgets/controls",
      "model_module_version": "1.0.0",
      "model_name": "DropdownModel",
      "state": {
       "_options_labels": [
        "None Selected",
        "CSL689",
        "CSL312",
        "CSL324",
        "CSL346",
        "CSL311",
        "CSL730"
       ],
       "description": "Project",
       "index": 1,
       "layout": "IPY_MODEL_e6fe67579ce846ad92b899dccaed5ccd",
       "style": "IPY_MODEL_38f813e51b9e413683a20cba8166be27"
      }
     },
     "1a3e823e336847eab720c65350e6321a": {
      "model_module": "@jupyter-widgets/controls",
      "model_module_version": "1.0.0",
      "model_name": "DropdownModel",
      "state": {
       "_options_labels": [
        "None Selected",
        "CSL689",
        "CSL312",
        "CSL324",
        "CSL346",
        "CSL311",
        "CSL730"
       ],
       "description": "Project",
       "index": 0,
       "layout": "IPY_MODEL_ac7a46b419a84f179755a2948baf095c",
       "style": "IPY_MODEL_c06d9c9df5f940dd979d499eb00572fc"
      }
     },
     "1a8eff05731244d68a2b1b528ee21507": {
      "model_module": "@jupyter-widgets/controls",
      "model_module_version": "1.0.0",
      "model_name": "VBoxModel",
      "state": {
       "children": [
        "IPY_MODEL_40700ff5f15e49db92bca6a2b0c42aff",
        "IPY_MODEL_ee86c156e3de49d9ba15abc8a4a1cc12",
        "IPY_MODEL_e3d170a1bfeb44cf88ce934427043d9a"
       ],
       "layout": "IPY_MODEL_a24c58c0baaa43cea45d27ce4a50be75"
      }
     },
     "1aa1d5b8a6d34a5fac42f02dceac5ca7": {
      "model_module": "@jupyter-widgets/controls",
      "model_module_version": "1.0.0",
      "model_name": "DescriptionStyleModel",
      "state": {
       "description_width": ""
      }
     },
     "1b8f4049c1d14aec9cf6d4a14bfccd2a": {
      "model_module": "@jupyter-widgets/base",
      "model_module_version": "1.0.0",
      "model_name": "LayoutModel",
      "state": {}
     },
     "1bde5ef8944248b983cc7b5deddc11b5": {
      "model_module": "@jupyter-widgets/controls",
      "model_module_version": "1.0.0",
      "model_name": "DropdownModel",
      "state": {
       "_options_labels": [
        "None Selected",
        "CSL689",
        "CSL312",
        "CSL324",
        "CSL346",
        "CSL311",
        "CSL730"
       ],
       "description": "Project",
       "index": 1,
       "layout": "IPY_MODEL_f9ad6d3a87884e4a9c87475cb321666f",
       "style": "IPY_MODEL_4c17d0d1072b471ca3f6134434bb7342"
      }
     },
     "1bfdae9b253c4854ba53c3959a8f041c": {
      "model_module": "@jupyter-widgets/controls",
      "model_module_version": "1.0.0",
      "model_name": "DropdownModel",
      "state": {
       "_options_labels": [
        "None Selected",
        "Size Exclusion",
        "Anion Exchange",
        "Cation Exchange",
        "Polysorbate80",
        "Reverse Phase"
       ],
       "description": "Methodology",
       "index": 0,
       "layout": "IPY_MODEL_910a4f904a474d4097c7b8a843fbdba8",
       "style": "IPY_MODEL_fb812329aef7436eaeafcd0d590b9368"
      }
     },
     "1c404f70bcff46ecb5fc74e72b47b6fd": {
      "model_module": "@jupyter-widgets/controls",
      "model_module_version": "1.0.0",
      "model_name": "DescriptionStyleModel",
      "state": {
       "description_width": ""
      }
     },
     "1c4cb3564cb2425b81cd519c3bc26abc": {
      "model_module": "@jupyter-widgets/controls",
      "model_module_version": "1.0.0",
      "model_name": "DescriptionStyleModel",
      "state": {
       "description_width": ""
      }
     },
     "1c743e65012d456695baec1fbaa3e1e7": {
      "model_module": "@jupyter-widgets/base",
      "model_module_version": "1.0.0",
      "model_name": "LayoutModel",
      "state": {
       "width": "350px"
      }
     },
     "1cf235cf83d34053a0f89b5e81755b0b": {
      "model_module": "@jupyter-widgets/base",
      "model_module_version": "1.0.0",
      "model_name": "LayoutModel",
      "state": {}
     },
     "1d2b790fe0eb4c5484d61f8afca8bab5": {
      "model_module": "@jupyter-widgets/base",
      "model_module_version": "1.0.0",
      "model_name": "LayoutModel",
      "state": {
       "width": "350px"
      }
     },
     "1db66c6c29f64afdad2d6359483b7318": {
      "model_module": "@jupyter-widgets/controls",
      "model_module_version": "1.0.0",
      "model_name": "DropdownModel",
      "state": {
       "_options_labels": [
        "None Selected",
        "CSL689",
        "CSL312",
        "CSL324",
        "CSL346",
        "CSL311",
        "CSL730"
       ],
       "description": "Project",
       "index": 0,
       "layout": "IPY_MODEL_000b76a795ae48d7a9e9e7f575f69993",
       "style": "IPY_MODEL_cb06b13bf33e4692a781b74e157f3601"
      }
     },
     "1dd5783206e548aaba98296b002e32eb": {
      "model_module": "@jupyter-widgets/base",
      "model_module_version": "1.0.0",
      "model_name": "LayoutModel",
      "state": {
       "width": "350px"
      }
     },
     "1e308f24a1a64d258886991ecf8cc357": {
      "model_module": "@jupyter-widgets/controls",
      "model_module_version": "1.0.0",
      "model_name": "DescriptionStyleModel",
      "state": {
       "description_width": ""
      }
     },
     "1efdd12dc64746f7aa86982b2392278b": {
      "model_module": "@jupyter-widgets/controls",
      "model_module_version": "1.0.0",
      "model_name": "DropdownModel",
      "state": {
       "_options_labels": [
        "None Selected",
        "CSL689",
        "CSL312",
        "CSL324",
        "CSL346",
        "CSL311",
        "CSL730"
       ],
       "description": "Project",
       "index": 0,
       "layout": "IPY_MODEL_c40a91a9699f456aae9528871ad2e9fe",
       "style": "IPY_MODEL_c917892fee334a44b672a8b1c46b154e"
      }
     },
     "1f6b6de238a84d21a0eec685c3f87b01": {
      "model_module": "@jupyter-widgets/controls",
      "model_module_version": "1.0.0",
      "model_name": "HBoxModel",
      "state": {
       "children": [
        "IPY_MODEL_3d1bea791e0e440f87a0b92ac04d8f7c",
        "IPY_MODEL_958be916eb5e44e1b33aaa7c229a692f"
       ],
       "layout": "IPY_MODEL_87314f545b5245b2bbeba59b7e6366b2"
      }
     },
     "1faf2ab039e043cfb1fd41815e680817": {
      "model_module": "@jupyter-widgets/controls",
      "model_module_version": "1.0.0",
      "model_name": "VBoxModel",
      "state": {
       "children": [
        "IPY_MODEL_40700ff5f15e49db92bca6a2b0c42aff",
        "IPY_MODEL_9ae6ab8bcda242ff8f9ed5273915ab19",
        "IPY_MODEL_3d5d87c142d44d279f4ca5952665b8be"
       ],
       "layout": "IPY_MODEL_a964bf0509e14977842e4836e64c1a7a"
      }
     },
     "205144f19a1d408ab568887e60ca8d8a": {
      "model_module": "@jupyter-widgets/base",
      "model_module_version": "1.0.0",
      "model_name": "LayoutModel",
      "state": {
       "width": "350px"
      }
     },
     "2081ebc10e2a4a8c9c39e819cd072c28": {
      "model_module": "@jupyter-widgets/controls",
      "model_module_version": "1.0.0",
      "model_name": "HBoxModel",
      "state": {
       "children": [
        "IPY_MODEL_3d1bea791e0e440f87a0b92ac04d8f7c",
        "IPY_MODEL_958be916eb5e44e1b33aaa7c229a692f"
       ],
       "layout": "IPY_MODEL_74ab8efa15594e8fa4122f2a9f4a449e"
      }
     },
     "2104bd83c6554f5f844e1f24121ca7ad": {
      "model_module": "@jupyter-widgets/base",
      "model_module_version": "1.0.0",
      "model_name": "LayoutModel",
      "state": {}
     },
     "22ca0dc954574f8c832430af985172ae": {
      "model_module": "@jupyter-widgets/controls",
      "model_module_version": "1.0.0",
      "model_name": "VBoxModel",
      "state": {
       "children": [
        "IPY_MODEL_e53776c3959440d293837a506578cc9c",
        "IPY_MODEL_55ce25da752f4a9a929af4a30daf7538",
        "IPY_MODEL_39531790251344e2aed5ec48a3889f1c"
       ],
       "layout": "IPY_MODEL_53d058f97f6b4cdcaea7d38220f198ab"
      }
     },
     "2358ce9e840747acb839885c4cae95ac": {
      "model_module": "@jupyter-widgets/base",
      "model_module_version": "1.0.0",
      "model_name": "LayoutModel",
      "state": {}
     },
     "24552d6519c44831b7a542875eb00e77": {
      "model_module": "@jupyter-widgets/base",
      "model_module_version": "1.0.0",
      "model_name": "LayoutModel",
      "state": {
       "width": "350px"
      }
     },
     "2486ac960af744208fec22b1f4ac54cb": {
      "model_module": "@jupyter-widgets/base",
      "model_module_version": "1.0.0",
      "model_name": "LayoutModel",
      "state": {}
     },
     "249cd74f3b5349cd996c2c36d84ab5e2": {
      "model_module": "@jupyter-widgets/base",
      "model_module_version": "1.0.0",
      "model_name": "LayoutModel",
      "state": {
       "width": "350px"
      }
     },
     "24cd914e7d274b05adb599cf9f735ef6": {
      "model_module": "@jupyter-widgets/base",
      "model_module_version": "1.0.0",
      "model_name": "LayoutModel",
      "state": {}
     },
     "25239d8231a44ef18cdcbf692037b916": {
      "model_module": "@jupyter-widgets/base",
      "model_module_version": "1.0.0",
      "model_name": "LayoutModel",
      "state": {
       "width": "350px"
      }
     },
     "25bc059738be4d02840af4de46cd3b4e": {
      "model_module": "@jupyter-widgets/controls",
      "model_module_version": "1.0.0",
      "model_name": "DescriptionStyleModel",
      "state": {
       "description_width": ""
      }
     },
     "25d41b1c8bc74de9b9d06bc398c3bccc": {
      "model_module": "@jupyter-widgets/base",
      "model_module_version": "1.0.0",
      "model_name": "LayoutModel",
      "state": {
       "height": "80px",
       "width": "100%"
      }
     },
     "25d9c43bee6f4d62a8c98c5dd2e28f32": {
      "model_module": "@jupyter-widgets/controls",
      "model_module_version": "1.0.0",
      "model_name": "VBoxModel",
      "state": {
       "children": [
        "IPY_MODEL_3b3c7fbe540046a3825c521459afc10f",
        "IPY_MODEL_3ad12708b9af4caca17dcb5025331136",
        "IPY_MODEL_4ffdbb1f07f249bfb7b3a2a2114237e3"
       ],
       "layout": "IPY_MODEL_484a41e524b540bcb370db03f8bda385"
      }
     },
     "25dc622cd8774751b6ddae01f4fe9d3e": {
      "model_module": "@jupyter-widgets/base",
      "model_module_version": "1.0.0",
      "model_name": "LayoutModel",
      "state": {}
     },
     "261227a921384164bf84275b265f1273": {
      "model_module": "@jupyter-widgets/controls",
      "model_module_version": "1.0.0",
      "model_name": "VBoxModel",
      "state": {
       "children": [
        "IPY_MODEL_3b3c7fbe540046a3825c521459afc10f",
        "IPY_MODEL_ec9c0d326eb04360a8562ff84be349ae",
        "IPY_MODEL_8286f738a6a84213b3cd8f8cda08316c"
       ],
       "layout": "IPY_MODEL_6642427e6a454b529b525aedaca2b777"
      }
     },
     "2748c0c5357248fba82999b05086d042": {
      "model_module": "@jupyter-widgets/controls",
      "model_module_version": "1.0.0",
      "model_name": "HBoxModel",
      "state": {
       "children": [
        "IPY_MODEL_3d1bea791e0e440f87a0b92ac04d8f7c",
        "IPY_MODEL_958be916eb5e44e1b33aaa7c229a692f"
       ],
       "layout": "IPY_MODEL_317810c3c34e4fb2a4dda66015e2a0d9"
      }
     },
     "27bb64588c744f0096208f959c0d2c78": {
      "model_module": "@jupyter-widgets/controls",
      "model_module_version": "1.0.0",
      "model_name": "VBoxModel",
      "state": {
       "children": [
        "IPY_MODEL_87e07091e22a4de6b9315afe9cb9ac46",
        "IPY_MODEL_69542fd8ef3d48f29c85bedf78425389",
        "IPY_MODEL_38d6c5a05bab4b3b9acd8c1ebb2b9968"
       ],
       "layout": "IPY_MODEL_63b2f73cd0634aa2b10c406843b57634"
      }
     },
     "28142cbffec341a3993586be2690a0c0": {
      "model_module": "@jupyter-widgets/base",
      "model_module_version": "1.0.0",
      "model_name": "LayoutModel",
      "state": {
       "width": "450px"
      }
     },
     "288c206629d04ed5975b3c66010549c3": {
      "model_module": "@jupyter-widgets/base",
      "model_module_version": "1.0.0",
      "model_name": "LayoutModel",
      "state": {}
     },
     "2895332e484341bfb4cf5e51972e5626": {
      "model_module": "@jupyter-widgets/base",
      "model_module_version": "1.0.0",
      "model_name": "LayoutModel",
      "state": {
       "width": "350px"
      }
     },
     "290d94e206574a078df3fa6a7f650192": {
      "model_module": "@jupyter-widgets/controls",
      "model_module_version": "1.0.0",
      "model_name": "HBoxModel",
      "state": {
       "children": [
        "IPY_MODEL_4f75a9dd9ea44eb0a93618d99c7bf923",
        "IPY_MODEL_958be916eb5e44e1b33aaa7c229a692f"
       ],
       "layout": "IPY_MODEL_0774c47b9bdd414bb3c8a6751c3e8822"
      }
     },
     "2a186787774f44fb88132531d8f15f87": {
      "model_module": "@jupyter-widgets/controls",
      "model_module_version": "1.0.0",
      "model_name": "VBoxModel",
      "state": {
       "children": [
        "IPY_MODEL_3b3c7fbe540046a3825c521459afc10f",
        "IPY_MODEL_0fcf1d13ae614239ad4ddff1f4943ffc",
        "IPY_MODEL_88ded9c0dfca4546b339f2b3e159e1b3"
       ],
       "layout": "IPY_MODEL_efc8fc02a7bc47789f03803be150c6ed"
      }
     },
     "2b4f3eec25694032a4199b9b47d79994": {
      "model_module": "@jupyter-widgets/base",
      "model_module_version": "1.0.0",
      "model_name": "LayoutModel",
      "state": {
       "width": "350px"
      }
     },
     "2b5d2d6185a142b7863a70cd313c040e": {
      "model_module": "@jupyter-widgets/controls",
      "model_module_version": "1.0.0",
      "model_name": "DescriptionStyleModel",
      "state": {
       "description_width": ""
      }
     },
     "2bff9e46b59240babc51efa502faccb3": {
      "model_module": "@jupyter-widgets/controls",
      "model_module_version": "1.0.0",
      "model_name": "DescriptionStyleModel",
      "state": {
       "description_width": ""
      }
     },
     "2c550460ee63466e80eb14ea3f131c0e": {
      "model_module": "@jupyter-widgets/base",
      "model_module_version": "1.0.0",
      "model_name": "LayoutModel",
      "state": {
       "width": "350px"
      }
     },
     "2d1ba54fa090448d876610196d5af41a": {
      "model_module": "@jupyter-widgets/base",
      "model_module_version": "1.0.0",
      "model_name": "LayoutModel",
      "state": {}
     },
     "2d1c1b11536949959a5fb0a7c451d76c": {
      "model_module": "@jupyter-widgets/controls",
      "model_module_version": "1.0.0",
      "model_name": "TextModel",
      "state": {
       "description": "ELN Name:",
       "layout": "IPY_MODEL_b6b9762726f64528a847049ac04d0393",
       "placeholder": "Make selection from dropdowns",
       "style": "IPY_MODEL_9d9942fe5df84c7b81c1884d9c9aa965",
       "value": "20180104_"
      }
     },
     "2db7164ac01c4eca98d9fa65a0a1e549": {
      "model_module": "@jupyter-widgets/controls",
      "model_module_version": "1.0.0",
      "model_name": "HBoxModel",
      "state": {
       "children": [
        "IPY_MODEL_4f75a9dd9ea44eb0a93618d99c7bf923",
        "IPY_MODEL_958be916eb5e44e1b33aaa7c229a692f"
       ],
       "layout": "IPY_MODEL_fc2058cb0e77444ca24f07cfaf807368"
      }
     },
     "2db84501bdbf42609e8561234ef9f893": {
      "model_module": "@jupyter-widgets/base",
      "model_module_version": "1.0.0",
      "model_name": "LayoutModel",
      "state": {
       "width": "450px"
      }
     },
     "2dc2cfd9762a4945945a2babb456523a": {
      "model_module": "@jupyter-widgets/base",
      "model_module_version": "1.0.0",
      "model_name": "LayoutModel",
      "state": {}
     },
     "2e134e6a6d57452b99089cd7610f4571": {
      "model_module": "@jupyter-widgets/base",
      "model_module_version": "1.0.0",
      "model_name": "LayoutModel",
      "state": {}
     },
     "2e9d9b655a194624a3768c5855fc132d": {
      "model_module": "@jupyter-widgets/base",
      "model_module_version": "1.0.0",
      "model_name": "LayoutModel",
      "state": {
       "width": "350px"
      }
     },
     "2ecf9799e9a64f4ebbc0258a3fbe0a1d": {
      "model_module": "@jupyter-widgets/base",
      "model_module_version": "1.0.0",
      "model_name": "LayoutModel",
      "state": {
       "width": "350px"
      }
     },
     "2ef311937695411388ca94327018161c": {
      "model_module": "@jupyter-widgets/controls",
      "model_module_version": "1.0.0",
      "model_name": "DescriptionStyleModel",
      "state": {
       "description_width": ""
      }
     },
     "2f1817d9dba44f16ac5235ddb66ab290": {
      "model_module": "@jupyter-widgets/controls",
      "model_module_version": "1.0.0",
      "model_name": "DescriptionStyleModel",
      "state": {
       "description_width": ""
      }
     },
     "2f2a37085c3446ccb030734d071fff78": {
      "model_module": "@jupyter-widgets/controls",
      "model_module_version": "1.0.0",
      "model_name": "VBoxModel",
      "state": {
       "children": [
        "IPY_MODEL_40700ff5f15e49db92bca6a2b0c42aff",
        "IPY_MODEL_d58c9d1526a54f8087d67230abdfaa3d",
        "IPY_MODEL_c03188adfd5d48bea789eef02af91acb"
       ],
       "layout": "IPY_MODEL_01a17b8dfbe846548761ece112e4a413"
      }
     },
     "2f3e42cf1da6485f9adbaadd17023000": {
      "model_module": "@jupyter-widgets/base",
      "model_module_version": "1.0.0",
      "model_name": "LayoutModel",
      "state": {}
     },
     "2fae0fc8a9e445b69f57479e4c209cf7": {
      "model_module": "@jupyter-widgets/base",
      "model_module_version": "1.0.0",
      "model_name": "LayoutModel",
      "state": {
       "width": "350px"
      }
     },
     "30ffe3a2de404f9c97b679373a656ba0": {
      "model_module": "@jupyter-widgets/base",
      "model_module_version": "1.0.0",
      "model_name": "LayoutModel",
      "state": {
       "width": "350px"
      }
     },
     "31040a36b2a242b7a1cc06333d2eae16": {
      "model_module": "@jupyter-widgets/base",
      "model_module_version": "1.0.0",
      "model_name": "LayoutModel",
      "state": {}
     },
     "3124371ed7a94d91b8199c6b4659f56d": {
      "model_module": "@jupyter-widgets/controls",
      "model_module_version": "1.0.0",
      "model_name": "VBoxModel",
      "state": {
       "children": [
        "IPY_MODEL_40700ff5f15e49db92bca6a2b0c42aff",
        "IPY_MODEL_82cd18bb8c974d4594ad163f113516ce",
        "IPY_MODEL_3b0190c979ae49d39f4d162e675d8103"
       ],
       "layout": "IPY_MODEL_88fd5e630dae4ea2b2ed243b7a2abaaf"
      }
     },
     "31408f9f888a4799b50c40be324c2535": {
      "model_module": "@jupyter-widgets/controls",
      "model_module_version": "1.0.0",
      "model_name": "DescriptionStyleModel",
      "state": {
       "description_width": "150px"
      }
     },
     "317810c3c34e4fb2a4dda66015e2a0d9": {
      "model_module": "@jupyter-widgets/base",
      "model_module_version": "1.0.0",
      "model_name": "LayoutModel",
      "state": {}
     },
     "31c2a59b91064618b9c0fdefa05951a7": {
      "model_module": "@jupyter-widgets/controls",
      "model_module_version": "1.0.0",
      "model_name": "HBoxModel",
      "state": {
       "children": [
        "IPY_MODEL_4f75a9dd9ea44eb0a93618d99c7bf923",
        "IPY_MODEL_958be916eb5e44e1b33aaa7c229a692f"
       ],
       "layout": "IPY_MODEL_ad3c0c891ce1421e8d148d4a4080cc9c"
      }
     },
     "329585e948e74cfbbfda635f300053a4": {
      "model_module": "@jupyter-widgets/base",
      "model_module_version": "1.0.0",
      "model_name": "LayoutModel",
      "state": {}
     },
     "32c9984e395241c1bb205c831df7f0d9": {
      "model_module": "@jupyter-widgets/base",
      "model_module_version": "1.0.0",
      "model_name": "LayoutModel",
      "state": {}
     },
     "32fd0a0b2b004a1bbcc566296a5d0817": {
      "model_module": "@jupyter-widgets/base",
      "model_module_version": "1.0.0",
      "model_name": "LayoutModel",
      "state": {}
     },
     "3335cc9e97e8477abd96c8ca97149a1d": {
      "model_module": "@jupyter-widgets/controls",
      "model_module_version": "1.0.0",
      "model_name": "DropdownModel",
      "state": {
       "_options_labels": [
        "None Selected",
        "Size Exclusion",
        "Anion Exchange",
        "Cation Exchange",
        "Polysorbate80",
        "Reverse Phase"
       ],
       "description": "Methodology",
       "index": 0,
       "layout": "IPY_MODEL_780a1b8b352948d9a4af85f4b364041d",
       "style": "IPY_MODEL_b9d30ac1df4747b085eeae1df211b14b"
      }
     },
     "333d648c2f694f108fe1736ca129249d": {
      "model_module": "@jupyter-widgets/controls",
      "model_module_version": "1.0.0",
      "model_name": "HBoxModel",
      "state": {
       "children": [
        "IPY_MODEL_d3532080b2604970bfbd1d7cdcc8abac",
        "IPY_MODEL_a686a865a140455592f2ae31ad5656c5"
       ],
       "layout": "IPY_MODEL_909c7afb45b3433c9106a48fd9fc2e35"
      }
     },
     "35180e7f3f374114b3c279c92c976b59": {
      "model_module": "@jupyter-widgets/controls",
      "model_module_version": "1.0.0",
      "model_name": "VBoxModel",
      "state": {
       "children": [
        "IPY_MODEL_f1c2c1cade0148d6b9791ef15ff8889e",
        "IPY_MODEL_58f53dca6e3e4a7b9e3260c3805c1cfc",
        "IPY_MODEL_8d7921cde0b348fc88823281165d4989"
       ],
       "layout": "IPY_MODEL_3df28f3394b64290988bd2dbf0a08352"
      }
     },
     "364decec93fa4026aface52a1c0f1b29": {
      "model_module": "@jupyter-widgets/controls",
      "model_module_version": "1.0.0",
      "model_name": "DescriptionStyleModel",
      "state": {
       "description_width": "150px"
      }
     },
     "368f457a8d764b25a4356f6c3d7ad857": {
      "model_module": "@jupyter-widgets/controls",
      "model_module_version": "1.0.0",
      "model_name": "HBoxModel",
      "state": {
       "children": [
        "IPY_MODEL_2d1c1b11536949959a5fb0a7c451d76c",
        "IPY_MODEL_958be916eb5e44e1b33aaa7c229a692f"
       ],
       "layout": "IPY_MODEL_59cd55bcb7b14024bf5f700e1147de78"
      }
     },
     "36d82d01307642c7bea0c0d14ce683e1": {
      "model_module": "@jupyter-widgets/controls",
      "model_module_version": "1.0.0",
      "model_name": "DropdownModel",
      "state": {
       "_options_labels": [
        "None Selected",
        "Size Exclusion",
        "Anion Exchange",
        "Cation Exchange",
        "Polysorbate80",
        "Reverse Phase"
       ],
       "description": "Methodology",
       "index": 1,
       "layout": "IPY_MODEL_dc82a77e55c04d479123f85d52189c00",
       "style": "IPY_MODEL_ab64652ba0e142b99634780713a8d5bf"
      }
     },
     "3704952b34744062bff3fa9e2e4f9ec4": {
      "model_module": "@jupyter-widgets/controls",
      "model_module_version": "1.0.0",
      "model_name": "VBoxModel",
      "state": {
       "children": [
        "IPY_MODEL_40700ff5f15e49db92bca6a2b0c42aff",
        "IPY_MODEL_18cbc00ef5c14b329d432889b3c9aba9",
        "IPY_MODEL_c08eff069e044ac39d9d7844d17cb95a"
       ],
       "layout": "IPY_MODEL_32fd0a0b2b004a1bbcc566296a5d0817"
      }
     },
     "373406c3d9394d48b688c8e37611d00e": {
      "model_module": "@jupyter-widgets/controls",
      "model_module_version": "1.0.0",
      "model_name": "DescriptionStyleModel",
      "state": {
       "description_width": "150px"
      }
     },
     "3741ca846ac94b9db1281b78e44360b0": {
      "model_module": "@jupyter-widgets/controls",
      "model_module_version": "1.0.0",
      "model_name": "DescriptionStyleModel",
      "state": {
       "description_width": ""
      }
     },
     "381be0f71dcb4121a288097ac6b133ce": {
      "model_module": "@jupyter-widgets/controls",
      "model_module_version": "1.0.0",
      "model_name": "DescriptionStyleModel",
      "state": {
       "description_width": ""
      }
     },
     "38312b59b8654940aefceb0bb86b0c5b": {
      "model_module": "@jupyter-widgets/controls",
      "model_module_version": "1.0.0",
      "model_name": "DescriptionStyleModel",
      "state": {
       "description_width": ""
      }
     },
     "385072533ffc43b1a224ccdb5f307e08": {
      "model_module": "@jupyter-widgets/controls",
      "model_module_version": "1.0.0",
      "model_name": "VBoxModel",
      "state": {
       "children": [
        "IPY_MODEL_41c6dda8f4a447f1a43564d90cf6f7c2",
        "IPY_MODEL_045d8cf251b24e7f9316de3189ec0e87",
        "IPY_MODEL_7512e5c0926b4b16bc0d3f365dc7082d"
       ],
       "layout": "IPY_MODEL_d56b13d9fa53471f879b8f8def03374c"
      }
     },
     "38d6c5a05bab4b3b9acd8c1ebb2b9968": {
      "model_module": "@jupyter-widgets/controls",
      "model_module_version": "1.0.0",
      "model_name": "DropdownModel",
      "state": {
       "_options_labels": [
        "None Selected",
        "Size Exclusion",
        "Anion Exchange",
        "Cation Exchange",
        "Polysorbate80",
        "Reverse Phase"
       ],
       "description": "Methodology",
       "index": 0,
       "layout": "IPY_MODEL_5fae8000c5074489b3cc8f73f9939d4e",
       "style": "IPY_MODEL_e475547ff907478180904af2ebda25ea"
      }
     },
     "38f5cc7095944f788be91c673ab9e1fd": {
      "model_module": "@jupyter-widgets/controls",
      "model_module_version": "1.0.0",
      "model_name": "DescriptionStyleModel",
      "state": {
       "description_width": "150px"
      }
     },
     "38f813e51b9e413683a20cba8166be27": {
      "model_module": "@jupyter-widgets/controls",
      "model_module_version": "1.0.0",
      "model_name": "DescriptionStyleModel",
      "state": {
       "description_width": ""
      }
     },
     "39197e8e41cb49068f191e602181a01d": {
      "model_module": "@jupyter-widgets/base",
      "model_module_version": "1.0.0",
      "model_name": "LayoutModel",
      "state": {}
     },
     "395170066c6745a48c172065ebf5279b": {
      "model_module": "@jupyter-widgets/base",
      "model_module_version": "1.0.0",
      "model_name": "LayoutModel",
      "state": {}
     },
     "39531790251344e2aed5ec48a3889f1c": {
      "model_module": "@jupyter-widgets/controls",
      "model_module_version": "1.0.0",
      "model_name": "DropdownModel",
      "state": {
       "_options_labels": [
        "None Selected",
        "Size Exclusion",
        "Anion Exchange",
        "Cation Exchange",
        "Polysorbate80",
        "Reverse Phase"
       ],
       "description": "Methodology",
       "index": 0,
       "layout": "IPY_MODEL_ff8f2f483abc478fbc6278cf8188a86e",
       "style": "IPY_MODEL_41881d0aad104156bc98a0a706f1bbd5"
      }
     },
     "397c3f2f807c46a9bb8f42914f5e610f": {
      "model_module": "@jupyter-widgets/base",
      "model_module_version": "1.0.0",
      "model_name": "LayoutModel",
      "state": {}
     },
     "3986f059c9b4497493b7d85411de4eda": {
      "model_module": "@jupyter-widgets/base",
      "model_module_version": "1.0.0",
      "model_name": "LayoutModel",
      "state": {}
     },
     "39cb06e71d5540018ef9f9c7805affed": {
      "model_module": "@jupyter-widgets/base",
      "model_module_version": "1.0.0",
      "model_name": "LayoutModel",
      "state": {
       "width": "350px"
      }
     },
     "3a6d4e796f494e3ea304f1521063ac74": {
      "model_module": "@jupyter-widgets/controls",
      "model_module_version": "1.0.0",
      "model_name": "DropdownModel",
      "state": {
       "_options_labels": [
        "None Selected",
        "CSL689",
        "CSL312",
        "CSL324",
        "CSL346",
        "CSL311",
        "CSL730"
       ],
       "description": "Project",
       "index": 0,
       "layout": "IPY_MODEL_5bfd4c2f71554bda825e93b8b65a669a",
       "style": "IPY_MODEL_c11a2ab34ed5485f98b4b1bf2d109420"
      }
     },
     "3aa471307ec1404cbbb014b0c90f4e20": {
      "model_module": "@jupyter-widgets/base",
      "model_module_version": "1.0.0",
      "model_name": "LayoutModel",
      "state": {
       "height": "200px",
       "width": "100%"
      }
     },
     "3ad12708b9af4caca17dcb5025331136": {
      "model_module": "@jupyter-widgets/controls",
      "model_module_version": "1.0.0",
      "model_name": "VBoxModel",
      "state": {
       "children": [
        "IPY_MODEL_3cd0de2e232b49078430ab13cc56b21b",
        "IPY_MODEL_7ac3dda752ec48a4a1425b5081b0ca9c",
        "IPY_MODEL_5668b16445404f7595a09cb9b60590ac"
       ],
       "layout": "IPY_MODEL_de67d581d5c44fa6a5305947eebc58a2"
      }
     },
     "3ae689a82f2d41c099455120978a2c83": {
      "model_module": "@jupyter-widgets/controls",
      "model_module_version": "1.0.0",
      "model_name": "DescriptionStyleModel",
      "state": {
       "description_width": ""
      }
     },
     "3b0190c979ae49d39f4d162e675d8103": {
      "model_module": "@jupyter-widgets/controls",
      "model_module_version": "1.0.0",
      "model_name": "HBoxModel",
      "state": {
       "children": [
        "IPY_MODEL_3d1bea791e0e440f87a0b92ac04d8f7c",
        "IPY_MODEL_958be916eb5e44e1b33aaa7c229a692f"
       ],
       "layout": "IPY_MODEL_2f3e42cf1da6485f9adbaadd17023000"
      }
     },
     "3b139351ad0748e3bc3adcce1fd20551": {
      "model_module": "@jupyter-widgets/base",
      "model_module_version": "1.0.0",
      "model_name": "LayoutModel",
      "state": {}
     },
     "3b3c7fbe540046a3825c521459afc10f": {
      "model_module": "@jupyter-widgets/controls",
      "model_module_version": "1.0.0",
      "model_name": "DatePickerModel",
      "state": {
       "description": "Analysis Date",
       "disabled": false,
       "layout": "IPY_MODEL_e1d39af67a4541bda9a641c93f6a8796",
       "style": "IPY_MODEL_1c4cb3564cb2425b81cd519c3bc26abc",
       "value": {
        "date": 3,
        "month": 0,
        "year": 2018
       }
      }
     },
     "3b858e052ebf46beaec897c86fa09b33": {
      "model_module": "@jupyter-widgets/controls",
      "model_module_version": "1.0.0",
      "model_name": "DescriptionStyleModel",
      "state": {
       "description_width": "initial"
      }
     },
     "3bb7765654844d709d03f5897b6d4a98": {
      "model_module": "@jupyter-widgets/controls",
      "model_module_version": "1.0.0",
      "model_name": "DescriptionStyleModel",
      "state": {
       "description_width": ""
      }
     },
     "3be109e307024833b0f49739cc898963": {
      "model_module": "@jupyter-widgets/controls",
      "model_module_version": "1.0.0",
      "model_name": "DescriptionStyleModel",
      "state": {
       "description_width": ""
      }
     },
     "3c4ed251a3664d94b9f3a7591221d093": {
      "model_module": "@jupyter-widgets/controls",
      "model_module_version": "1.0.0",
      "model_name": "DropdownModel",
      "state": {
       "_options_labels": [
        "None Selected",
        "CSL689",
        "CSL312",
        "CSL324",
        "CSL346",
        "CSL311",
        "CSL730"
       ],
       "description": "Project",
       "index": 0,
       "layout": "IPY_MODEL_046b42152ada47568dd7346a792ffb52",
       "style": "IPY_MODEL_3db4bf3533ef476298d0c1cd894651fd"
      }
     },
     "3c6704dbaf07454bb4599259d10523bc": {
      "model_module": "@jupyter-widgets/controls",
      "model_module_version": "1.0.0",
      "model_name": "VBoxModel",
      "state": {
       "children": [
        "IPY_MODEL_9dc44e1f409e407db6e32f27b6fcfbbe",
        "IPY_MODEL_a87ed983d2c2473492f29a616bd27b92",
        "IPY_MODEL_85fabc041823444ebc7944a26db39bde"
       ],
       "layout": "IPY_MODEL_b50908c6759a4b1995e2f9fca6ace7db"
      }
     },
     "3c8ce2dbe1cb4b7f9464daf7442fd84a": {
      "model_module": "@jupyter-widgets/controls",
      "model_module_version": "1.0.0",
      "model_name": "HBoxModel",
      "state": {
       "children": [
        "IPY_MODEL_4f75a9dd9ea44eb0a93618d99c7bf923",
        "IPY_MODEL_958be916eb5e44e1b33aaa7c229a692f"
       ],
       "layout": "IPY_MODEL_b2bae14e4f4c47ed93bdc510eb2da662"
      }
     },
     "3c929aee9fcc48419efce5301b5c56f7": {
      "model_module": "@jupyter-widgets/controls",
      "model_module_version": "1.0.0",
      "model_name": "HBoxModel",
      "state": {
       "children": [
        "IPY_MODEL_3d1bea791e0e440f87a0b92ac04d8f7c",
        "IPY_MODEL_958be916eb5e44e1b33aaa7c229a692f"
       ],
       "layout": "IPY_MODEL_f6bc1a9dbf4645f0b8079f7b0183568c"
      }
     },
     "3c9a52747ec84886946f3a4527abe49e": {
      "model_module": "@jupyter-widgets/base",
      "model_module_version": "1.0.0",
      "model_name": "LayoutModel",
      "state": {
       "width": "350px"
      }
     },
     "3cc97ba909bd4ed29f4f804f29f9941e": {
      "model_module": "@jupyter-widgets/base",
      "model_module_version": "1.0.0",
      "model_name": "LayoutModel",
      "state": {}
     },
     "3cd0de2e232b49078430ab13cc56b21b": {
      "model_module": "@jupyter-widgets/controls",
      "model_module_version": "1.0.0",
      "model_name": "DropdownModel",
      "state": {
       "_options_labels": [
        "None Selected",
        "CSL689",
        "CSL312",
        "CSL324",
        "CSL346",
        "CSL311",
        "CSL730"
       ],
       "description": "Project",
       "index": 0,
       "layout": "IPY_MODEL_3986f059c9b4497493b7d85411de4eda",
       "style": "IPY_MODEL_f1265c411d9149ae98fb087fe6dbc11b"
      }
     },
     "3ce6c1c39a3e4e949d4b785e5d735108": {
      "model_module": "@jupyter-widgets/controls",
      "model_module_version": "1.0.0",
      "model_name": "DescriptionStyleModel",
      "state": {
       "description_width": ""
      }
     },
     "3d1bea791e0e440f87a0b92ac04d8f7c": {
      "model_module": "@jupyter-widgets/controls",
      "model_module_version": "1.0.0",
      "model_name": "TextModel",
      "state": {
       "description": "ELN Name:",
       "layout": "IPY_MODEL_5a8b3f0ffb7644f28f061a4a052e309e",
       "placeholder": "Make selection from dropdowns",
       "style": "IPY_MODEL_c197f1aa3761470cabc01fc4042bd335",
       "value": "20180104_689_HPLC_SE"
      }
     },
     "3d5d87c142d44d279f4ca5952665b8be": {
      "model_module": "@jupyter-widgets/controls",
      "model_module_version": "1.0.0",
      "model_name": "HBoxModel",
      "state": {
       "children": [
        "IPY_MODEL_2d1c1b11536949959a5fb0a7c451d76c",
        "IPY_MODEL_958be916eb5e44e1b33aaa7c229a692f"
       ],
       "layout": "IPY_MODEL_86d76e4eddac423190323964daf0bffa"
      }
     },
     "3d7f400034f34f2ebc9a33b5b358a06b": {
      "model_module": "@jupyter-widgets/controls",
      "model_module_version": "1.0.0",
      "model_name": "DescriptionStyleModel",
      "state": {
       "description_width": ""
      }
     },
     "3d8338a0c5c64993904ddddf1aaedc9b": {
      "model_module": "@jupyter-widgets/controls",
      "model_module_version": "1.0.0",
      "model_name": "DescriptionStyleModel",
      "state": {
       "description_width": "150px"
      }
     },
     "3db4bf3533ef476298d0c1cd894651fd": {
      "model_module": "@jupyter-widgets/controls",
      "model_module_version": "1.0.0",
      "model_name": "DescriptionStyleModel",
      "state": {
       "description_width": ""
      }
     },
     "3df28f3394b64290988bd2dbf0a08352": {
      "model_module": "@jupyter-widgets/base",
      "model_module_version": "1.0.0",
      "model_name": "LayoutModel",
      "state": {}
     },
     "3e1f3a98078d416b8aa20c70cb952fbb": {
      "model_module": "@jupyter-widgets/controls",
      "model_module_version": "1.0.0",
      "model_name": "DropdownModel",
      "state": {
       "_options_labels": [
        "None Selected",
        "CSL689",
        "CSL312",
        "CSL324",
        "CSL346",
        "CSL311",
        "CSL730"
       ],
       "description": "Project",
       "index": 0,
       "layout": "IPY_MODEL_b3cbd25b25324f74875b3d790f4c66f7",
       "style": "IPY_MODEL_13ae1b7e93074a70b99021ceaef0c60c"
      }
     },
     "3ed090fcf53f467daf49d51decd79d1d": {
      "model_module": "@jupyter-widgets/base",
      "model_module_version": "1.0.0",
      "model_name": "LayoutModel",
      "state": {}
     },
     "3f3ad27bfa82442d95acc2b59b59365a": {
      "model_module": "@jupyter-widgets/base",
      "model_module_version": "1.0.0",
      "model_name": "LayoutModel",
      "state": {}
     },
     "3f8231427b014a69981f604ff68cb666": {
      "model_module": "@jupyter-widgets/controls",
      "model_module_version": "1.0.0",
      "model_name": "DropdownModel",
      "state": {
       "_options_labels": [
        "None Selected",
        "CSL689",
        "CSL312",
        "CSL324",
        "CSL346",
        "CSL311",
        "CSL730"
       ],
       "description": "Project",
       "index": 0,
       "layout": "IPY_MODEL_027e6404e548428dad128773ecf44198",
       "style": "IPY_MODEL_5c39344cb44a411c8addfe89c702a582"
      }
     },
     "405074d1ac394e209dd6ee31993c128b": {
      "model_module": "@jupyter-widgets/base",
      "model_module_version": "1.0.0",
      "model_name": "LayoutModel",
      "state": {}
     },
     "40700ff5f15e49db92bca6a2b0c42aff": {
      "model_module": "@jupyter-widgets/controls",
      "model_module_version": "1.0.0",
      "model_name": "DatePickerModel",
      "state": {
       "description": "Analysis Date",
       "disabled": false,
       "layout": "IPY_MODEL_a624860412544dd692f3f5ce843778f4",
       "style": "IPY_MODEL_8ea8cae760014d92a8a4f701b5662bef",
       "value": {
        "date": 4,
        "month": 0,
        "year": 2018
       }
      }
     },
     "40aa54fb47a644e0bc89581c5892d371": {
      "model_module": "@jupyter-widgets/base",
      "model_module_version": "1.0.0",
      "model_name": "LayoutModel",
      "state": {}
     },
     "4135877a0ba74447b43d9db7fe385391": {
      "model_module": "@jupyter-widgets/controls",
      "model_module_version": "1.0.0",
      "model_name": "DescriptionStyleModel",
      "state": {
       "description_width": ""
      }
     },
     "4172982215134b58bb60affb1705e186": {
      "model_module": "@jupyter-widgets/base",
      "model_module_version": "1.0.0",
      "model_name": "LayoutModel",
      "state": {
       "width": "350px"
      }
     },
     "41881d0aad104156bc98a0a706f1bbd5": {
      "model_module": "@jupyter-widgets/controls",
      "model_module_version": "1.0.0",
      "model_name": "DescriptionStyleModel",
      "state": {
       "description_width": "initial"
      }
     },
     "41c6dda8f4a447f1a43564d90cf6f7c2": {
      "model_module": "@jupyter-widgets/controls",
      "model_module_version": "1.0.0",
      "model_name": "DropdownModel",
      "state": {
       "_options_labels": [
        "None Selected",
        "CSL689",
        "CSL312",
        "CSL324",
        "CSL346",
        "CSL311",
        "CSL730"
       ],
       "description": "Project",
       "index": 1,
       "layout": "IPY_MODEL_1d2b790fe0eb4c5484d61f8afca8bab5",
       "style": "IPY_MODEL_b08b31992c014005a8594f477dfdf572"
      }
     },
     "420c14295ca14a65bed74ea246c2b879": {
      "model_module": "@jupyter-widgets/controls",
      "model_module_version": "1.0.0",
      "model_name": "DescriptionStyleModel",
      "state": {
       "description_width": ""
      }
     },
     "422dcc69ee3f49dd9e4fb900d00b935b": {
      "model_module": "@jupyter-widgets/controls",
      "model_module_version": "1.0.0",
      "model_name": "DropdownModel",
      "state": {
       "_options_labels": [
        "None Selected",
        "Size Exclusion",
        "Anion Exchange",
        "Cation Exchange",
        "Polysorbate80",
        "Reverse Phase"
       ],
       "description": "Methodology",
       "index": 0,
       "layout": "IPY_MODEL_5787ea6d5fa9467aae8501d0eb613424",
       "style": "IPY_MODEL_4ad276ddb68e418c81569f054cc87705"
      }
     },
     "4297213a124647cb8278807e90fd2f9e": {
      "model_module": "@jupyter-widgets/base",
      "model_module_version": "1.0.0",
      "model_name": "LayoutModel",
      "state": {
       "width": "350px"
      }
     },
     "42fa915c7c6848c3b4b70c4881003e6c": {
      "model_module": "@jupyter-widgets/controls",
      "model_module_version": "1.0.0",
      "model_name": "DropdownModel",
      "state": {
       "_options_labels": [
        "None Selected",
        "Size Exclusion",
        "Anion Exchange",
        "Cation Exchange",
        "Polysorbate80",
        "Reverse Phase"
       ],
       "description": "Methodology",
       "index": 0,
       "layout": "IPY_MODEL_dfcc1d827ce0484cb60bfda3566ffe06",
       "style": "IPY_MODEL_31408f9f888a4799b50c40be324c2535"
      }
     },
     "430115edda5b4940a8d84e1e0b1b7df2": {
      "model_module": "@jupyter-widgets/base",
      "model_module_version": "1.0.0",
      "model_name": "LayoutModel",
      "state": {}
     },
     "43bbc31811df49e7a29e3bb3aec25835": {
      "model_module": "@jupyter-widgets/base",
      "model_module_version": "1.0.0",
      "model_name": "LayoutModel",
      "state": {}
     },
     "43cdb86d0e944c95ada007147c194de6": {
      "model_module": "@jupyter-widgets/base",
      "model_module_version": "1.0.0",
      "model_name": "LayoutModel",
      "state": {
       "width": "350px"
      }
     },
     "44047a7ed859454f865037d433fdfd68": {
      "model_module": "@jupyter-widgets/controls",
      "model_module_version": "1.0.0",
      "model_name": "DropdownModel",
      "state": {
       "_options_labels": [
        "None Selected",
        "Size Exclusion",
        "Anion Exchange",
        "Cation Exchange",
        "Polysorbate80",
        "Reverse Phase"
       ],
       "description": "Methodology",
       "index": 0,
       "layout": "IPY_MODEL_30ffe3a2de404f9c97b679373a656ba0",
       "style": "IPY_MODEL_1e308f24a1a64d258886991ecf8cc357"
      }
     },
     "442570637f384e6a92505a0d708688b7": {
      "model_module": "@jupyter-widgets/controls",
      "model_module_version": "1.0.0",
      "model_name": "VBoxModel",
      "state": {
       "children": [
        "IPY_MODEL_3a6d4e796f494e3ea304f1521063ac74",
        "IPY_MODEL_628dd52ff7a74731a78aade5fd1b70b2",
        "IPY_MODEL_bc81497bd0fa46e4badf0788cfc5b863"
       ],
       "layout": "IPY_MODEL_70bcf59c6bc84781bb8b1ca995a02822"
      }
     },
     "44a5f59d3b214b4691cf561a9ef418a0": {
      "model_module": "@jupyter-widgets/controls",
      "model_module_version": "1.0.0",
      "model_name": "VBoxModel",
      "state": {
       "children": [
        "IPY_MODEL_64ca095075cd4753a07f813f5e80d866",
        "IPY_MODEL_442570637f384e6a92505a0d708688b7",
        "IPY_MODEL_333d648c2f694f108fe1736ca129249d"
       ],
       "layout": "IPY_MODEL_da5ff9d70b9a4d9d9cbdbd929c073ca2"
      }
     },
     "44abc1b438c54a039f894009ff3739fe": {
      "model_module": "@jupyter-widgets/controls",
      "model_module_version": "1.0.0",
      "model_name": "VBoxModel",
      "state": {
       "children": [
        "IPY_MODEL_40700ff5f15e49db92bca6a2b0c42aff",
        "IPY_MODEL_0c7a094922854a4ab0272c1064853c73",
        "IPY_MODEL_15627e9f15864b8cbce6f94872c6c6e1"
       ],
       "layout": "IPY_MODEL_e58657cac78d41f0a0b72f62f807dca0"
      }
     },
     "44ada19e445d4120abb0ed43a02b671c": {
      "model_module": "@jupyter-widgets/controls",
      "model_module_version": "1.0.0",
      "model_name": "DropdownModel",
      "state": {
       "_options_labels": [
        "None Selected",
        "TestSA"
       ],
       "description": "Cities",
       "index": 0,
       "layout": "IPY_MODEL_b09cb06898ee448185058de00e52a500",
       "style": "IPY_MODEL_54b2e37768ec4a3bab0f3eeba6f3b93c"
      }
     },
     "44baf8c3939b4793b8e627cd16c28618": {
      "model_module": "@jupyter-widgets/base",
      "model_module_version": "1.0.0",
      "model_name": "LayoutModel",
      "state": {}
     },
     "45bfb74557bd4eb5bd3a7df73caa3397": {
      "model_module": "@jupyter-widgets/controls",
      "model_module_version": "1.0.0",
      "model_name": "HBoxModel",
      "state": {
       "children": [
        "IPY_MODEL_4f75a9dd9ea44eb0a93618d99c7bf923",
        "IPY_MODEL_958be916eb5e44e1b33aaa7c229a692f"
       ],
       "layout": "IPY_MODEL_63941412c1734104b9f3dc69557dbbbf"
      }
     },
     "4620b69700a94ab9a92240c3909ac3ff": {
      "model_module": "@jupyter-widgets/controls",
      "model_module_version": "1.0.0",
      "model_name": "VBoxModel",
      "state": {
       "children": [
        "IPY_MODEL_3b3c7fbe540046a3825c521459afc10f",
        "IPY_MODEL_35180e7f3f374114b3c279c92c976b59",
        "IPY_MODEL_dea083a454704b01b4393a848daec5cf"
       ],
       "layout": "IPY_MODEL_430115edda5b4940a8d84e1e0b1b7df2"
      }
     },
     "478a61d808d5441ab34fe44bc457c5d9": {
      "model_module": "@jupyter-widgets/controls",
      "model_module_version": "1.0.0",
      "model_name": "DropdownModel",
      "state": {
       "_options_labels": [
        "None Selected",
        "CSL689",
        "CSL312",
        "CSL324",
        "CSL346",
        "CSL311",
        "CSL730"
       ],
       "description": "Project",
       "index": 0,
       "layout": "IPY_MODEL_d06dddfa70514beebd8a9828c2a8853b",
       "style": "IPY_MODEL_f010ce3b80d94a64a92fe25bd9bc4248"
      }
     },
     "47a7196716fe42e4b7efff41f057ffbe": {
      "model_module": "@jupyter-widgets/controls",
      "model_module_version": "1.0.0",
      "model_name": "DropdownModel",
      "state": {
       "_options_labels": [
        "None Selected",
        "CSL689",
        "CSL312",
        "CSL324",
        "CSL346",
        "CSL311",
        "CSL730"
       ],
       "description": "Project",
       "index": 0,
       "layout": "IPY_MODEL_24552d6519c44831b7a542875eb00e77",
       "style": "IPY_MODEL_b17e731cb76444e5817676f2047c2577"
      }
     },
     "47a8b473ee3e40cc851c3b0cb4aeeeb8": {
      "model_module": "@jupyter-widgets/base",
      "model_module_version": "1.0.0",
      "model_name": "LayoutModel",
      "state": {
       "width": "350px"
      }
     },
     "484a41e524b540bcb370db03f8bda385": {
      "model_module": "@jupyter-widgets/base",
      "model_module_version": "1.0.0",
      "model_name": "LayoutModel",
      "state": {}
     },
     "4881044c038a482dab62b6299e265280": {
      "model_module": "@jupyter-widgets/controls",
      "model_module_version": "1.0.0",
      "model_name": "DropdownModel",
      "state": {
       "_options_labels": [
        "None Selected",
        "High Pressue Liquid Chromatography",
        "Electrophoresis",
        "Cell-based",
        "Mass Spectrometry",
        "Polymerase Chain Reaction",
        "Potency / Interaction",
        "Crystallography",
        "Protein Concentration"
       ],
       "description": "Fundamental Technique",
       "index": 0,
       "layout": "IPY_MODEL_77bc26a5e45347d79ab34fb89c556880",
       "style": "IPY_MODEL_1c404f70bcff46ecb5fc74e72b47b6fd"
      }
     },
     "48b70cd5daff46d2918bd067ee0e7e27": {
      "model_module": "@jupyter-widgets/controls",
      "model_module_version": "1.0.0",
      "model_name": "DropdownModel",
      "state": {
       "_options_labels": [
        "None Selected",
        "CSL689",
        "CSL312",
        "CSL324",
        "CSL346",
        "CSL311",
        "CSL730"
       ],
       "description": "Project",
       "index": 0,
       "layout": "IPY_MODEL_8628745d9a284349882127dd1fee9a54",
       "style": "IPY_MODEL_364decec93fa4026aface52a1c0f1b29"
      }
     },
     "48f8cf8cf94c4907870eaa5d5a4bf87f": {
      "model_module": "@jupyter-widgets/controls",
      "model_module_version": "1.0.0",
      "model_name": "VBoxModel",
      "state": {
       "children": [
        "IPY_MODEL_40700ff5f15e49db92bca6a2b0c42aff",
        "IPY_MODEL_a0171e381c4043b8a2cfd587dc6772be",
        "IPY_MODEL_a711999167dd47f688892c6a7995b9ed"
       ],
       "layout": "IPY_MODEL_1b8f4049c1d14aec9cf6d4a14bfccd2a"
      }
     },
     "49472621c26b421fbd8658286d8875a4": {
      "model_module": "@jupyter-widgets/controls",
      "model_module_version": "1.0.0",
      "model_name": "HBoxModel",
      "state": {
       "children": [
        "IPY_MODEL_3d1bea791e0e440f87a0b92ac04d8f7c",
        "IPY_MODEL_958be916eb5e44e1b33aaa7c229a692f"
       ],
       "layout": "IPY_MODEL_39197e8e41cb49068f191e602181a01d"
      }
     },
     "49533ebce48d4fcea95b418b57846596": {
      "model_module": "@jupyter-widgets/controls",
      "model_module_version": "1.0.0",
      "model_name": "DescriptionStyleModel",
      "state": {
       "description_width": ""
      }
     },
     "498b861ef50444c1a567f1235d08fb46": {
      "model_module": "@jupyter-widgets/controls",
      "model_module_version": "1.0.0",
      "model_name": "DropdownModel",
      "state": {
       "_options_labels": [
        "None Selected",
        "CSL689",
        "CSL312",
        "CSL324",
        "CSL346",
        "CSL311",
        "CSL730"
       ],
       "description": "Project",
       "index": 0,
       "layout": "IPY_MODEL_c87883660b854e3baa1fa2521cee196f",
       "style": "IPY_MODEL_e7b6bd5ee0824f40b92d1a19d42c54b9"
      }
     },
     "4a004058a2df42efa60d46b084aa12a5": {
      "model_module": "@jupyter-widgets/controls",
      "model_module_version": "1.0.0",
      "model_name": "VBoxModel",
      "state": {
       "children": [
        "IPY_MODEL_f7d4cdbdfbe0495395049a20f1c801a6",
        "IPY_MODEL_af778db69c144907bd34105e23899b29",
        "IPY_MODEL_f7074f17524a4ebc959d66965a05698d"
       ],
       "layout": "IPY_MODEL_6bb81f31b56c41229856d233c872c670"
      }
     },
     "4a1f1328fbff402283b71578c19c4ad8": {
      "model_module": "@jupyter-widgets/controls",
      "model_module_version": "1.0.0",
      "model_name": "VBoxModel",
      "state": {
       "children": [
        "IPY_MODEL_3b3c7fbe540046a3825c521459afc10f",
        "IPY_MODEL_0c7a094922854a4ab0272c1064853c73",
        "IPY_MODEL_e3abd92d0de34e409c8e8725b1934b5f"
       ],
       "layout": "IPY_MODEL_b9852f6f4876487db925f7b2e416e821"
      }
     },
     "4ad276ddb68e418c81569f054cc87705": {
      "model_module": "@jupyter-widgets/controls",
      "model_module_version": "1.0.0",
      "model_name": "DescriptionStyleModel",
      "state": {
       "description_width": "150px"
      }
     },
     "4ae730486ad44c3abaa7159585dd2351": {
      "model_module": "@jupyter-widgets/base",
      "model_module_version": "1.0.0",
      "model_name": "LayoutModel",
      "state": {}
     },
     "4badb31b6fe14fcdba147a6e8301484a": {
      "model_module": "@jupyter-widgets/base",
      "model_module_version": "1.0.0",
      "model_name": "LayoutModel",
      "state": {
       "height": "200px",
       "width": "10%"
      }
     },
     "4c0fe8dfe0d344de8b1477a0fdff6dce": {
      "model_module": "@jupyter-widgets/controls",
      "model_module_version": "1.0.0",
      "model_name": "HBoxModel",
      "state": {
       "children": [
        "IPY_MODEL_3d1bea791e0e440f87a0b92ac04d8f7c",
        "IPY_MODEL_958be916eb5e44e1b33aaa7c229a692f"
       ],
       "layout": "IPY_MODEL_d3e82e9aa14c44898614e2a5f2aaaa89"
      }
     },
     "4c17d0d1072b471ca3f6134434bb7342": {
      "model_module": "@jupyter-widgets/controls",
      "model_module_version": "1.0.0",
      "model_name": "DescriptionStyleModel",
      "state": {
       "description_width": ""
      }
     },
     "4c5a2f55970747e38be05eb467f0f5fe": {
      "model_module": "@jupyter-widgets/controls",
      "model_module_version": "1.0.0",
      "model_name": "VBoxModel",
      "state": {
       "children": [
        "IPY_MODEL_f1d637ae43e44451baaa9675d4e669fc",
        "IPY_MODEL_9ae6ab8bcda242ff8f9ed5273915ab19",
        "IPY_MODEL_bec4c18fc6cf4aa1b0027c1789bad9e3"
       ],
       "layout": "IPY_MODEL_806119488f094bf680f3d5605f4b6d4e"
      }
     },
     "4d04fe7d9ae140d2a0dbcb8cb7c7ba1c": {
      "model_module": "@jupyter-widgets/controls",
      "model_module_version": "1.0.0",
      "model_name": "VBoxModel",
      "state": {
       "children": [
        "IPY_MODEL_3b3c7fbe540046a3825c521459afc10f",
        "IPY_MODEL_85b357ff847d49f1b870791387480607",
        "IPY_MODEL_7b9aa91dee5647ad82ea20c8cce3dda6"
       ],
       "layout": "IPY_MODEL_7a32b60b7fc44ed797f4ca885106b79a"
      }
     },
     "4d65a7456d8c484288fea41c6bbad91e": {
      "model_module": "@jupyter-widgets/controls",
      "model_module_version": "1.0.0",
      "model_name": "DescriptionStyleModel",
      "state": {
       "description_width": ""
      }
     },
     "4d85fe25ad994727aad39e191b8a4ff2": {
      "model_module": "@jupyter-widgets/controls",
      "model_module_version": "1.0.0",
      "model_name": "HBoxModel",
      "state": {
       "children": [
        "IPY_MODEL_a3e10cb5806b437398f01193b450a95d",
        "IPY_MODEL_526a52375ba141eaaaa8041413af5b67"
       ],
       "layout": "IPY_MODEL_f5555590d8a243908a585b1287c2eb62"
      }
     },
     "4de311e7db3b4bc2b7282800a06340e1": {
      "model_module": "@jupyter-widgets/controls",
      "model_module_version": "1.0.0",
      "model_name": "DescriptionStyleModel",
      "state": {
       "description_width": ""
      }
     },
     "4de4ab0964984c7aa9abfa222726720f": {
      "model_module": "@jupyter-widgets/controls",
      "model_module_version": "1.0.0",
      "model_name": "VBoxModel",
      "state": {
       "children": [
        "IPY_MODEL_3b3c7fbe540046a3825c521459afc10f",
        "IPY_MODEL_ec9c0d326eb04360a8562ff84be349ae",
        "IPY_MODEL_a7ac9cd65a6b415991770bff3e0b9bdc"
       ],
       "layout": "IPY_MODEL_63ca67a9121646aea3553976aad96de0"
      }
     },
     "4e2ae72d4a474a09a4c04a8a82e6d310": {
      "model_module": "@jupyter-widgets/base",
      "model_module_version": "1.0.0",
      "model_name": "LayoutModel",
      "state": {}
     },
     "4e68ea9fb63c4f49b40b78cafb075983": {
      "model_module": "@jupyter-widgets/base",
      "model_module_version": "1.0.0",
      "model_name": "LayoutModel",
      "state": {
       "width": "350px"
      }
     },
     "4eb6233ce6df443eab50499f728b8d0f": {
      "model_module": "@jupyter-widgets/controls",
      "model_module_version": "1.0.0",
      "model_name": "DropdownModel",
      "state": {
       "_options_labels": [
        "None Selected",
        "CSL689",
        "CSL312",
        "CSL324",
        "CSL346",
        "CSL311",
        "CSL730"
       ],
       "description": "Project",
       "index": 1,
       "layout": "IPY_MODEL_7c18472777ce4e3599c75140a6988c42",
       "style": "IPY_MODEL_5e93def62d7243c6b73b0579bb6bffb6"
      }
     },
     "4ed35d9398d447edb636e7f8bc53b8d3": {
      "model_module": "@jupyter-widgets/controls",
      "model_module_version": "1.0.0",
      "model_name": "HBoxModel",
      "state": {
       "children": [
        "IPY_MODEL_3d1bea791e0e440f87a0b92ac04d8f7c",
        "IPY_MODEL_958be916eb5e44e1b33aaa7c229a692f"
       ],
       "layout": "IPY_MODEL_ceacbac5e9ec453b9147489e328686f9"
      }
     },
     "4f101e71f1ab40038038454d547b9022": {
      "model_module": "@jupyter-widgets/base",
      "model_module_version": "1.0.0",
      "model_name": "LayoutModel",
      "state": {}
     },
     "4f75a9dd9ea44eb0a93618d99c7bf923": {
      "model_module": "@jupyter-widgets/controls",
      "model_module_version": "1.0.0",
      "model_name": "TextModel",
      "state": {
       "description": "ELN Name:",
       "layout": "IPY_MODEL_727183a66ff5423998c9dc2b3e888b34",
       "placeholder": "Make selection from dropdowns",
       "style": "IPY_MODEL_3d7f400034f34f2ebc9a33b5b358a06b",
       "value": "20180103_"
      }
     },
     "4fd37a35810945709998dc355e7179a2": {
      "model_module": "@jupyter-widgets/base",
      "model_module_version": "1.0.0",
      "model_name": "LayoutModel",
      "state": {
       "width": "350px"
      }
     },
     "4fe51d18419041fbbcc11ab4042584b8": {
      "model_module": "@jupyter-widgets/controls",
      "model_module_version": "1.0.0",
      "model_name": "DescriptionStyleModel",
      "state": {
       "description_width": ""
      }
     },
     "4ffdbb1f07f249bfb7b3a2a2114237e3": {
      "model_module": "@jupyter-widgets/controls",
      "model_module_version": "1.0.0",
      "model_name": "HBoxModel",
      "state": {
       "children": [
        "IPY_MODEL_4f75a9dd9ea44eb0a93618d99c7bf923",
        "IPY_MODEL_958be916eb5e44e1b33aaa7c229a692f"
       ],
       "layout": "IPY_MODEL_c4c3e93f7b5d45439fc8667606dc0232"
      }
     },
     "502cf34e35044689987b63235664e604": {
      "model_module": "@jupyter-widgets/controls",
      "model_module_version": "1.0.0",
      "model_name": "DescriptionStyleModel",
      "state": {
       "description_width": ""
      }
     },
     "509cf0252f6c49febed965561aeaa233": {
      "model_module": "@jupyter-widgets/base",
      "model_module_version": "1.0.0",
      "model_name": "LayoutModel",
      "state": {}
     },
     "50adeb1c8f2648a7b61da85f712ddab0": {
      "model_module": "@jupyter-widgets/controls",
      "model_module_version": "1.0.0",
      "model_name": "DescriptionStyleModel",
      "state": {
       "description_width": ""
      }
     },
     "514f8b9f37864fbeaa78198f34ee42ac": {
      "model_module": "@jupyter-widgets/controls",
      "model_module_version": "1.0.0",
      "model_name": "DescriptionStyleModel",
      "state": {
       "description_width": ""
      }
     },
     "51aa695658414267b400becc73d23d5f": {
      "model_module": "@jupyter-widgets/controls",
      "model_module_version": "1.0.0",
      "model_name": "DropdownModel",
      "state": {
       "_options_labels": [
        "None Selected",
        "High Pressue Liquid Chromatography",
        "Electrophoresis",
        "Cell-based",
        "Mass Spectrometry",
        "Polymerase Chain Reaction",
        "Potency / Interaction",
        "Crystallography",
        "Protein Concentration"
       ],
       "description": "Fundamental Technique",
       "index": 1,
       "layout": "IPY_MODEL_bd981fa9b35345f8ab683a9cac6e1700",
       "style": "IPY_MODEL_d4d9e7953d774efd86778bf9a841e8c6"
      }
     },
     "51cba2e0e835471ab42307c8b53e40a2": {
      "model_module": "@jupyter-widgets/base",
      "model_module_version": "1.0.0",
      "model_name": "LayoutModel",
      "state": {}
     },
     "51e7165b56bc4296824143970c4c61d9": {
      "model_module": "@jupyter-widgets/controls",
      "model_module_version": "1.0.0",
      "model_name": "DescriptionStyleModel",
      "state": {
       "description_width": "150px"
      }
     },
     "5218c323250d4213a77a99564250ab84": {
      "model_module": "@jupyter-widgets/base",
      "model_module_version": "1.0.0",
      "model_name": "LayoutModel",
      "state": {}
     },
     "526a52375ba141eaaaa8041413af5b67": {
      "model_module": "@jupyter-widgets/controls",
      "model_module_version": "1.0.0",
      "model_name": "ButtonModel",
      "state": {
       "description": "Copy to Clipboard",
       "icon": "paperclip",
       "layout": "IPY_MODEL_658a6b3dd7f04aaabfb29a561d05b413",
       "style": "IPY_MODEL_00832bcc88ed43f896d9f2e1cd9bc35c",
       "tooltip": "Copy to Clipboard"
      }
     },
     "527db92c1f2e4f5293b4dcd86a609a7c": {
      "model_module": "@jupyter-widgets/controls",
      "model_module_version": "1.0.0",
      "model_name": "DescriptionStyleModel",
      "state": {
       "description_width": ""
      }
     },
     "52e0c18105b74c9590f06bb1a94cdaa6": {
      "model_module": "@jupyter-widgets/controls",
      "model_module_version": "1.0.0",
      "model_name": "DropdownModel",
      "state": {
       "_options_labels": [
        "None Selected",
        "Africa",
        "North America",
        "South America"
       ],
       "description": "Project",
       "index": 0,
       "layout": "IPY_MODEL_2486ac960af744208fec22b1f4ac54cb",
       "style": "IPY_MODEL_66ecb359d5c74dc59c83a7ebc8b5c1ea"
      }
     },
     "52f27d60c9b843fdbcf4e1e6aea4f338": {
      "model_module": "@jupyter-widgets/controls",
      "model_module_version": "1.0.0",
      "model_name": "DescriptionStyleModel",
      "state": {
       "description_width": ""
      }
     },
     "5324f736f28c4c7fbd42d252aee59ef7": {
      "model_module": "@jupyter-widgets/controls",
      "model_module_version": "1.0.0",
      "model_name": "DropdownModel",
      "state": {
       "_options_labels": [
        "None Selected",
        "Size Exclusion",
        "Anion Exchange",
        "Cation Exchange",
        "Polysorbate80",
        "Reverse Phase"
       ],
       "description": "Methodology",
       "index": 0,
       "layout": "IPY_MODEL_b2b017f1910644a9b04959cc36c16823",
       "style": "IPY_MODEL_9f452a583ef8442892ae70819f563a0b"
      }
     },
     "53d058f97f6b4cdcaea7d38220f198ab": {
      "model_module": "@jupyter-widgets/base",
      "model_module_version": "1.0.0",
      "model_name": "LayoutModel",
      "state": {}
     },
     "54099d3eb3c0456b9bccd57b0f9dc8e9": {
      "model_module": "@jupyter-widgets/base",
      "model_module_version": "1.0.0",
      "model_name": "LayoutModel",
      "state": {}
     },
     "54ace2d85a5d49e58b96523bab9eaa87": {
      "model_module": "@jupyter-widgets/controls",
      "model_module_version": "1.0.0",
      "model_name": "DescriptionStyleModel",
      "state": {
       "description_width": ""
      }
     },
     "54b2e37768ec4a3bab0f3eeba6f3b93c": {
      "model_module": "@jupyter-widgets/controls",
      "model_module_version": "1.0.0",
      "model_name": "DescriptionStyleModel",
      "state": {
       "description_width": ""
      }
     },
     "54d99e87a7494b329902128dbfd89426": {
      "model_module": "@jupyter-widgets/controls",
      "model_module_version": "1.0.0",
      "model_name": "DescriptionStyleModel",
      "state": {
       "description_width": "150px"
      }
     },
     "54fdac8e6c704062896e32699d7c5c60": {
      "model_module": "@jupyter-widgets/controls",
      "model_module_version": "1.0.0",
      "model_name": "DropdownModel",
      "state": {
       "_options_labels": [
        "None Selected",
        "CSL689",
        "CSL312",
        "CSL324",
        "CSL346",
        "CSL311",
        "CSL730"
       ],
       "description": "Project",
       "index": 1,
       "layout": "IPY_MODEL_a91bbcf62a744993b033aa51fac03340",
       "style": "IPY_MODEL_d32793c114fd46e38d68fc2640c7d5cd"
      }
     },
     "54ff36abfbf5440a9689727cbd536600": {
      "model_module": "@jupyter-widgets/controls",
      "model_module_version": "1.0.0",
      "model_name": "DescriptionStyleModel",
      "state": {
       "description_width": ""
      }
     },
     "558dc95b641e437eb344ab1680b56414": {
      "model_module": "@jupyter-widgets/controls",
      "model_module_version": "1.0.0",
      "model_name": "VBoxModel",
      "state": {
       "children": [
        "IPY_MODEL_4eb6233ce6df443eab50499f728b8d0f",
        "IPY_MODEL_ab3c6d9dbaa7485da8af292c54c52e2d",
        "IPY_MODEL_81dc367f22dc49069903a681e892b9aa"
       ],
       "layout": "IPY_MODEL_c8970e65ceff4aa296f8d70f1aa916c8"
      }
     },
     "5597bd6db7c54531bf944caf9a85ce80": {
      "model_module": "@jupyter-widgets/controls",
      "model_module_version": "1.0.0",
      "model_name": "DescriptionStyleModel",
      "state": {
       "description_width": ""
      }
     },
     "55ce25da752f4a9a929af4a30daf7538": {
      "model_module": "@jupyter-widgets/controls",
      "model_module_version": "1.0.0",
      "model_name": "DropdownModel",
      "state": {
       "_options_labels": [
        "None Selected",
        "High Pressue Liquid Chromatography",
        "Electrophoresis",
        "Cell-based",
        "Mass Spectrometry",
        "Polymerase Chain Reaction",
        "Potency / Interaction",
        "Crystallography",
        "Protein Concentration"
       ],
       "description": "Fundamental Technique",
       "index": 0,
       "layout": "IPY_MODEL_bfb9560a391f4d4a8a14198cd85d75d8",
       "style": "IPY_MODEL_f3cb794e6e3c49409d71173243cbeed8"
      }
     },
     "55e4d49648f4486bb2bbc53588fc38f5": {
      "model_module": "@jupyter-widgets/controls",
      "model_module_version": "1.0.0",
      "model_name": "DropdownModel",
      "state": {
       "_options_labels": [
        "None Selected",
        "TestSA"
       ],
       "description": "Cities",
       "index": 0,
       "layout": "IPY_MODEL_1162eae9a026487da008370203ff457b",
       "style": "IPY_MODEL_bd7735e818074daaa68475ea7ecc17f7"
      }
     },
     "55e56e7502be4fc79a6bed6ee98fa78c": {
      "model_module": "@jupyter-widgets/base",
      "model_module_version": "1.0.0",
      "model_name": "LayoutModel",
      "state": {}
     },
     "561807739e0d477bbf22b968c43479b5": {
      "model_module": "@jupyter-widgets/controls",
      "model_module_version": "1.0.0",
      "model_name": "DescriptionStyleModel",
      "state": {
       "description_width": ""
      }
     },
     "5649f535d3624aaabcdf40dedf3b73b6": {
      "model_module": "@jupyter-widgets/base",
      "model_module_version": "1.0.0",
      "model_name": "LayoutModel",
      "state": {}
     },
     "5653ae44e02b4b2f9cd049a70c8890c5": {
      "model_module": "@jupyter-widgets/base",
      "model_module_version": "1.0.0",
      "model_name": "LayoutModel",
      "state": {
       "width": "350px"
      }
     },
     "5668b16445404f7595a09cb9b60590ac": {
      "model_module": "@jupyter-widgets/controls",
      "model_module_version": "1.0.0",
      "model_name": "DropdownModel",
      "state": {
       "_options_labels": [
        "None Selected",
        "Size Exclusion",
        "Anion Exchange",
        "Cation Exchange",
        "Polysorbate80",
        "Reverse Phase"
       ],
       "description": "Methodology",
       "index": 0,
       "layout": "IPY_MODEL_a42bda88c8ae4819ab06dcdce7fb68b8",
       "style": "IPY_MODEL_872470d7ec71486c93f2974fbcfb793e"
      }
     },
     "56bf688eec3b445e96e55878f8a49fa3": {
      "model_module": "@jupyter-widgets/base",
      "model_module_version": "1.0.0",
      "model_name": "LayoutModel",
      "state": {
       "width": "450px"
      }
     },
     "57219adff3d2485385489760866d24c3": {
      "model_module": "@jupyter-widgets/controls",
      "model_module_version": "1.0.0",
      "model_name": "DropdownModel",
      "state": {
       "_options_labels": [
        "None Selected",
        "CSL689",
        "CSL312",
        "CSL324",
        "CSL346",
        "CSL311",
        "CSL730"
       ],
       "description": "Project",
       "index": 0,
       "layout": "IPY_MODEL_61e9a564d9d0425db3853303d9a92981",
       "style": "IPY_MODEL_95095ded613d4f4dacbbdf8d0d525579"
      }
     },
     "575e5613b6034289a762455f46fcce38": {
      "model_module": "@jupyter-widgets/base",
      "model_module_version": "1.0.0",
      "model_name": "LayoutModel",
      "state": {}
     },
     "5787ea6d5fa9467aae8501d0eb613424": {
      "model_module": "@jupyter-widgets/base",
      "model_module_version": "1.0.0",
      "model_name": "LayoutModel",
      "state": {
       "width": "450px"
      }
     },
     "58896ce9113f46258eb4fec8bb40c95a": {
      "model_module": "@jupyter-widgets/base",
      "model_module_version": "1.0.0",
      "model_name": "LayoutModel",
      "state": {}
     },
     "58f53dca6e3e4a7b9e3260c3805c1cfc": {
      "model_module": "@jupyter-widgets/controls",
      "model_module_version": "1.0.0",
      "model_name": "DropdownModel",
      "state": {
       "_options_labels": [
        "None Selected",
        "High Pressue Liquid Chromatography",
        "Electrophoresis",
        "Cell-based",
        "Mass Spectrometry",
        "Polymerase Chain Reaction",
        "Potency / Interaction",
        "Crystallography",
        "Protein Concentration"
       ],
       "description": "Fundamental Technique",
       "index": 0,
       "layout": "IPY_MODEL_5e7dcc6a22a04cc38823719c0bc217c4",
       "style": "IPY_MODEL_7e3defb8335c4482b7cec5134dcbfa44"
      }
     },
     "59584cc5673045f6b7991a624d96361b": {
      "model_module": "@jupyter-widgets/controls",
      "model_module_version": "1.0.0",
      "model_name": "VBoxModel",
      "state": {
       "children": [
        "IPY_MODEL_40700ff5f15e49db92bca6a2b0c42aff",
        "IPY_MODEL_0c7a094922854a4ab0272c1064853c73",
        "IPY_MODEL_01c8a842ce164e1787e9fbe88373da99"
       ],
       "layout": "IPY_MODEL_83b9a932a6b049119a54fd66d959f0cd"
      }
     },
     "59a6b6f2bcde46eba08fe5616abbd80f": {
      "model_module": "@jupyter-widgets/controls",
      "model_module_version": "1.0.0",
      "model_name": "VBoxModel",
      "state": {
       "children": [
        "IPY_MODEL_3b3c7fbe540046a3825c521459afc10f",
        "IPY_MODEL_ec9c0d326eb04360a8562ff84be349ae",
        "IPY_MODEL_cebe41681f214dca9fa7ef75044e2710"
       ],
       "layout": "IPY_MODEL_d3f3c2b56bc7452680beafc2c3ec2679"
      }
     },
     "59cd55bcb7b14024bf5f700e1147de78": {
      "model_module": "@jupyter-widgets/base",
      "model_module_version": "1.0.0",
      "model_name": "LayoutModel",
      "state": {}
     },
     "59e32039cb4c437cb6547d648ca319ee": {
      "model_module": "@jupyter-widgets/controls",
      "model_module_version": "1.0.0",
      "model_name": "DescriptionStyleModel",
      "state": {
       "description_width": ""
      }
     },
     "5a8b3f0ffb7644f28f061a4a052e309e": {
      "model_module": "@jupyter-widgets/base",
      "model_module_version": "1.0.0",
      "model_name": "LayoutModel",
      "state": {
       "width": "350px"
      }
     },
     "5ac398773bef44018f94348055bca359": {
      "model_module": "@jupyter-widgets/controls",
      "model_module_version": "1.0.0",
      "model_name": "DropdownModel",
      "state": {
       "_options_labels": [
        "None Selected",
        "Africa",
        "North America",
        "South America"
       ],
       "description": "Project",
       "index": 0,
       "layout": "IPY_MODEL_2d1ba54fa090448d876610196d5af41a",
       "style": "IPY_MODEL_b8e1585b39b3490ba47c58438c50c63d"
      }
     },
     "5b04cb38efe74dd79446851065e44bdb": {
      "model_module": "@jupyter-widgets/base",
      "model_module_version": "1.0.0",
      "model_name": "LayoutModel",
      "state": {}
     },
     "5b489250c4c44432aed14267f2e8d7b3": {
      "model_module": "@jupyter-widgets/controls",
      "model_module_version": "1.0.0",
      "model_name": "DescriptionStyleModel",
      "state": {
       "description_width": "150px"
      }
     },
     "5bda2ad800d04733ad95ceb9d135c994": {
      "model_module": "@jupyter-widgets/controls",
      "model_module_version": "1.0.0",
      "model_name": "VBoxModel",
      "state": {
       "children": [
        "IPY_MODEL_64ca095075cd4753a07f813f5e80d866",
        "IPY_MODEL_60d3b0b4aa584569892ed7cc7bacc604",
        "IPY_MODEL_4d85fe25ad994727aad39e191b8a4ff2"
       ],
       "layout": "IPY_MODEL_55e56e7502be4fc79a6bed6ee98fa78c"
      }
     },
     "5bfd4c2f71554bda825e93b8b65a669a": {
      "model_module": "@jupyter-widgets/base",
      "model_module_version": "1.0.0",
      "model_name": "LayoutModel",
      "state": {
       "width": "450px"
      }
     },
     "5c0504a85a4e4bd1856e008ed26e1f4b": {
      "model_module": "@jupyter-widgets/base",
      "model_module_version": "1.0.0",
      "model_name": "LayoutModel",
      "state": {}
     },
     "5c39344cb44a411c8addfe89c702a582": {
      "model_module": "@jupyter-widgets/controls",
      "model_module_version": "1.0.0",
      "model_name": "DescriptionStyleModel",
      "state": {
       "description_width": ""
      }
     },
     "5cad426dd7ab4ed9888e4e33f82679b7": {
      "model_module": "@jupyter-widgets/controls",
      "model_module_version": "1.0.0",
      "model_name": "DropdownModel",
      "state": {
       "_options_labels": [
        "None Selected",
        "Size Exclusion",
        "Anion Exchange",
        "Cation Exchange",
        "Polysorbate80",
        "Reverse Phase"
       ],
       "description": "Methodology",
       "index": 0,
       "layout": "IPY_MODEL_1596e2a870f84d25b05fbf33455cee10",
       "style": "IPY_MODEL_c28d779520cd434ca3b08a690dbe660e"
      }
     },
     "5ce49f418b5f4607a0c831e8583c1931": {
      "model_module": "@jupyter-widgets/controls",
      "model_module_version": "1.0.0",
      "model_name": "VBoxModel",
      "state": {
       "children": [
        "IPY_MODEL_3b3c7fbe540046a3825c521459afc10f",
        "IPY_MODEL_ec9c0d326eb04360a8562ff84be349ae",
        "IPY_MODEL_c3849bbe709940c4952ff2a284730b7b"
       ],
       "layout": "IPY_MODEL_e48b0625fa034aa5880084f95e2bfad2"
      }
     },
     "5d039a0e2eb3495d905aa1c587ef9c97": {
      "model_module": "@jupyter-widgets/controls",
      "model_module_version": "1.0.0",
      "model_name": "DropdownModel",
      "state": {
       "_options_labels": [
        "None Selected",
        "CSL689",
        "CSL312",
        "CSL324",
        "CSL346",
        "CSL311",
        "CSL730"
       ],
       "description": "Project",
       "index": 1,
       "layout": "IPY_MODEL_f9c0c7023dc042a3a40d7c5b6011b7e2",
       "style": "IPY_MODEL_d792fe7512e149ee8e268be6836157ce"
      }
     },
     "5d82cc17ece940b29bc5cc0ae3c76579": {
      "model_module": "@jupyter-widgets/controls",
      "model_module_version": "1.0.0",
      "model_name": "DropdownModel",
      "state": {
       "_options_labels": [
        "None Selected",
        "South Africa",
        "Rwanda",
        "Uganda",
        "Ethiopia"
       ],
       "description": "Countries",
       "index": 0,
       "layout": "IPY_MODEL_6ee053869ce044a1b93c199c75d7127b",
       "style": "IPY_MODEL_49533ebce48d4fcea95b418b57846596"
      }
     },
     "5d9b87eba24a44dda2ea24578b521ad5": {
      "model_module": "@jupyter-widgets/controls",
      "model_module_version": "1.0.0",
      "model_name": "DescriptionStyleModel",
      "state": {
       "description_width": "150px"
      }
     },
     "5de193c1f85e4a03b0cdf9f5cea429e6": {
      "model_module": "@jupyter-widgets/controls",
      "model_module_version": "1.0.0",
      "model_name": "VBoxModel",
      "state": {
       "children": [
        "IPY_MODEL_3b3c7fbe540046a3825c521459afc10f",
        "IPY_MODEL_79e0d95deed748a08c13333fcec948c2",
        "IPY_MODEL_c2ac5e46e5b9484ebcc8c766e3de4948"
       ],
       "layout": "IPY_MODEL_7f1acd92de9b4c5bbe8dd588f4cd84f6"
      }
     },
     "5e7dcc6a22a04cc38823719c0bc217c4": {
      "model_module": "@jupyter-widgets/base",
      "model_module_version": "1.0.0",
      "model_name": "LayoutModel",
      "state": {
       "height": "20px",
       "width": "250px"
      }
     },
     "5e93def62d7243c6b73b0579bb6bffb6": {
      "model_module": "@jupyter-widgets/controls",
      "model_module_version": "1.0.0",
      "model_name": "DescriptionStyleModel",
      "state": {
       "description_width": ""
      }
     },
     "5f3e3a4b14ed496cab3359696b2058b6": {
      "model_module": "@jupyter-widgets/base",
      "model_module_version": "1.0.0",
      "model_name": "LayoutModel",
      "state": {}
     },
     "5f69cf87a2fb47f39821cf2379de40fb": {
      "model_module": "@jupyter-widgets/controls",
      "model_module_version": "1.0.0",
      "model_name": "DropdownModel",
      "state": {
       "_options_labels": [
        "None Selected",
        "Size Exclusion",
        "Anion Exchange",
        "Cation Exchange",
        "Polysorbate80",
        "Reverse Phase"
       ],
       "description": "Methodology",
       "index": 0,
       "layout": "IPY_MODEL_956ce8492d024120a474bc918464a75f",
       "style": "IPY_MODEL_b940cd36245243489682c8df14a45644"
      }
     },
     "5fae8000c5074489b3cc8f73f9939d4e": {
      "model_module": "@jupyter-widgets/base",
      "model_module_version": "1.0.0",
      "model_name": "LayoutModel",
      "state": {
       "width": "350px"
      }
     },
     "60d3b0b4aa584569892ed7cc7bacc604": {
      "model_module": "@jupyter-widgets/controls",
      "model_module_version": "1.0.0",
      "model_name": "VBoxModel",
      "state": {
       "children": [
        "IPY_MODEL_9c3a7d33ebb34e6693f83e11385487ae",
        "IPY_MODEL_aaddc0a9ac7243238d7925213957664d",
        "IPY_MODEL_a66d24612d094d79bcf1304e85389a71"
       ],
       "layout": "IPY_MODEL_fcb6be56b2a84098958e42f2fbbb8312"
      }
     },
     "6147edf40cf64cc694bbc8da1041cc51": {
      "model_module": "@jupyter-widgets/controls",
      "model_module_version": "1.0.0",
      "model_name": "DescriptionStyleModel",
      "state": {
       "description_width": ""
      }
     },
     "6175dd590f304fb19b350db07c5d0322": {
      "model_module": "@jupyter-widgets/controls",
      "model_module_version": "1.0.0",
      "model_name": "DescriptionStyleModel",
      "state": {
       "description_width": ""
      }
     },
     "6188ed76b119425aa45f4d6a7f6b9ef0": {
      "model_module": "@jupyter-widgets/controls",
      "model_module_version": "1.0.0",
      "model_name": "DescriptionStyleModel",
      "state": {
       "description_width": ""
      }
     },
     "61b7ec82eaf8414b83e4a20f3b0c740d": {
      "model_module": "@jupyter-widgets/base",
      "model_module_version": "1.0.0",
      "model_name": "LayoutModel",
      "state": {
       "width": "450px"
      }
     },
     "61dea8c008b1418791b4b5704914076b": {
      "model_module": "@jupyter-widgets/base",
      "model_module_version": "1.0.0",
      "model_name": "LayoutModel",
      "state": {}
     },
     "61e9a564d9d0425db3853303d9a92981": {
      "model_module": "@jupyter-widgets/base",
      "model_module_version": "1.0.0",
      "model_name": "LayoutModel",
      "state": {
       "width": "350px"
      }
     },
     "6215fb72a0b94541993ba973f01e4677": {
      "model_module": "@jupyter-widgets/controls",
      "model_module_version": "1.0.0",
      "model_name": "DescriptionStyleModel",
      "state": {
       "description_width": ""
      }
     },
     "628dd52ff7a74731a78aade5fd1b70b2": {
      "model_module": "@jupyter-widgets/controls",
      "model_module_version": "1.0.0",
      "model_name": "DropdownModel",
      "state": {
       "_options_labels": [
        "None Selected",
        "High Pressue Liquid Chromatography",
        "Electrophoresis",
        "Cell-based",
        "Mass Spectrometry",
        "Polymerase Chain Reaction",
        "Potency / Interaction",
        "Crystallography",
        "Protein Concentration"
       ],
       "description": "Fundamental Technique",
       "index": 0,
       "layout": "IPY_MODEL_83559ad777874e02bd0ac06831a41070",
       "style": "IPY_MODEL_a1f3508b869346c58c128e273254b225"
      }
     },
     "62b860b6f21f41b4bb139a897d4ef365": {
      "model_module": "@jupyter-widgets/base",
      "model_module_version": "1.0.0",
      "model_name": "LayoutModel",
      "state": {}
     },
     "62bf6caf05e94f249f4368db3b6dc886": {
      "model_module": "@jupyter-widgets/base",
      "model_module_version": "1.0.0",
      "model_name": "LayoutModel",
      "state": {}
     },
     "62d299ca812546dab92aebca3062b435": {
      "model_module": "@jupyter-widgets/base",
      "model_module_version": "1.0.0",
      "model_name": "LayoutModel",
      "state": {}
     },
     "635d895282024389b23a79db2dca3d48": {
      "model_module": "@jupyter-widgets/controls",
      "model_module_version": "1.0.0",
      "model_name": "DropdownModel",
      "state": {
       "_options_labels": [
        "None Selected",
        "High Pressue Liquid Chromatography",
        "Electrophoresis",
        "Cell-based",
        "Mass Spectrometry",
        "Polymerase Chain Reaction",
        "Potency / Interaction",
        "Crystallography",
        "Protein Concentration"
       ],
       "description": "Fundamental Technique",
       "index": 0,
       "layout": "IPY_MODEL_e22ba96f2b7f4fd0a9cc538efe6d2a43",
       "style": "IPY_MODEL_5d9b87eba24a44dda2ea24578b521ad5"
      }
     },
     "63941412c1734104b9f3dc69557dbbbf": {
      "model_module": "@jupyter-widgets/base",
      "model_module_version": "1.0.0",
      "model_name": "LayoutModel",
      "state": {}
     },
     "63b2f73cd0634aa2b10c406843b57634": {
      "model_module": "@jupyter-widgets/base",
      "model_module_version": "1.0.0",
      "model_name": "LayoutModel",
      "state": {}
     },
     "63ca67a9121646aea3553976aad96de0": {
      "model_module": "@jupyter-widgets/base",
      "model_module_version": "1.0.0",
      "model_name": "LayoutModel",
      "state": {}
     },
     "640984448c524f78a15691c9043a186e": {
      "model_module": "@jupyter-widgets/controls",
      "model_module_version": "1.0.0",
      "model_name": "DropdownModel",
      "state": {
       "_options_labels": [
        "None Selected",
        "High Pressue Liquid Chromatography",
        "Electrophoresis",
        "Cell-based",
        "Mass Spectrometry",
        "Polymerase Chain Reaction",
        "Potency / Interaction",
        "Crystallography",
        "Protein Concentration"
       ],
       "description": "Fundamental Technique",
       "index": 0,
       "layout": "IPY_MODEL_10e744f6ebed441399ee334b606e7321",
       "style": "IPY_MODEL_527db92c1f2e4f5293b4dcd86a609a7c"
      }
     },
     "64ca095075cd4753a07f813f5e80d866": {
      "model_module": "@jupyter-widgets/controls",
      "model_module_version": "1.0.0",
      "model_name": "DatePickerModel",
      "state": {
       "description": "Analysis Date",
       "disabled": false,
       "layout": "IPY_MODEL_2db84501bdbf42609e8561234ef9f893",
       "style": "IPY_MODEL_373406c3d9394d48b688c8e37611d00e",
       "value": {
        "date": 5,
        "month": 0,
        "year": 2018
       }
      }
     },
     "64ca6938a6464a62926086f10497840d": {
      "model_module": "@jupyter-widgets/controls",
      "model_module_version": "1.0.0",
      "model_name": "DropdownModel",
      "state": {
       "_options_labels": [
        "None Selected",
        "Size Exclusion",
        "Anion Exchange",
        "Cation Exchange",
        "Polysorbate80",
        "Reverse Phase"
       ],
       "description": "Methodology",
       "index": 0,
       "layout": "IPY_MODEL_4297213a124647cb8278807e90fd2f9e",
       "style": "IPY_MODEL_561807739e0d477bbf22b968c43479b5"
      }
     },
     "64da673cd0294cc79caf460c47c25531": {
      "model_module": "@jupyter-widgets/base",
      "model_module_version": "1.0.0",
      "model_name": "LayoutModel",
      "state": {}
     },
     "658a6b3dd7f04aaabfb29a561d05b413": {
      "model_module": "@jupyter-widgets/base",
      "model_module_version": "1.0.0",
      "model_name": "LayoutModel",
      "state": {}
     },
     "6594eb27b3d242e3acf2a65c6517d009": {
      "model_module": "@jupyter-widgets/base",
      "model_module_version": "1.0.0",
      "model_name": "LayoutModel",
      "state": {
       "width": "350px"
      }
     },
     "65b03823fe084fe99f6457fbf64601c9": {
      "model_module": "@jupyter-widgets/controls",
      "model_module_version": "1.0.0",
      "model_name": "DropdownModel",
      "state": {
       "_options_labels": [
        "None Selected",
        "High Pressue Liquid Chromatography",
        "Electrophoresis",
        "Cell-based",
        "Mass Spectrometry",
        "Polymerase Chain Reaction",
        "Potency / Interaction",
        "Crystallography",
        "Protein Concentration"
       ],
       "description": "Fundamental Technique",
       "index": 1,
       "layout": "IPY_MODEL_778abe1a651346a288feb5dbebf04eb0",
       "style": "IPY_MODEL_4fe51d18419041fbbcc11ab4042584b8"
      }
     },
     "65bb779651984dc7ba6c262af39fc496": {
      "model_module": "@jupyter-widgets/base",
      "model_module_version": "1.0.0",
      "model_name": "LayoutModel",
      "state": {}
     },
     "65d27920a6e04871b7bb9edb2b6b552c": {
      "model_module": "@jupyter-widgets/controls",
      "model_module_version": "1.0.0",
      "model_name": "DescriptionStyleModel",
      "state": {
       "description_width": "350px"
      }
     },
     "6642427e6a454b529b525aedaca2b777": {
      "model_module": "@jupyter-widgets/base",
      "model_module_version": "1.0.0",
      "model_name": "LayoutModel",
      "state": {}
     },
     "6677981683dd40c9ba76ed9180362198": {
      "model_module": "@jupyter-widgets/base",
      "model_module_version": "1.0.0",
      "model_name": "LayoutModel",
      "state": {}
     },
     "66c283dcd80645b6a63182223ec1029f": {
      "model_module": "@jupyter-widgets/controls",
      "model_module_version": "1.0.0",
      "model_name": "HBoxModel",
      "state": {
       "children": [
        "IPY_MODEL_3d1bea791e0e440f87a0b92ac04d8f7c",
        "IPY_MODEL_958be916eb5e44e1b33aaa7c229a692f"
       ],
       "layout": "IPY_MODEL_f2ef4ccdad34446b96674bef6842a4a7"
      }
     },
     "66ecb359d5c74dc59c83a7ebc8b5c1ea": {
      "model_module": "@jupyter-widgets/controls",
      "model_module_version": "1.0.0",
      "model_name": "DescriptionStyleModel",
      "state": {
       "description_width": ""
      }
     },
     "6702aa9f5c894957b0a0b4e0e539ae93": {
      "model_module": "@jupyter-widgets/base",
      "model_module_version": "1.0.0",
      "model_name": "LayoutModel",
      "state": {}
     },
     "675e5f54998842fabe4c86edcf020298": {
      "model_module": "@jupyter-widgets/base",
      "model_module_version": "1.0.0",
      "model_name": "LayoutModel",
      "state": {
       "width": "350px"
      }
     },
     "67f88b93afbc4f6e8fbd3c9232ddf52a": {
      "model_module": "@jupyter-widgets/base",
      "model_module_version": "1.0.0",
      "model_name": "LayoutModel",
      "state": {}
     },
     "69542fd8ef3d48f29c85bedf78425389": {
      "model_module": "@jupyter-widgets/controls",
      "model_module_version": "1.0.0",
      "model_name": "DropdownModel",
      "state": {
       "_options_labels": [
        "None Selected",
        "High Pressue Liquid Chromatography",
        "Electrophoresis",
        "Cell-based",
        "Mass Spectrometry",
        "Polymerase Chain Reaction",
        "Potency / Interaction",
        "Crystallography",
        "Protein Concentration"
       ],
       "description": "Fundamental Technique",
       "index": 0,
       "layout": "IPY_MODEL_f555ba7425aa43b69d280a7f743faf9e",
       "style": "IPY_MODEL_59e32039cb4c437cb6547d648ca319ee"
      }
     },
     "69b051664cf34e0a869df3d3fcf5e3da": {
      "model_module": "@jupyter-widgets/base",
      "model_module_version": "1.0.0",
      "model_name": "LayoutModel",
      "state": {
       "width": "350px"
      }
     },
     "6a7f2d702cf9454f9b0218ca3bcb5c6e": {
      "model_module": "@jupyter-widgets/base",
      "model_module_version": "1.0.0",
      "model_name": "LayoutModel",
      "state": {
       "height": "200px",
       "width": "100px"
      }
     },
     "6aedc700c4284e77a72eff56eef2185b": {
      "model_module": "@jupyter-widgets/controls",
      "model_module_version": "1.0.0",
      "model_name": "HBoxModel",
      "state": {
       "children": [
        "IPY_MODEL_3d1bea791e0e440f87a0b92ac04d8f7c",
        "IPY_MODEL_958be916eb5e44e1b33aaa7c229a692f"
       ],
       "layout": "IPY_MODEL_c75aac45c3b44f538b1cf1d4f455bfe8"
      }
     },
     "6bb81f31b56c41229856d233c872c670": {
      "model_module": "@jupyter-widgets/base",
      "model_module_version": "1.0.0",
      "model_name": "LayoutModel",
      "state": {}
     },
     "6be9ba41b6b24625a25bc0678a9e72d2": {
      "model_module": "@jupyter-widgets/base",
      "model_module_version": "1.0.0",
      "model_name": "LayoutModel",
      "state": {
       "width": "350px"
      }
     },
     "6bfdcdc8c8a54d7f8a45035b77e896c9": {
      "model_module": "@jupyter-widgets/controls",
      "model_module_version": "1.0.0",
      "model_name": "VBoxModel",
      "state": {
       "children": [
        "IPY_MODEL_3b3c7fbe540046a3825c521459afc10f",
        "IPY_MODEL_ec9c0d326eb04360a8562ff84be349ae",
        "IPY_MODEL_45bfb74557bd4eb5bd3a7df73caa3397"
       ],
       "layout": "IPY_MODEL_2dc2cfd9762a4945945a2babb456523a"
      }
     },
     "6c0fd03d09704fa1a6c63ff0e63d1619": {
      "model_module": "@jupyter-widgets/controls",
      "model_module_version": "1.0.0",
      "model_name": "VBoxModel",
      "state": {
       "children": [
        "IPY_MODEL_fb5a983d628849b8a0bf645df371cc27",
        "IPY_MODEL_ba2e830da9cc4c8c8de08f6ab8f29d92",
        "IPY_MODEL_a9b747bd28e24018950dbd4feeaff42a"
       ],
       "layout": "IPY_MODEL_24cd914e7d274b05adb599cf9f735ef6"
      }
     },
     "6c30c671b26a40db8465358b4d307174": {
      "model_module": "@jupyter-widgets/controls",
      "model_module_version": "1.0.0",
      "model_name": "DropdownModel",
      "state": {
       "_options_labels": [
        "None Selected",
        "High Pressue Liquid Chromatography",
        "Electrophoresis",
        "Cell-based",
        "Mass Spectrometry",
        "Polymerase Chain Reaction",
        "Potency / Interaction",
        "Crystallography",
        "Protein Concentration"
       ],
       "description": "Fundamental Technique",
       "index": 0,
       "layout": "IPY_MODEL_8273970638174b24abfafd22d8147f2b",
       "style": "IPY_MODEL_182f545768444257ab4da4aa29b26870"
      }
     },
     "6c5db2e711f5450d9a789e09b194aa43": {
      "model_module": "@jupyter-widgets/controls",
      "model_module_version": "1.0.0",
      "model_name": "DescriptionStyleModel",
      "state": {
       "description_width": "110px"
      }
     },
     "6c81ce9032d244259e5300ca21b8ff74": {
      "model_module": "@jupyter-widgets/controls",
      "model_module_version": "1.0.0",
      "model_name": "DropdownModel",
      "state": {
       "_options_labels": [
        "None Selected",
        "High Pressue Liquid Chromatography",
        "Electrophoresis",
        "Cell-based",
        "Mass Spectrometry",
        "Polymerase Chain Reaction",
        "Potency / Interaction",
        "Crystallography",
        "Protein Concentration"
       ],
       "description": "Fundamental Technique",
       "index": 0,
       "layout": "IPY_MODEL_d1d63ff9b2ef4bcbbdac9dc93a6f338d",
       "style": "IPY_MODEL_fcda104a2b6444ab99c2537d61a76fbd"
      }
     },
     "6ca97caf063d4e31a15e71ea4998ea3f": {
      "model_module": "@jupyter-widgets/controls",
      "model_module_version": "1.0.0",
      "model_name": "DropdownModel",
      "state": {
       "_options_labels": [
        "None Selected",
        "Size Exclusion",
        "Anion Exchange",
        "Cation Exchange",
        "Polysorbate80",
        "Reverse Phase"
       ],
       "description": "Methodology",
       "index": 0,
       "layout": "IPY_MODEL_11d627520f9c44e3a7fe8433527f7697",
       "style": "IPY_MODEL_e327044d2a2b40148febd343fcc63674"
      }
     },
     "6d240e1b3745480f9fd21ab46772a3ec": {
      "model_module": "@jupyter-widgets/controls",
      "model_module_version": "1.0.0",
      "model_name": "DescriptionStyleModel",
      "state": {
       "description_width": "150px"
      }
     },
     "6e8cd70d54464560b5427d5c18071ca5": {
      "model_module": "@jupyter-widgets/base",
      "model_module_version": "1.0.0",
      "model_name": "LayoutModel",
      "state": {}
     },
     "6ea9e8d1a79a41d3b4401e878764bcca": {
      "model_module": "@jupyter-widgets/base",
      "model_module_version": "1.0.0",
      "model_name": "LayoutModel",
      "state": {}
     },
     "6ee053869ce044a1b93c199c75d7127b": {
      "model_module": "@jupyter-widgets/base",
      "model_module_version": "1.0.0",
      "model_name": "LayoutModel",
      "state": {}
     },
     "6f4fc4d65fef42fca23535db12da00ec": {
      "model_module": "@jupyter-widgets/base",
      "model_module_version": "1.0.0",
      "model_name": "LayoutModel",
      "state": {}
     },
     "6fa5520bf0d440a18dbbf1437129606f": {
      "model_module": "@jupyter-widgets/controls",
      "model_module_version": "1.0.0",
      "model_name": "VBoxModel",
      "state": {
       "children": [
        "IPY_MODEL_40700ff5f15e49db92bca6a2b0c42aff",
        "IPY_MODEL_558dc95b641e437eb344ab1680b56414",
        "IPY_MODEL_4ed35d9398d447edb636e7f8bc53b8d3"
       ],
       "layout": "IPY_MODEL_ac254262b02a498eb3855088d7e5a3a4"
      }
     },
     "7054bf3e1c1447e88ccc7562db8a13c2": {
      "model_module": "@jupyter-widgets/base",
      "model_module_version": "1.0.0",
      "model_name": "LayoutModel",
      "state": {}
     },
     "70bcf59c6bc84781bb8b1ca995a02822": {
      "model_module": "@jupyter-widgets/base",
      "model_module_version": "1.0.0",
      "model_name": "LayoutModel",
      "state": {}
     },
     "7258a29a02de41f89d291162955be801": {
      "model_module": "@jupyter-widgets/controls",
      "model_module_version": "1.0.0",
      "model_name": "DropdownModel",
      "state": {
       "_options_labels": [
        "None Selected",
        "High Pressue Liquid Chromatography",
        "Electrophoresis",
        "Cell-based",
        "Mass Spectrometry",
        "Polymerase Chain Reaction",
        "Potency / Interaction",
        "Crystallography",
        "Protein Concentration"
       ],
       "description": "Fundamental Technique",
       "index": 0,
       "layout": "IPY_MODEL_b99e8d7dcdb6496f8a090a448bd34b34",
       "style": "IPY_MODEL_50adeb1c8f2648a7b61da85f712ddab0"
      }
     },
     "727183a66ff5423998c9dc2b3e888b34": {
      "model_module": "@jupyter-widgets/base",
      "model_module_version": "1.0.0",
      "model_name": "LayoutModel",
      "state": {}
     },
     "72f4f6854acd42b69f756c0f3ea27101": {
      "model_module": "@jupyter-widgets/base",
      "model_module_version": "1.0.0",
      "model_name": "LayoutModel",
      "state": {
       "width": "350px"
      }
     },
     "7365a181a18f42aa88401827583f21a9": {
      "model_module": "@jupyter-widgets/controls",
      "model_module_version": "1.0.0",
      "model_name": "VBoxModel",
      "state": {
       "children": [
        "IPY_MODEL_40700ff5f15e49db92bca6a2b0c42aff",
        "IPY_MODEL_c1b1b8455b1644f185f4b4e8ad06b750",
        "IPY_MODEL_1f6b6de238a84d21a0eec685c3f87b01"
       ],
       "layout": "IPY_MODEL_df83ee9668a04ba2a860e5c37d66bae3"
      }
     },
     "741404b0132d4afe9d6c582f4df94838": {
      "model_module": "@jupyter-widgets/controls",
      "model_module_version": "1.0.0",
      "model_name": "DropdownModel",
      "state": {
       "_options_labels": [
        "None Selected",
        "Size Exclusion",
        "Anion Exchange",
        "Cation Exchange",
        "Polysorbate80",
        "Reverse Phase"
       ],
       "description": "Methodology",
       "index": 0,
       "layout": "IPY_MODEL_0c48329e875b47f6a5a8d80f866613a0",
       "style": "IPY_MODEL_514f8b9f37864fbeaa78198f34ee42ac"
      }
     },
     "7416d5f04a8146b983ba7b54abfc0dfc": {
      "model_module": "@jupyter-widgets/controls",
      "model_module_version": "1.0.0",
      "model_name": "VBoxModel",
      "state": {
       "children": [
        "IPY_MODEL_40700ff5f15e49db92bca6a2b0c42aff",
        "IPY_MODEL_d58c9d1526a54f8087d67230abdfaa3d",
        "IPY_MODEL_9446dc97be7b403e993f9562e4b99cb4"
       ],
       "layout": "IPY_MODEL_fe9e0d7631b34bdcbe842ccde90fc545"
      }
     },
     "74ab8efa15594e8fa4122f2a9f4a449e": {
      "model_module": "@jupyter-widgets/base",
      "model_module_version": "1.0.0",
      "model_name": "LayoutModel",
      "state": {}
     },
     "74bda55f5a214028a39320b551500800": {
      "model_module": "@jupyter-widgets/base",
      "model_module_version": "1.0.0",
      "model_name": "LayoutModel",
      "state": {
       "width": "350px"
      }
     },
     "74e2dd2c3fb84633bbdb2b1373a3c3d4": {
      "model_module": "@jupyter-widgets/base",
      "model_module_version": "1.0.0",
      "model_name": "LayoutModel",
      "state": {}
     },
     "7512e5c0926b4b16bc0d3f365dc7082d": {
      "model_module": "@jupyter-widgets/controls",
      "model_module_version": "1.0.0",
      "model_name": "DropdownModel",
      "state": {
       "_options_labels": [
        "None Selected",
        "Size Exclusion",
        "Anion Exchange",
        "Cation Exchange",
        "Polysorbate80",
        "Reverse Phase"
       ],
       "description": "Methodology",
       "index": 1,
       "layout": "IPY_MODEL_008d6377010e4ce9bf510134855262fe",
       "style": "IPY_MODEL_2f1817d9dba44f16ac5235ddb66ab290"
      }
     },
     "75ab186228954a369c1c0f1903875f3f": {
      "model_module": "@jupyter-widgets/controls",
      "model_module_version": "1.0.0",
      "model_name": "HBoxModel",
      "state": {
       "children": [
        "IPY_MODEL_4f75a9dd9ea44eb0a93618d99c7bf923",
        "IPY_MODEL_958be916eb5e44e1b33aaa7c229a692f"
       ],
       "layout": "IPY_MODEL_44baf8c3939b4793b8e627cd16c28618"
      }
     },
     "75ef1e18a8b441f78ef393fdfdac45c5": {
      "model_module": "@jupyter-widgets/controls",
      "model_module_version": "1.0.0",
      "model_name": "DropdownModel",
      "state": {
       "_options_labels": [
        "None Selected",
        "CSL689",
        "CSL312",
        "CSL324",
        "CSL346",
        "CSL311",
        "CSL730"
       ],
       "description": "Project",
       "index": 0,
       "layout": "IPY_MODEL_2ecf9799e9a64f4ebbc0258a3fbe0a1d",
       "style": "IPY_MODEL_d1101825636a4373aac49e39b7d6ad97"
      }
     },
     "760a87394d8a49ceacbc08d3363f9691": {
      "model_module": "@jupyter-widgets/base",
      "model_module_version": "1.0.0",
      "model_name": "LayoutModel",
      "state": {}
     },
     "7660cda10b0748b396d74a1ee2e97386": {
      "model_module": "@jupyter-widgets/controls",
      "model_module_version": "1.0.0",
      "model_name": "DescriptionStyleModel",
      "state": {
       "description_width": ""
      }
     },
     "767e04f32c804f6bbdea1b726d21de53": {
      "model_module": "@jupyter-widgets/controls",
      "model_module_version": "1.0.0",
      "model_name": "DescriptionStyleModel",
      "state": {
       "description_width": ""
      }
     },
     "7748f365bf1d42799d903d5859ed495d": {
      "model_module": "@jupyter-widgets/controls",
      "model_module_version": "1.0.0",
      "model_name": "VBoxModel",
      "state": {
       "children": [
        "IPY_MODEL_40700ff5f15e49db92bca6a2b0c42aff",
        "IPY_MODEL_0c7a094922854a4ab0272c1064853c73",
        "IPY_MODEL_0088ba77d3074713bc78b66ec2457e3c"
       ],
       "layout": "IPY_MODEL_803858f181414a33ac7d4c1797788026"
      }
     },
     "778052f4089548ca952d917967b8b079": {
      "model_module": "@jupyter-widgets/controls",
      "model_module_version": "1.0.0",
      "model_name": "DescriptionStyleModel",
      "state": {
       "description_width": ""
      }
     },
     "778abe1a651346a288feb5dbebf04eb0": {
      "model_module": "@jupyter-widgets/base",
      "model_module_version": "1.0.0",
      "model_name": "LayoutModel",
      "state": {
       "width": "350px"
      }
     },
     "77bc26a5e45347d79ab34fb89c556880": {
      "model_module": "@jupyter-widgets/base",
      "model_module_version": "1.0.0",
      "model_name": "LayoutModel",
      "state": {
       "width": "350px"
      }
     },
     "78046ff0ce7c42599a87413978426eed": {
      "model_module": "@jupyter-widgets/base",
      "model_module_version": "1.0.0",
      "model_name": "LayoutModel",
      "state": {}
     },
     "780a1b8b352948d9a4af85f4b364041d": {
      "model_module": "@jupyter-widgets/base",
      "model_module_version": "1.0.0",
      "model_name": "LayoutModel",
      "state": {}
     },
     "781cce6f111647eb81ba47f89499cf58": {
      "model_module": "@jupyter-widgets/controls",
      "model_module_version": "1.0.0",
      "model_name": "VBoxModel",
      "state": {
       "children": [
        "IPY_MODEL_40700ff5f15e49db92bca6a2b0c42aff",
        "IPY_MODEL_0c7a094922854a4ab0272c1064853c73",
        "IPY_MODEL_7cd731fdade04f43855bcbc975b85049"
       ],
       "layout": "IPY_MODEL_a3334ea3d26845edb2fed0df2410a4f6"
      }
     },
     "78596fa6698b4c66ad7186c731c7ed98": {
      "model_module": "@jupyter-widgets/controls",
      "model_module_version": "1.0.0",
      "model_name": "VBoxModel",
      "state": {
       "children": [
        "IPY_MODEL_3b3c7fbe540046a3825c521459afc10f",
        "IPY_MODEL_18be79141bb140d4b9d05da32a4ad100",
        "IPY_MODEL_aeac05a433b34012b8bada74aee06f92"
       ],
       "layout": "IPY_MODEL_13957336d01044ccaea662d633b7df2f"
      }
     },
     "78e1b5cf6cd34009bdb64f1b72267c4f": {
      "model_module": "@jupyter-widgets/controls",
      "model_module_version": "1.0.0",
      "model_name": "HBoxModel",
      "state": {
       "children": [
        "IPY_MODEL_3d1bea791e0e440f87a0b92ac04d8f7c",
        "IPY_MODEL_958be916eb5e44e1b33aaa7c229a692f"
       ],
       "layout": "IPY_MODEL_0f3ffd838b2543f2b4e049d589c309f5"
      }
     },
     "78e723cd2af142a28e8e2b5cc337bcdc": {
      "model_module": "@jupyter-widgets/controls",
      "model_module_version": "1.0.0",
      "model_name": "DescriptionStyleModel",
      "state": {
       "description_width": ""
      }
     },
     "79b51ba65d97497aa72de2c1026e39a4": {
      "model_module": "@jupyter-widgets/controls",
      "model_module_version": "1.0.0",
      "model_name": "DescriptionStyleModel",
      "state": {
       "description_width": "150px"
      }
     },
     "79bc78af4db94a5e81b9b2e460ea9319": {
      "model_module": "@jupyter-widgets/base",
      "model_module_version": "1.0.0",
      "model_name": "LayoutModel",
      "state": {
       "width": "350px"
      }
     },
     "79e0d95deed748a08c13333fcec948c2": {
      "model_module": "@jupyter-widgets/controls",
      "model_module_version": "1.0.0",
      "model_name": "VBoxModel",
      "state": {
       "children": [
        "IPY_MODEL_fbf82c7b896a48c9b037d86b645d4106",
        "IPY_MODEL_eb390f8def5b4e1a81fd597288d93669",
        "IPY_MODEL_e4181c90c58d41a4bb64de7b55de4136"
       ],
       "layout": "IPY_MODEL_a7c6f4f61b974466ba25c2f75d45ed63"
      }
     },
     "7a32b60b7fc44ed797f4ca885106b79a": {
      "model_module": "@jupyter-widgets/base",
      "model_module_version": "1.0.0",
      "model_name": "LayoutModel",
      "state": {}
     },
     "7ac3dda752ec48a4a1425b5081b0ca9c": {
      "model_module": "@jupyter-widgets/controls",
      "model_module_version": "1.0.0",
      "model_name": "DropdownModel",
      "state": {
       "_options_labels": [
        "None Selected",
        "High Pressue Liquid Chromatography",
        "Electrophoresis",
        "Cell-based",
        "Mass Spectrometry",
        "Polymerase Chain Reaction",
        "Potency / Interaction",
        "Crystallography",
        "Protein Concentration"
       ],
       "description": "Fundamental Technique",
       "index": 0,
       "layout": "IPY_MODEL_08e4411b917e417fbf017fc686323155",
       "style": "IPY_MODEL_b3c05d53f0004a5788f3171f17332587"
      }
     },
     "7b01073ed76e4bd1bd00fe7b88479be5": {
      "model_module": "@jupyter-widgets/base",
      "model_module_version": "1.0.0",
      "model_name": "LayoutModel",
      "state": {}
     },
     "7b9aa91dee5647ad82ea20c8cce3dda6": {
      "model_module": "@jupyter-widgets/controls",
      "model_module_version": "1.0.0",
      "model_name": "HBoxModel",
      "state": {
       "children": [
        "IPY_MODEL_4f75a9dd9ea44eb0a93618d99c7bf923",
        "IPY_MODEL_958be916eb5e44e1b33aaa7c229a692f"
       ],
       "layout": "IPY_MODEL_62d299ca812546dab92aebca3062b435"
      }
     },
     "7bbbc10ce44848859705ee6cf6294199": {
      "model_module": "@jupyter-widgets/controls",
      "model_module_version": "1.0.0",
      "model_name": "DescriptionStyleModel",
      "state": {
       "description_width": ""
      }
     },
     "7be7125745dd42bc9d79264e0c75bdd3": {
      "model_module": "@jupyter-widgets/controls",
      "model_module_version": "1.0.0",
      "model_name": "VBoxModel",
      "state": {
       "children": [
        "IPY_MODEL_40700ff5f15e49db92bca6a2b0c42aff",
        "IPY_MODEL_0c7a094922854a4ab0272c1064853c73",
        "IPY_MODEL_ddf92f056f964fffaa24a8742b7ff52d"
       ],
       "layout": "IPY_MODEL_0d81341144e04e8ca04472e6fe7aedb5"
      }
     },
     "7c18472777ce4e3599c75140a6988c42": {
      "model_module": "@jupyter-widgets/base",
      "model_module_version": "1.0.0",
      "model_name": "LayoutModel",
      "state": {
       "width": "350px"
      }
     },
     "7cd731fdade04f43855bcbc975b85049": {
      "model_module": "@jupyter-widgets/controls",
      "model_module_version": "1.0.0",
      "model_name": "HBoxModel",
      "state": {
       "children": [
        "IPY_MODEL_3d1bea791e0e440f87a0b92ac04d8f7c",
        "IPY_MODEL_958be916eb5e44e1b33aaa7c229a692f"
       ],
       "layout": "IPY_MODEL_32c9984e395241c1bb205c831df7f0d9"
      }
     },
     "7e007048153c4b9388c61cbe19ef7692": {
      "model_module": "@jupyter-widgets/controls",
      "model_module_version": "1.0.0",
      "model_name": "DescriptionStyleModel",
      "state": {
       "description_width": ""
      }
     },
     "7e3defb8335c4482b7cec5134dcbfa44": {
      "model_module": "@jupyter-widgets/controls",
      "model_module_version": "1.0.0",
      "model_name": "DescriptionStyleModel",
      "state": {
       "description_width": ""
      }
     },
     "7e4910ff5cc6492f9fb428e942646be7": {
      "model_module": "@jupyter-widgets/controls",
      "model_module_version": "1.0.0",
      "model_name": "DescriptionStyleModel",
      "state": {
       "description_width": ""
      }
     },
     "7e8bb62bc6904de1978dc4b5811e9333": {
      "model_module": "@jupyter-widgets/base",
      "model_module_version": "1.0.0",
      "model_name": "LayoutModel",
      "state": {}
     },
     "7f1acd92de9b4c5bbe8dd588f4cd84f6": {
      "model_module": "@jupyter-widgets/base",
      "model_module_version": "1.0.0",
      "model_name": "LayoutModel",
      "state": {}
     },
     "7f32b33fd1df4d21b8aa4e2773e8ec91": {
      "model_module": "@jupyter-widgets/controls",
      "model_module_version": "1.0.0",
      "model_name": "DropdownModel",
      "state": {
       "_options_labels": [
        "None Selected",
        "Size Exclusion",
        "Anion Exchange",
        "Cation Exchange",
        "Polysorbate80",
        "Reverse Phase"
       ],
       "description": "Methodology",
       "index": 0,
       "layout": "IPY_MODEL_5653ae44e02b4b2f9cd049a70c8890c5",
       "style": "IPY_MODEL_6175dd590f304fb19b350db07c5d0322"
      }
     },
     "7fe62be7ce2c4b059cac9edd8140e61c": {
      "model_module": "@jupyter-widgets/base",
      "model_module_version": "1.0.0",
      "model_name": "LayoutModel",
      "state": {}
     },
     "7fefbbff3a0545c68d0c5c49ef751f89": {
      "model_module": "@jupyter-widgets/base",
      "model_module_version": "1.0.0",
      "model_name": "LayoutModel",
      "state": {
       "width": "450px"
      }
     },
     "803858f181414a33ac7d4c1797788026": {
      "model_module": "@jupyter-widgets/base",
      "model_module_version": "1.0.0",
      "model_name": "LayoutModel",
      "state": {}
     },
     "806119488f094bf680f3d5605f4b6d4e": {
      "model_module": "@jupyter-widgets/base",
      "model_module_version": "1.0.0",
      "model_name": "LayoutModel",
      "state": {}
     },
     "8094958169ed4c4b9865f97f729bad80": {
      "model_module": "@jupyter-widgets/controls",
      "model_module_version": "1.0.0",
      "model_name": "VBoxModel",
      "state": {
       "children": [
        "IPY_MODEL_3b3c7fbe540046a3825c521459afc10f",
        "IPY_MODEL_c30d666b1580445fa6428aafaffadde5",
        "IPY_MODEL_945527ea415044fe921fe3eb1b121ed7"
       ],
       "layout": "IPY_MODEL_5c0504a85a4e4bd1856e008ed26e1f4b"
      }
     },
     "816b1feac41d434a89ff87d4bee8b1a9": {
      "model_module": "@jupyter-widgets/controls",
      "model_module_version": "1.0.0",
      "model_name": "DropdownModel",
      "state": {
       "_options_labels": [
        "None Selected",
        "Size Exclusion",
        "Anion Exchange",
        "Cation Exchange",
        "Polysorbate80",
        "Reverse Phase"
       ],
       "description": "Methodology",
       "index": 0,
       "layout": "IPY_MODEL_8eeecc1944be4ddcbb78735a21c8c9cb",
       "style": "IPY_MODEL_a0486ae60af542228d6b0979693296e5"
      }
     },
     "81a37ef5d478410684f0e32474b5f963": {
      "model_module": "@jupyter-widgets/controls",
      "model_module_version": "1.0.0",
      "model_name": "DescriptionStyleModel",
      "state": {
       "description_width": "150px"
      }
     },
     "81b6b1befa36494b98972b8ad1ce25ba": {
      "model_module": "@jupyter-widgets/base",
      "model_module_version": "1.0.0",
      "model_name": "LayoutModel",
      "state": {}
     },
     "81dc367f22dc49069903a681e892b9aa": {
      "model_module": "@jupyter-widgets/controls",
      "model_module_version": "1.0.0",
      "model_name": "DropdownModel",
      "state": {
       "_options_labels": [
        "None Selected",
        "Size Exclusion",
        "Anion Exchange",
        "Cation Exchange",
        "Polysorbate80",
        "Reverse Phase"
       ],
       "description": "Methodology",
       "index": 1,
       "layout": "IPY_MODEL_2c550460ee63466e80eb14ea3f131c0e",
       "style": "IPY_MODEL_1aa1d5b8a6d34a5fac42f02dceac5ca7"
      }
     },
     "8273970638174b24abfafd22d8147f2b": {
      "model_module": "@jupyter-widgets/base",
      "model_module_version": "1.0.0",
      "model_name": "LayoutModel",
      "state": {
       "height": "20px",
       "width": "350px"
      }
     },
     "8286f738a6a84213b3cd8f8cda08316c": {
      "model_module": "@jupyter-widgets/controls",
      "model_module_version": "1.0.0",
      "model_name": "HBoxModel",
      "state": {
       "children": [
        "IPY_MODEL_4f75a9dd9ea44eb0a93618d99c7bf923",
        "IPY_MODEL_958be916eb5e44e1b33aaa7c229a692f"
       ],
       "layout": "IPY_MODEL_a7e823ad7e6842bd8ee0d4e92ee2a1b9"
      }
     },
     "82cd18bb8c974d4594ad163f113516ce": {
      "model_module": "@jupyter-widgets/controls",
      "model_module_version": "1.0.0",
      "model_name": "VBoxModel",
      "state": {
       "children": [
        "IPY_MODEL_19d6e14125004dfb8e9959acb2c4d69a",
        "IPY_MODEL_b717b59839754a9890240499fbdfff13",
        "IPY_MODEL_44047a7ed859454f865037d433fdfd68"
       ],
       "layout": "IPY_MODEL_99c33564a8ff45e69180f7c96d39c190"
      }
     },
     "8321b9d4ad4f4144a3396674f4c7b941": {
      "model_module": "@jupyter-widgets/base",
      "model_module_version": "1.0.0",
      "model_name": "LayoutModel",
      "state": {
       "width": "350px"
      }
     },
     "83559ad777874e02bd0ac06831a41070": {
      "model_module": "@jupyter-widgets/base",
      "model_module_version": "1.0.0",
      "model_name": "LayoutModel",
      "state": {
       "width": "450px"
      }
     },
     "83b9a932a6b049119a54fd66d959f0cd": {
      "model_module": "@jupyter-widgets/base",
      "model_module_version": "1.0.0",
      "model_name": "LayoutModel",
      "state": {}
     },
     "83ddf8ccaf5e405d8ee7e321739cd2e6": {
      "model_module": "@jupyter-widgets/base",
      "model_module_version": "1.0.0",
      "model_name": "LayoutModel",
      "state": {}
     },
     "8409a4fa70dd47469def7f23885b3f91": {
      "model_module": "@jupyter-widgets/controls",
      "model_module_version": "1.0.0",
      "model_name": "HBoxModel",
      "state": {
       "children": [
        "IPY_MODEL_4f75a9dd9ea44eb0a93618d99c7bf923",
        "IPY_MODEL_958be916eb5e44e1b33aaa7c229a692f"
       ],
       "layout": "IPY_MODEL_037d0d4feff64b56be43f7ea7aab503f"
      }
     },
     "844698370bc647a7b228377f41a180e7": {
      "model_module": "@jupyter-widgets/controls",
      "model_module_version": "1.0.0",
      "model_name": "DescriptionStyleModel",
      "state": {
       "description_width": ""
      }
     },
     "84f7b5deb89446969310f86885605f51": {
      "model_module": "@jupyter-widgets/base",
      "model_module_version": "1.0.0",
      "model_name": "LayoutModel",
      "state": {
       "height": "100px",
       "width": "100%"
      }
     },
     "85b357ff847d49f1b870791387480607": {
      "model_module": "@jupyter-widgets/controls",
      "model_module_version": "1.0.0",
      "model_name": "VBoxModel",
      "state": {
       "children": [
        "IPY_MODEL_1a3e823e336847eab720c65350e6321a",
        "IPY_MODEL_b4384ceca49f4fa3950edee7480884b6",
        "IPY_MODEL_816b1feac41d434a89ff87d4bee8b1a9"
       ],
       "layout": "IPY_MODEL_b52cc575e4844461abf560c6c5f801c1"
      }
     },
     "85fabc041823444ebc7944a26db39bde": {
      "model_module": "@jupyter-widgets/controls",
      "model_module_version": "1.0.0",
      "model_name": "DropdownModel",
      "state": {
       "_options_labels": [
        "None Selected",
        "Size Exclusion",
        "Anion Exchange",
        "Cation Exchange",
        "Polysorbate80",
        "Reverse Phase"
       ],
       "description": "Methodology",
       "index": 1,
       "layout": "IPY_MODEL_61b7ec82eaf8414b83e4a20f3b0c740d",
       "style": "IPY_MODEL_6d240e1b3745480f9fd21ab46772a3ec"
      }
     },
     "8628745d9a284349882127dd1fee9a54": {
      "model_module": "@jupyter-widgets/base",
      "model_module_version": "1.0.0",
      "model_name": "LayoutModel",
      "state": {
       "width": "450px"
      }
     },
     "8663ac4226124a348efe62aad530f713": {
      "model_module": "@jupyter-widgets/controls",
      "model_module_version": "1.0.0",
      "model_name": "DropdownModel",
      "state": {
       "_options_labels": [
        "None Selected",
        "High Pressue Liquid Chromatography",
        "Electrophoresis",
        "Cell-based",
        "Mass Spectrometry",
        "Polymerase Chain Reaction",
        "Potency / Interaction",
        "Crystallography",
        "Protein Concentration"
       ],
       "description": "Fundamental Technique",
       "index": 0,
       "layout": "IPY_MODEL_86c265ffaf05483c8cce7f871970c0bb",
       "style": "IPY_MODEL_a77523269a954ce5b6cf429edc6e49b8"
      }
     },
     "8692dedc98014c8fa9430ca0e36101dc": {
      "model_module": "@jupyter-widgets/controls",
      "model_module_version": "1.0.0",
      "model_name": "DescriptionStyleModel",
      "state": {
       "description_width": "initial"
      }
     },
     "869f4deb10844384bd932cd1fae05487": {
      "model_module": "@jupyter-widgets/controls",
      "model_module_version": "1.0.0",
      "model_name": "DescriptionStyleModel",
      "state": {
       "description_width": "150px"
      }
     },
     "86c265ffaf05483c8cce7f871970c0bb": {
      "model_module": "@jupyter-widgets/base",
      "model_module_version": "1.0.0",
      "model_name": "LayoutModel",
      "state": {
       "width": "350px"
      }
     },
     "86d76e4eddac423190323964daf0bffa": {
      "model_module": "@jupyter-widgets/base",
      "model_module_version": "1.0.0",
      "model_name": "LayoutModel",
      "state": {}
     },
     "870fc822de2d4d90939309cee18242f7": {
      "model_module": "@jupyter-widgets/controls",
      "model_module_version": "1.0.0",
      "model_name": "DescriptionStyleModel",
      "state": {
       "description_width": "initial"
      }
     },
     "872470d7ec71486c93f2974fbcfb793e": {
      "model_module": "@jupyter-widgets/controls",
      "model_module_version": "1.0.0",
      "model_name": "DescriptionStyleModel",
      "state": {
       "description_width": ""
      }
     },
     "87314f545b5245b2bbeba59b7e6366b2": {
      "model_module": "@jupyter-widgets/base",
      "model_module_version": "1.0.0",
      "model_name": "LayoutModel",
      "state": {}
     },
     "87e07091e22a4de6b9315afe9cb9ac46": {
      "model_module": "@jupyter-widgets/controls",
      "model_module_version": "1.0.0",
      "model_name": "DropdownModel",
      "state": {
       "_options_labels": [
        "None Selected",
        "CSL689",
        "CSL312",
        "CSL324",
        "CSL346",
        "CSL311",
        "CSL730"
       ],
       "description": "Project",
       "index": 0,
       "layout": "IPY_MODEL_69b051664cf34e0a869df3d3fcf5e3da",
       "style": "IPY_MODEL_d026ef60a8594cd994b9d20273123543"
      }
     },
     "88ded9c0dfca4546b339f2b3e159e1b3": {
      "model_module": "@jupyter-widgets/controls",
      "model_module_version": "1.0.0",
      "model_name": "HBoxModel",
      "state": {
       "children": [
        "IPY_MODEL_4f75a9dd9ea44eb0a93618d99c7bf923",
        "IPY_MODEL_958be916eb5e44e1b33aaa7c229a692f"
       ],
       "layout": "IPY_MODEL_ecab41f4780340b892100c744eac1b36"
      }
     },
     "88fd5e630dae4ea2b2ed243b7a2abaaf": {
      "model_module": "@jupyter-widgets/base",
      "model_module_version": "1.0.0",
      "model_name": "LayoutModel",
      "state": {}
     },
     "8a01d6ae9afd4fcb93c4c929e3dff9ff": {
      "model_module": "@jupyter-widgets/controls",
      "model_module_version": "1.0.0",
      "model_name": "DropdownModel",
      "state": {
       "_options_labels": [
        "None Selected",
        "Size Exclusion",
        "Anion Exchange",
        "Cation Exchange",
        "Polysorbate80",
        "Reverse Phase"
       ],
       "description": "Methodology",
       "index": 0,
       "layout": "IPY_MODEL_e859acdfe91244808e5bf57bee31ded8",
       "style": "IPY_MODEL_b928008197674e3abf7494cf863a07fc"
      }
     },
     "8b368db78ebd4d6abf5c573cb2cff5f6": {
      "model_module": "@jupyter-widgets/base",
      "model_module_version": "1.0.0",
      "model_name": "LayoutModel",
      "state": {}
     },
     "8baa912c1a76444ea5da1114f93a21f9": {
      "model_module": "@jupyter-widgets/controls",
      "model_module_version": "1.0.0",
      "model_name": "DropdownModel",
      "state": {
       "_options_labels": [
        "None Selected",
        "High Pressue Liquid Chromatography",
        "Electrophoresis",
        "Cell-based",
        "Mass Spectrometry",
        "Polymerase Chain Reaction",
        "Potency / Interaction",
        "Crystallography",
        "Protein Concentration"
       ],
       "description": "Fundamental Technique",
       "index": 0,
       "layout": "IPY_MODEL_4badb31b6fe14fcdba147a6e8301484a",
       "style": "IPY_MODEL_aa5aa943f3724c74ae3f80841528bad7"
      }
     },
     "8bb3e3d550ee471ba49d9d2378780a24": {
      "model_module": "@jupyter-widgets/controls",
      "model_module_version": "1.0.0",
      "model_name": "DescriptionStyleModel",
      "state": {
       "description_width": ""
      }
     },
     "8c4ba6e599234935b2d38d294786292c": {
      "model_module": "@jupyter-widgets/base",
      "model_module_version": "1.0.0",
      "model_name": "LayoutModel",
      "state": {}
     },
     "8c4e71d0fad945e6b11e8a2f57e6c9aa": {
      "model_module": "@jupyter-widgets/controls",
      "model_module_version": "1.0.0",
      "model_name": "DropdownModel",
      "state": {
       "_options_labels": [
        "None Selected",
        "High Pressue Liquid Chromatography",
        "Electrophoresis",
        "Cell-based",
        "Mass Spectrometry",
        "Polymerase Chain Reaction",
        "Potency / Interaction",
        "Crystallography",
        "Protein Concentration"
       ],
       "description": "Fundamental Technique",
       "index": 0,
       "layout": "IPY_MODEL_aae39758e14344859e91bb066aaf960e",
       "style": "IPY_MODEL_fd6cd419762d45f286216f06b4c52880"
      }
     },
     "8d7921cde0b348fc88823281165d4989": {
      "model_module": "@jupyter-widgets/controls",
      "model_module_version": "1.0.0",
      "model_name": "DropdownModel",
      "state": {
       "_options_labels": [
        "None Selected",
        "Size Exclusion",
        "Anion Exchange",
        "Cation Exchange",
        "Polysorbate80",
        "Reverse Phase"
       ],
       "description": "Methodology",
       "index": 0,
       "layout": "IPY_MODEL_1085c42af98d484d924aca99a32d132e",
       "style": "IPY_MODEL_6147edf40cf64cc694bbc8da1041cc51"
      }
     },
     "8dd452bf06cf49a5b8a31a58e3ffadde": {
      "model_module": "@jupyter-widgets/controls",
      "model_module_version": "1.0.0",
      "model_name": "VBoxModel",
      "state": {
       "children": [
        "IPY_MODEL_40700ff5f15e49db92bca6a2b0c42aff",
        "IPY_MODEL_22ca0dc954574f8c832430af985172ae",
        "IPY_MODEL_3c929aee9fcc48419efce5301b5c56f7"
       ],
       "layout": "IPY_MODEL_da82223ac3e1418193edaca06672d6e4"
      }
     },
     "8de4b69331ba4b90a871a1fd996be83d": {
      "model_module": "@jupyter-widgets/base",
      "model_module_version": "1.0.0",
      "model_name": "LayoutModel",
      "state": {}
     },
     "8e33642e732d43b3b3e09bfbb7174e5d": {
      "model_module": "@jupyter-widgets/controls",
      "model_module_version": "1.0.0",
      "model_name": "DropdownModel",
      "state": {
       "_options_labels": [
        "None Selected",
        "High Pressue Liquid Chromatography",
        "Electrophoresis",
        "Cell-based",
        "Mass Spectrometry",
        "Polymerase Chain Reaction",
        "Potency / Interaction",
        "Crystallography",
        "Protein Concentration"
       ],
       "description": "Fundamental Technique",
       "index": 0,
       "layout": "IPY_MODEL_72f4f6854acd42b69f756c0f3ea27101",
       "style": "IPY_MODEL_ac84984df59d487caeb256ddbe9b187e"
      }
     },
     "8ea8cae760014d92a8a4f701b5662bef": {
      "model_module": "@jupyter-widgets/controls",
      "model_module_version": "1.0.0",
      "model_name": "DescriptionStyleModel",
      "state": {
       "description_width": ""
      }
     },
     "8eeecc1944be4ddcbb78735a21c8c9cb": {
      "model_module": "@jupyter-widgets/base",
      "model_module_version": "1.0.0",
      "model_name": "LayoutModel",
      "state": {}
     },
     "8fd950f462f74fb4adacc1c8741bac92": {
      "model_module": "@jupyter-widgets/base",
      "model_module_version": "1.0.0",
      "model_name": "LayoutModel",
      "state": {}
     },
     "8ff84e5784294954a962c2fac2802471": {
      "model_module": "@jupyter-widgets/controls",
      "model_module_version": "1.0.0",
      "model_name": "DropdownModel",
      "state": {
       "_options_labels": [
        "None Selected",
        "CSL689",
        "CSL312",
        "CSL324",
        "CSL346",
        "CSL311",
        "CSL730"
       ],
       "description": "Project",
       "index": 0,
       "layout": "IPY_MODEL_fd81dfd4183a4e16b99531c9cf1eb4f7",
       "style": "IPY_MODEL_8bb3e3d550ee471ba49d9d2378780a24"
      }
     },
     "9019d97628e84e13a90d784aab8b05d4": {
      "model_module": "@jupyter-widgets/controls",
      "model_module_version": "1.0.0",
      "model_name": "VBoxModel",
      "state": {
       "children": [
        "IPY_MODEL_40700ff5f15e49db92bca6a2b0c42aff",
        "IPY_MODEL_9ae6ab8bcda242ff8f9ed5273915ab19",
        "IPY_MODEL_368f457a8d764b25a4356f6c3d7ad857"
       ],
       "layout": "IPY_MODEL_7fe62be7ce2c4b059cac9edd8140e61c"
      }
     },
     "902889665284420cb621d5b173c8431d": {
      "model_module": "@jupyter-widgets/base",
      "model_module_version": "1.0.0",
      "model_name": "LayoutModel",
      "state": {}
     },
     "904cdc40996946e794c30a5994fb048c": {
      "model_module": "@jupyter-widgets/base",
      "model_module_version": "1.0.0",
      "model_name": "LayoutModel",
      "state": {
       "height": "10%",
       "width": "350px"
      }
     },
     "907ea4d305a74ca99e529438ed7a4303": {
      "model_module": "@jupyter-widgets/controls",
      "model_module_version": "1.0.0",
      "model_name": "DropdownModel",
      "state": {
       "_options_labels": [
        "None Selected",
        "CSL689",
        "CSL312",
        "CSL324",
        "CSL346",
        "CSL311",
        "CSL730"
       ],
       "description": "Project",
       "index": 0,
       "layout": "IPY_MODEL_0731a99dd1fd49b8b84ddf94c2227b54",
       "style": "IPY_MODEL_cb926d2177d340749c1c2bc7972e7a20"
      }
     },
     "908bef28d2d840189036cba5a73a2fc8": {
      "model_module": "@jupyter-widgets/controls",
      "model_module_version": "1.0.0",
      "model_name": "VBoxModel",
      "state": {
       "children": [
        "IPY_MODEL_3b3c7fbe540046a3825c521459afc10f",
        "IPY_MODEL_ec9c0d326eb04360a8562ff84be349ae",
        "IPY_MODEL_9b4e12786b614b2387d9aeacee833a18"
       ],
       "layout": "IPY_MODEL_84f7b5deb89446969310f86885605f51"
      }
     },
     "909c7afb45b3433c9106a48fd9fc2e35": {
      "model_module": "@jupyter-widgets/base",
      "model_module_version": "1.0.0",
      "model_name": "LayoutModel",
      "state": {}
     },
     "910a4f904a474d4097c7b8a843fbdba8": {
      "model_module": "@jupyter-widgets/base",
      "model_module_version": "1.0.0",
      "model_name": "LayoutModel",
      "state": {}
     },
     "91398d58cc1a43498c22766a01e3465c": {
      "model_module": "@jupyter-widgets/base",
      "model_module_version": "1.0.0",
      "model_name": "LayoutModel",
      "state": {}
     },
     "91ca34cc67284832917c3c89280d7f33": {
      "model_module": "@jupyter-widgets/controls",
      "model_module_version": "1.0.0",
      "model_name": "VBoxModel",
      "state": {
       "children": [
        "IPY_MODEL_40700ff5f15e49db92bca6a2b0c42aff",
        "IPY_MODEL_084db2e10e8f4d798242307bbe73f416",
        "IPY_MODEL_2748c0c5357248fba82999b05086d042"
       ],
       "layout": "IPY_MODEL_a0592345a47b4807ae7547d07c15e597"
      }
     },
     "91ef1906b65c4181b15e3ad7fab446e5": {
      "model_module": "@jupyter-widgets/controls",
      "model_module_version": "1.0.0",
      "model_name": "DescriptionStyleModel",
      "state": {
       "description_width": ""
      }
     },
     "92297dc44e944300a0fabe03b7fc218f": {
      "model_module": "@jupyter-widgets/controls",
      "model_module_version": "1.0.0",
      "model_name": "DropdownModel",
      "state": {
       "_options_labels": [
        "None Selected",
        "CSL689",
        "CSL312",
        "CSL324",
        "CSL346",
        "CSL311",
        "CSL730"
       ],
       "description": "Project",
       "index": 0,
       "layout": "IPY_MODEL_b3f4fa24c9004b03a71941d6b1c2bd13",
       "style": "IPY_MODEL_78e723cd2af142a28e8e2b5cc337bcdc"
      }
     },
     "923cd302ce644928aa474e8ac3b2bb02": {
      "model_module": "@jupyter-widgets/base",
      "model_module_version": "1.0.0",
      "model_name": "LayoutModel",
      "state": {}
     },
     "924634edad7d49879bc8e1bdf0f44aa0": {
      "model_module": "@jupyter-widgets/controls",
      "model_module_version": "1.0.0",
      "model_name": "VBoxModel",
      "state": {
       "children": [
        "IPY_MODEL_54fdac8e6c704062896e32699d7c5c60",
        "IPY_MODEL_f475bcb15d3b468698499f26ee6e6552",
        "IPY_MODEL_eb8dd970255f4d89ab25832a259f1b92"
       ],
       "layout": "IPY_MODEL_0d3a8c92c8894647a05143e0d169649b"
      }
     },
     "928112b441a04c1ca7e6510543bc4bc1": {
      "model_module": "@jupyter-widgets/controls",
      "model_module_version": "1.0.0",
      "model_name": "HBoxModel",
      "state": {
       "children": [
        "IPY_MODEL_4f75a9dd9ea44eb0a93618d99c7bf923",
        "IPY_MODEL_958be916eb5e44e1b33aaa7c229a692f"
       ],
       "layout": "IPY_MODEL_ab7c6acfc73d4dca80a31f64e0ce174d"
      }
     },
     "92b02004e0ec4d3f939bf319829b5adf": {
      "model_module": "@jupyter-widgets/base",
      "model_module_version": "1.0.0",
      "model_name": "LayoutModel",
      "state": {
       "width": "450px"
      }
     },
     "933733f3e5624859b1deb06298242951": {
      "model_module": "@jupyter-widgets/controls",
      "model_module_version": "1.0.0",
      "model_name": "DescriptionStyleModel",
      "state": {
       "description_width": ""
      }
     },
     "93ed43dfe5434db6a474951e4e79283f": {
      "model_module": "@jupyter-widgets/base",
      "model_module_version": "1.0.0",
      "model_name": "LayoutModel",
      "state": {
       "width": "350px"
      }
     },
     "9401b420cf2b48dda1605fb84297595a": {
      "model_module": "@jupyter-widgets/base",
      "model_module_version": "1.0.0",
      "model_name": "LayoutModel",
      "state": {
       "width": "350px"
      }
     },
     "940c53f4c5d748b2892d9aad4e7b15ba": {
      "model_module": "@jupyter-widgets/controls",
      "model_module_version": "1.0.0",
      "model_name": "DropdownModel",
      "state": {
       "_options_labels": [
        "None Selected",
        "Africa",
        "North America",
        "South America"
       ],
       "description": "Project",
       "index": 0,
       "layout": "IPY_MODEL_5f3e3a4b14ed496cab3359696b2058b6",
       "style": "IPY_MODEL_2ef311937695411388ca94327018161c"
      }
     },
     "9446dc97be7b403e993f9562e4b99cb4": {
      "model_module": "@jupyter-widgets/controls",
      "model_module_version": "1.0.0",
      "model_name": "HBoxModel",
      "state": {
       "children": [
        "IPY_MODEL_3d1bea791e0e440f87a0b92ac04d8f7c",
        "IPY_MODEL_958be916eb5e44e1b33aaa7c229a692f"
       ],
       "layout": "IPY_MODEL_6702aa9f5c894957b0a0b4e0e539ae93"
      }
     },
     "944d097b55b24ed6b98d97d40316f531": {
      "model_module": "@jupyter-widgets/base",
      "model_module_version": "1.0.0",
      "model_name": "LayoutModel",
      "state": {
       "width": "450px"
      }
     },
     "945527ea415044fe921fe3eb1b121ed7": {
      "model_module": "@jupyter-widgets/controls",
      "model_module_version": "1.0.0",
      "model_name": "HBoxModel",
      "state": {
       "children": [
        "IPY_MODEL_4f75a9dd9ea44eb0a93618d99c7bf923",
        "IPY_MODEL_958be916eb5e44e1b33aaa7c229a692f"
       ],
       "layout": "IPY_MODEL_02218284deec4b38a7d0514aab4ca6a8"
      }
     },
     "948d6624547146ff8c73a38f51b5c295": {
      "model_module": "@jupyter-widgets/controls",
      "model_module_version": "1.0.0",
      "model_name": "DescriptionStyleModel",
      "state": {
       "description_width": ""
      }
     },
     "94f2b72bf60a403286a31f2050eb4cf6": {
      "model_module": "@jupyter-widgets/base",
      "model_module_version": "1.0.0",
      "model_name": "LayoutModel",
      "state": {}
     },
     "94f41a6adc404532a852fa5ee6af369b": {
      "model_module": "@jupyter-widgets/controls",
      "model_module_version": "1.0.0",
      "model_name": "VBoxModel",
      "state": {
       "children": [
        "IPY_MODEL_48b70cd5daff46d2918bd067ee0e7e27",
        "IPY_MODEL_e0040471ec004a1889a5d08f48de84e4",
        "IPY_MODEL_422dcc69ee3f49dd9e4fb900d00b935b"
       ],
       "layout": "IPY_MODEL_2104bd83c6554f5f844e1f24121ca7ad"
      }
     },
     "95095ded613d4f4dacbbdf8d0d525579": {
      "model_module": "@jupyter-widgets/controls",
      "model_module_version": "1.0.0",
      "model_name": "DescriptionStyleModel",
      "state": {
       "description_width": ""
      }
     },
     "956ce8492d024120a474bc918464a75f": {
      "model_module": "@jupyter-widgets/base",
      "model_module_version": "1.0.0",
      "model_name": "LayoutModel",
      "state": {}
     },
     "958be916eb5e44e1b33aaa7c229a692f": {
      "model_module": "@jupyter-widgets/controls",
      "model_module_version": "1.0.0",
      "model_name": "ButtonModel",
      "state": {
       "description": "Copy to Clipboard",
       "icon": "paperclip",
       "layout": "IPY_MODEL_d26898f4ddb8473daa5d3530def6c16b",
       "style": "IPY_MODEL_9d696d8b44fc40248dc5fff140911312",
       "tooltip": "Copy to Clipboard"
      }
     },
     "95b6d4c118fa4c499d41af6db4ee5d6e": {
      "model_module": "@jupyter-widgets/controls",
      "model_module_version": "1.0.0",
      "model_name": "VBoxModel",
      "state": {
       "children": [
        "IPY_MODEL_f6dbfae319c945178eaacc25984367f6",
        "IPY_MODEL_4881044c038a482dab62b6299e265280",
        "IPY_MODEL_95e0f2e63e1f4ef7998d6c1af27ca5ea"
       ],
       "layout": "IPY_MODEL_58896ce9113f46258eb4fec8bb40c95a"
      }
     },
     "95e0f2e63e1f4ef7998d6c1af27ca5ea": {
      "model_module": "@jupyter-widgets/controls",
      "model_module_version": "1.0.0",
      "model_name": "DropdownModel",
      "state": {
       "_options_labels": [
        "None Selected",
        "Size Exclusion",
        "Anion Exchange",
        "Cation Exchange",
        "Polysorbate80",
        "Reverse Phase"
       ],
       "description": "Methodology",
       "index": 0,
       "layout": "IPY_MODEL_39cb06e71d5540018ef9f9c7805affed",
       "style": "IPY_MODEL_ad60779f2fb041239201b103598bc6dd"
      }
     },
     "96ae3d1449844a49a018c2afecbe516d": {
      "model_module": "@jupyter-widgets/controls",
      "model_module_version": "1.0.0",
      "model_name": "DropdownModel",
      "state": {
       "_options_labels": [
        "None Selected",
        "High Pressue Liquid Chromatography",
        "Electrophoresis",
        "Cell-based",
        "Mass Spectrometry",
        "Polymerase Chain Reaction",
        "Potency / Interaction",
        "Crystallography",
        "Protein Concentration"
       ],
       "index": 0,
       "layout": "IPY_MODEL_0d7759b5fb074bc6b4b55f591966c440",
       "style": "IPY_MODEL_165b7c2221904d16b80b8e77d8727b5d"
      }
     },
     "96ce0ab36ce3457e80c801299bd697d2": {
      "model_module": "@jupyter-widgets/base",
      "model_module_version": "1.0.0",
      "model_name": "LayoutModel",
      "state": {
       "width": "350px"
      }
     },
     "96fbf008e0684250ae82c8d86b8d0ed8": {
      "model_module": "@jupyter-widgets/base",
      "model_module_version": "1.0.0",
      "model_name": "LayoutModel",
      "state": {
       "width": "350px"
      }
     },
     "97e5cb3a11734a909e849b5d50ee3b56": {
      "model_module": "@jupyter-widgets/base",
      "model_module_version": "1.0.0",
      "model_name": "LayoutModel",
      "state": {}
     },
     "98310e92a99840d49d191166fb4c67c1": {
      "model_module": "@jupyter-widgets/base",
      "model_module_version": "1.0.0",
      "model_name": "LayoutModel",
      "state": {}
     },
     "98421b75821d4385afbe95c9317d28a9": {
      "model_module": "@jupyter-widgets/controls",
      "model_module_version": "1.0.0",
      "model_name": "DescriptionStyleModel",
      "state": {
       "description_width": "100px"
      }
     },
     "9881c83b8bf14beca004af0d1a04c696": {
      "model_module": "@jupyter-widgets/base",
      "model_module_version": "1.0.0",
      "model_name": "LayoutModel",
      "state": {}
     },
     "9886704563854238ab9bbc58269139bb": {
      "model_module": "@jupyter-widgets/base",
      "model_module_version": "1.0.0",
      "model_name": "LayoutModel",
      "state": {}
     },
     "988a30ed3fe64fae96a7200570e50ed9": {
      "model_module": "@jupyter-widgets/base",
      "model_module_version": "1.0.0",
      "model_name": "LayoutModel",
      "state": {}
     },
     "9901553d45d2468d845bd14ceb490fe7": {
      "model_module": "@jupyter-widgets/base",
      "model_module_version": "1.0.0",
      "model_name": "LayoutModel",
      "state": {}
     },
     "99bd28384cb541a1890b8b34ac9e579c": {
      "model_module": "@jupyter-widgets/controls",
      "model_module_version": "1.0.0",
      "model_name": "ButtonStyleModel",
      "state": {}
     },
     "99c33564a8ff45e69180f7c96d39c190": {
      "model_module": "@jupyter-widgets/base",
      "model_module_version": "1.0.0",
      "model_name": "LayoutModel",
      "state": {}
     },
     "9aa26a90219b44608851cf22da8aa576": {
      "model_module": "@jupyter-widgets/controls",
      "model_module_version": "1.0.0",
      "model_name": "DescriptionStyleModel",
      "state": {
       "description_width": "150px"
      }
     },
     "9ae6ab8bcda242ff8f9ed5273915ab19": {
      "model_module": "@jupyter-widgets/controls",
      "model_module_version": "1.0.0",
      "model_name": "VBoxModel",
      "state": {
       "children": [
        "IPY_MODEL_47a7196716fe42e4b7efff41f057ffbe",
        "IPY_MODEL_9be449e23fde45d88c87493f3ce4287b",
        "IPY_MODEL_1121d84bde0845ff90244744ae4d266d"
       ],
       "layout": "IPY_MODEL_81b6b1befa36494b98972b8ad1ce25ba"
      }
     },
     "9b273e21bea74fc2a287dc476a7a11c8": {
      "model_module": "@jupyter-widgets/controls",
      "model_module_version": "1.0.0",
      "model_name": "VBoxModel",
      "state": {
       "children": [
        "IPY_MODEL_40700ff5f15e49db92bca6a2b0c42aff",
        "IPY_MODEL_06d574ef40fa4b00bb1560ce0f36d595",
        "IPY_MODEL_d4d101ffadcd4e37a985e91e1f7c9c9a"
       ],
       "layout": "IPY_MODEL_2e134e6a6d57452b99089cd7610f4571"
      }
     },
     "9b4e12786b614b2387d9aeacee833a18": {
      "model_module": "@jupyter-widgets/controls",
      "model_module_version": "1.0.0",
      "model_name": "HBoxModel",
      "state": {
       "children": [
        "IPY_MODEL_4f75a9dd9ea44eb0a93618d99c7bf923",
        "IPY_MODEL_958be916eb5e44e1b33aaa7c229a692f"
       ],
       "layout": "IPY_MODEL_94f2b72bf60a403286a31f2050eb4cf6"
      }
     },
     "9b96bd7b21494832b075ba8198dcff44": {
      "model_module": "@jupyter-widgets/controls",
      "model_module_version": "1.0.0",
      "model_name": "DropdownModel",
      "state": {
       "_options_labels": [
        "None Selected",
        "Size Exclusion",
        "Anion Exchange",
        "Cation Exchange",
        "Polysorbate80",
        "Reverse Phase"
       ],
       "description": "Methodology",
       "index": 0,
       "layout": "IPY_MODEL_f1f9435d2b3e4dc68c83796acd2d1be5",
       "style": "IPY_MODEL_7e007048153c4b9388c61cbe19ef7692"
      }
     },
     "9b9db1b72cc34276ab03c89a23f9c742": {
      "model_module": "@jupyter-widgets/controls",
      "model_module_version": "1.0.0",
      "model_name": "HBoxModel",
      "state": {
       "children": [
        "IPY_MODEL_d3532080b2604970bfbd1d7cdcc8abac",
        "IPY_MODEL_a686a865a140455592f2ae31ad5656c5"
       ],
       "layout": "IPY_MODEL_3cc97ba909bd4ed29f4f804f29f9941e"
      }
     },
     "9be449e23fde45d88c87493f3ce4287b": {
      "model_module": "@jupyter-widgets/controls",
      "model_module_version": "1.0.0",
      "model_name": "DropdownModel",
      "state": {
       "_options_labels": [
        "None Selected",
        "High Pressue Liquid Chromatography",
        "Electrophoresis",
        "Cell-based",
        "Mass Spectrometry",
        "Polymerase Chain Reaction",
        "Potency / Interaction",
        "Crystallography",
        "Protein Concentration"
       ],
       "description": "Fundamental Technique",
       "index": 0,
       "layout": "IPY_MODEL_6594eb27b3d242e3acf2a65c6517d009",
       "style": "IPY_MODEL_e0572b542245490e9f4e5f5fbd37fd89"
      }
     },
     "9c24d5141b624449bec457f0b6866186": {
      "model_module": "@jupyter-widgets/controls",
      "model_module_version": "1.0.0",
      "model_name": "VBoxModel",
      "state": {
       "children": [
        "IPY_MODEL_bcea67bab9034521bc31f29f8fd860bc",
        "IPY_MODEL_8baa912c1a76444ea5da1114f93a21f9",
        "IPY_MODEL_e71d39b81ff445e2a85322c265e7cfcb"
       ],
       "layout": "IPY_MODEL_3f3ad27bfa82442d95acc2b59b59365a"
      }
     },
     "9c3a7d33ebb34e6693f83e11385487ae": {
      "model_module": "@jupyter-widgets/controls",
      "model_module_version": "1.0.0",
      "model_name": "DropdownModel",
      "state": {
       "_options_labels": [
        "None Selected",
        "CSL689",
        "CSL312",
        "CSL324",
        "CSL346",
        "CSL311",
        "CSL730"
       ],
       "description": "Project",
       "index": 0,
       "layout": "IPY_MODEL_7fefbbff3a0545c68d0c5c49ef751f89",
       "style": "IPY_MODEL_e6aebc4779b24bed9f41090f192755ce"
      }
     },
     "9d696d8b44fc40248dc5fff140911312": {
      "model_module": "@jupyter-widgets/controls",
      "model_module_version": "1.0.0",
      "model_name": "ButtonStyleModel",
      "state": {}
     },
     "9d9942fe5df84c7b81c1884d9c9aa965": {
      "model_module": "@jupyter-widgets/controls",
      "model_module_version": "1.0.0",
      "model_name": "DescriptionStyleModel",
      "state": {
       "description_width": "150px"
      }
     },
     "9dc44e1f409e407db6e32f27b6fcfbbe": {
      "model_module": "@jupyter-widgets/controls",
      "model_module_version": "1.0.0",
      "model_name": "DropdownModel",
      "state": {
       "_options_labels": [
        "None Selected",
        "CSL689",
        "CSL312",
        "CSL324",
        "CSL346",
        "CSL311",
        "CSL730"
       ],
       "description": "Project",
       "index": 1,
       "layout": "IPY_MODEL_944d097b55b24ed6b98d97d40316f531",
       "style": "IPY_MODEL_f8e0c14c9c054487913b4efccea0cc20"
      }
     },
     "9e1ba05ca16849f7938a7646ee2f7d12": {
      "model_module": "@jupyter-widgets/controls",
      "model_module_version": "1.0.0",
      "model_name": "DropdownModel",
      "state": {
       "_options_labels": [
        "None Selected",
        "High Pressue Liquid Chromatography",
        "Electrophoresis",
        "Cell-based",
        "Mass Spectrometry",
        "Polymerase Chain Reaction",
        "Potency / Interaction",
        "Crystallography",
        "Protein Concentration"
       ],
       "description": "Fundamental Technique",
       "index": 0,
       "layout": "IPY_MODEL_135a2c7b4304496b99d64d5c98d47f19",
       "style": "IPY_MODEL_6c5db2e711f5450d9a789e09b194aa43"
      }
     },
     "9e79c250a2f74a15abe05c6f41cd26d3": {
      "model_module": "@jupyter-widgets/controls",
      "model_module_version": "1.0.0",
      "model_name": "DropdownModel",
      "state": {
       "_options_labels": [
        "None Selected",
        "CSL689",
        "CSL312",
        "CSL324",
        "CSL346",
        "CSL311",
        "CSL730"
       ],
       "description": "Project",
       "index": 0,
       "layout": "IPY_MODEL_8321b9d4ad4f4144a3396674f4c7b941",
       "style": "IPY_MODEL_032f1addaaad4ac1b5a439f1605885cb"
      }
     },
     "9e92c3d62b244fa3acf85e8c1b7acf92": {
      "model_module": "@jupyter-widgets/controls",
      "model_module_version": "1.0.0",
      "model_name": "DescriptionStyleModel",
      "state": {
       "description_width": ""
      }
     },
     "9ecef184e2e74359820be1bd442e16fa": {
      "model_module": "@jupyter-widgets/base",
      "model_module_version": "1.0.0",
      "model_name": "LayoutModel",
      "state": {
       "width": "450px"
      }
     },
     "9f452a583ef8442892ae70819f563a0b": {
      "model_module": "@jupyter-widgets/controls",
      "model_module_version": "1.0.0",
      "model_name": "DescriptionStyleModel",
      "state": {
       "description_width": "initial"
      }
     },
     "9fa876628cf14b17886d292be17b8619": {
      "model_module": "@jupyter-widgets/controls",
      "model_module_version": "1.0.0",
      "model_name": "VBoxModel",
      "state": {
       "children": [
        "IPY_MODEL_3b3c7fbe540046a3825c521459afc10f",
        "IPY_MODEL_ec9c0d326eb04360a8562ff84be349ae",
        "IPY_MODEL_75ab186228954a369c1c0f1903875f3f"
       ],
       "layout": "IPY_MODEL_25d41b1c8bc74de9b9d06bc398c3bccc"
      }
     },
     "a0171e381c4043b8a2cfd587dc6772be": {
      "model_module": "@jupyter-widgets/controls",
      "model_module_version": "1.0.0",
      "model_name": "VBoxModel",
      "state": {
       "children": [
        "IPY_MODEL_0734dc07e8f741d7aad9717c6c52b8fb",
        "IPY_MODEL_8663ac4226124a348efe62aad530f713",
        "IPY_MODEL_1748638232644216a69e03eca920a1ad"
       ],
       "layout": "IPY_MODEL_ebf4b8e8edcd43cda7407ff73c68ccb6"
      }
     },
     "a040424075b1400aa8d838d6b2f9f078": {
      "model_module": "@jupyter-widgets/base",
      "model_module_version": "1.0.0",
      "model_name": "LayoutModel",
      "state": {}
     },
     "a0486ae60af542228d6b0979693296e5": {
      "model_module": "@jupyter-widgets/controls",
      "model_module_version": "1.0.0",
      "model_name": "DescriptionStyleModel",
      "state": {
       "description_width": ""
      }
     },
     "a0592345a47b4807ae7547d07c15e597": {
      "model_module": "@jupyter-widgets/base",
      "model_module_version": "1.0.0",
      "model_name": "LayoutModel",
      "state": {}
     },
     "a069afaf00104946ab3b304a4e97b086": {
      "model_module": "@jupyter-widgets/controls",
      "model_module_version": "1.0.0",
      "model_name": "DescriptionStyleModel",
      "state": {
       "description_width": ""
      }
     },
     "a1227ade92164b1f8202c5d2091d4eb6": {
      "model_module": "@jupyter-widgets/controls",
      "model_module_version": "1.0.0",
      "model_name": "DropdownModel",
      "state": {
       "_options_labels": [
        "None Selected",
        "Size Exclusion",
        "Anion Exchange",
        "Cation Exchange",
        "Polysorbate80",
        "Reverse Phase"
       ],
       "description": "Methodology",
       "index": 0,
       "layout": "IPY_MODEL_74bda55f5a214028a39320b551500800",
       "style": "IPY_MODEL_870fc822de2d4d90939309cee18242f7"
      }
     },
     "a138279376ca4392b459bf4288002214": {
      "model_module": "@jupyter-widgets/base",
      "model_module_version": "1.0.0",
      "model_name": "LayoutModel",
      "state": {}
     },
     "a1d36a31413a40239a8e56adff75fd38": {
      "model_module": "@jupyter-widgets/controls",
      "model_module_version": "1.0.0",
      "model_name": "DescriptionStyleModel",
      "state": {
       "description_width": ""
      }
     },
     "a1f3508b869346c58c128e273254b225": {
      "model_module": "@jupyter-widgets/controls",
      "model_module_version": "1.0.0",
      "model_name": "DescriptionStyleModel",
      "state": {
       "description_width": "150px"
      }
     },
     "a24c58c0baaa43cea45d27ce4a50be75": {
      "model_module": "@jupyter-widgets/base",
      "model_module_version": "1.0.0",
      "model_name": "LayoutModel",
      "state": {}
     },
     "a2a2647c0a374b5ab52d57d176b74a15": {
      "model_module": "@jupyter-widgets/base",
      "model_module_version": "1.0.0",
      "model_name": "LayoutModel",
      "state": {
       "width": "350px"
      }
     },
     "a2a7bdf3b45446c6abc1bda48e82d52f": {
      "model_module": "@jupyter-widgets/controls",
      "model_module_version": "1.0.0",
      "model_name": "VBoxModel",
      "state": {
       "children": [
        "IPY_MODEL_3e1f3a98078d416b8aa20c70cb952fbb",
        "IPY_MODEL_8c4e71d0fad945e6b11e8a2f57e6c9aa",
        "IPY_MODEL_5cad426dd7ab4ed9888e4e33f82679b7"
       ],
       "layout": "IPY_MODEL_923cd302ce644928aa474e8ac3b2bb02"
      }
     },
     "a3334ea3d26845edb2fed0df2410a4f6": {
      "model_module": "@jupyter-widgets/base",
      "model_module_version": "1.0.0",
      "model_name": "LayoutModel",
      "state": {}
     },
     "a3e10cb5806b437398f01193b450a95d": {
      "model_module": "@jupyter-widgets/controls",
      "model_module_version": "1.0.0",
      "model_name": "TextModel",
      "state": {
       "description": "ELN Name:",
       "layout": "IPY_MODEL_fdd725eb2c004c33ab0fe879f3f0f014",
       "placeholder": "Make selection from dropdowns",
       "style": "IPY_MODEL_bba5f68b57e24453b1e587586dde9d78",
       "value": "20180105_"
      }
     },
     "a41042a9f59e4f75b55501af2f1d2e2f": {
      "model_module": "@jupyter-widgets/controls",
      "model_module_version": "1.0.0",
      "model_name": "DropdownModel",
      "state": {
       "_options_labels": [
        "None Selected",
        "Size Exclusion",
        "Anion Exchange",
        "Cation Exchange",
        "Polysorbate80",
        "Reverse Phase"
       ],
       "description": "Methodology",
       "index": 0,
       "layout": "IPY_MODEL_e200fa2944cf4a73bab5af2066f3ea42",
       "style": "IPY_MODEL_c88c938ffefc4870afedf9ecde56ad9d"
      }
     },
     "a42bda88c8ae4819ab06dcdce7fb68b8": {
      "model_module": "@jupyter-widgets/base",
      "model_module_version": "1.0.0",
      "model_name": "LayoutModel",
      "state": {}
     },
     "a497a6a958d34431b3431d0ad66467ed": {
      "model_module": "@jupyter-widgets/base",
      "model_module_version": "1.0.0",
      "model_name": "LayoutModel",
      "state": {}
     },
     "a624860412544dd692f3f5ce843778f4": {
      "model_module": "@jupyter-widgets/base",
      "model_module_version": "1.0.0",
      "model_name": "LayoutModel",
      "state": {
       "width": "350px"
      }
     },
     "a66d24612d094d79bcf1304e85389a71": {
      "model_module": "@jupyter-widgets/controls",
      "model_module_version": "1.0.0",
      "model_name": "DropdownModel",
      "state": {
       "_options_labels": [
        "None Selected",
        "Size Exclusion",
        "Anion Exchange",
        "Cation Exchange",
        "Polysorbate80",
        "Reverse Phase"
       ],
       "description": "Methodology",
       "index": 0,
       "layout": "IPY_MODEL_9ecef184e2e74359820be1bd442e16fa",
       "style": "IPY_MODEL_51e7165b56bc4296824143970c4c61d9"
      }
     },
     "a686a865a140455592f2ae31ad5656c5": {
      "model_module": "@jupyter-widgets/controls",
      "model_module_version": "1.0.0",
      "model_name": "ButtonModel",
      "state": {
       "description": "Copy to Clipboard",
       "icon": "paperclip",
       "layout": "IPY_MODEL_51cba2e0e835471ab42307c8b53e40a2",
       "style": "IPY_MODEL_99bd28384cb541a1890b8b34ac9e579c",
       "tooltip": "Copy to Clipboard"
      }
     },
     "a711999167dd47f688892c6a7995b9ed": {
      "model_module": "@jupyter-widgets/controls",
      "model_module_version": "1.0.0",
      "model_name": "HBoxModel",
      "state": {
       "children": [
        "IPY_MODEL_3d1bea791e0e440f87a0b92ac04d8f7c",
        "IPY_MODEL_958be916eb5e44e1b33aaa7c229a692f"
       ],
       "layout": "IPY_MODEL_288c206629d04ed5975b3c66010549c3"
      }
     },
     "a77523269a954ce5b6cf429edc6e49b8": {
      "model_module": "@jupyter-widgets/controls",
      "model_module_version": "1.0.0",
      "model_name": "DescriptionStyleModel",
      "state": {
       "description_width": "50px"
      }
     },
     "a7ac9cd65a6b415991770bff3e0b9bdc": {
      "model_module": "@jupyter-widgets/controls",
      "model_module_version": "1.0.0",
      "model_name": "HBoxModel",
      "state": {
       "children": [
        "IPY_MODEL_4f75a9dd9ea44eb0a93618d99c7bf923",
        "IPY_MODEL_958be916eb5e44e1b33aaa7c229a692f"
       ],
       "layout": "IPY_MODEL_6677981683dd40c9ba76ed9180362198"
      }
     },
     "a7c6f4f61b974466ba25c2f75d45ed63": {
      "model_module": "@jupyter-widgets/base",
      "model_module_version": "1.0.0",
      "model_name": "LayoutModel",
      "state": {}
     },
     "a7e823ad7e6842bd8ee0d4e92ee2a1b9": {
      "model_module": "@jupyter-widgets/base",
      "model_module_version": "1.0.0",
      "model_name": "LayoutModel",
      "state": {}
     },
     "a87ed983d2c2473492f29a616bd27b92": {
      "model_module": "@jupyter-widgets/controls",
      "model_module_version": "1.0.0",
      "model_name": "DropdownModel",
      "state": {
       "_options_labels": [
        "None Selected",
        "High Pressue Liquid Chromatography",
        "Electrophoresis",
        "Cell-based",
        "Mass Spectrometry",
        "Polymerase Chain Reaction",
        "Potency / Interaction",
        "Crystallography",
        "Protein Concentration"
       ],
       "description": "Fundamental Technique",
       "index": 1,
       "layout": "IPY_MODEL_56bf688eec3b445e96e55878f8a49fa3",
       "style": "IPY_MODEL_54d99e87a7494b329902128dbfd89426"
      }
     },
     "a91bbcf62a744993b033aa51fac03340": {
      "model_module": "@jupyter-widgets/base",
      "model_module_version": "1.0.0",
      "model_name": "LayoutModel",
      "state": {
       "width": "350px"
      }
     },
     "a964bf0509e14977842e4836e64c1a7a": {
      "model_module": "@jupyter-widgets/base",
      "model_module_version": "1.0.0",
      "model_name": "LayoutModel",
      "state": {}
     },
     "a9b747bd28e24018950dbd4feeaff42a": {
      "model_module": "@jupyter-widgets/controls",
      "model_module_version": "1.0.0",
      "model_name": "DropdownModel",
      "state": {
       "_options_labels": [
        "None Selected",
        "Size Exclusion",
        "Anion Exchange",
        "Cation Exchange",
        "Polysorbate80",
        "Reverse Phase"
       ],
       "description": "Methodology",
       "index": 0,
       "layout": "IPY_MODEL_329585e948e74cfbbfda635f300053a4",
       "style": "IPY_MODEL_cead3c74ff3940b1b1894edc0d9f15ff"
      }
     },
     "aa17ed46dfbd41549b01d2f0a7383307": {
      "model_module": "@jupyter-widgets/base",
      "model_module_version": "1.0.0",
      "model_name": "LayoutModel",
      "state": {
       "width": "350px"
      }
     },
     "aa5aa943f3724c74ae3f80841528bad7": {
      "model_module": "@jupyter-widgets/controls",
      "model_module_version": "1.0.0",
      "model_name": "DescriptionStyleModel",
      "state": {
       "description_width": ""
      }
     },
     "aaddc0a9ac7243238d7925213957664d": {
      "model_module": "@jupyter-widgets/controls",
      "model_module_version": "1.0.0",
      "model_name": "DropdownModel",
      "state": {
       "_options_labels": [
        "None Selected",
        "High Pressue Liquid Chromatography",
        "Electrophoresis",
        "Cell-based",
        "Mass Spectrometry",
        "Polymerase Chain Reaction",
        "Potency / Interaction",
        "Crystallography",
        "Protein Concentration"
       ],
       "description": "Fundamental Technique",
       "index": 0,
       "layout": "IPY_MODEL_c2e74cf9195d4d70a81322eb5168915a",
       "style": "IPY_MODEL_5b489250c4c44432aed14267f2e8d7b3"
      }
     },
     "aae39758e14344859e91bb066aaf960e": {
      "model_module": "@jupyter-widgets/base",
      "model_module_version": "1.0.0",
      "model_name": "LayoutModel",
      "state": {
       "width": "450px"
      }
     },
     "ab3c6d9dbaa7485da8af292c54c52e2d": {
      "model_module": "@jupyter-widgets/controls",
      "model_module_version": "1.0.0",
      "model_name": "DropdownModel",
      "state": {
       "_options_labels": [
        "None Selected",
        "High Pressue Liquid Chromatography",
        "Electrophoresis",
        "Cell-based",
        "Mass Spectrometry",
        "Polymerase Chain Reaction",
        "Potency / Interaction",
        "Crystallography",
        "Protein Concentration"
       ],
       "description": "Fundamental Technique",
       "index": 1,
       "layout": "IPY_MODEL_2e9d9b655a194624a3768c5855fc132d",
       "style": "IPY_MODEL_3be109e307024833b0f49739cc898963"
      }
     },
     "ab64652ba0e142b99634780713a8d5bf": {
      "model_module": "@jupyter-widgets/controls",
      "model_module_version": "1.0.0",
      "model_name": "DescriptionStyleModel",
      "state": {
       "description_width": ""
      }
     },
     "ab7aee4904f14d56b1d85170fca06f41": {
      "model_module": "@jupyter-widgets/controls",
      "model_module_version": "1.0.0",
      "model_name": "VBoxModel",
      "state": {
       "children": [
        "IPY_MODEL_40700ff5f15e49db92bca6a2b0c42aff",
        "IPY_MODEL_0c7a094922854a4ab0272c1064853c73",
        "IPY_MODEL_49472621c26b421fbd8658286d8875a4"
       ],
       "layout": "IPY_MODEL_0f85689b3e9c42d4a8a90969617f5bd8"
      }
     },
     "ab7c6acfc73d4dca80a31f64e0ce174d": {
      "model_module": "@jupyter-widgets/base",
      "model_module_version": "1.0.0",
      "model_name": "LayoutModel",
      "state": {}
     },
     "ac23987a83f147e681553f61df3419a4": {
      "model_module": "@jupyter-widgets/base",
      "model_module_version": "1.0.0",
      "model_name": "LayoutModel",
      "state": {
       "width": "350px"
      }
     },
     "ac254262b02a498eb3855088d7e5a3a4": {
      "model_module": "@jupyter-widgets/base",
      "model_module_version": "1.0.0",
      "model_name": "LayoutModel",
      "state": {}
     },
     "ac7a46b419a84f179755a2948baf095c": {
      "model_module": "@jupyter-widgets/base",
      "model_module_version": "1.0.0",
      "model_name": "LayoutModel",
      "state": {}
     },
     "ac84984df59d487caeb256ddbe9b187e": {
      "model_module": "@jupyter-widgets/controls",
      "model_module_version": "1.0.0",
      "model_name": "DescriptionStyleModel",
      "state": {
       "description_width": ""
      }
     },
     "ad103cfba5da4e37bb199507f13b1269": {
      "model_module": "@jupyter-widgets/controls",
      "model_module_version": "1.0.0",
      "model_name": "DropdownModel",
      "state": {
       "_options_labels": [
        "None Selected",
        "CSL689",
        "CSL312",
        "CSL324",
        "CSL346",
        "CSL311",
        "CSL730"
       ],
       "description": "Project",
       "index": 0,
       "layout": "IPY_MODEL_a2a2647c0a374b5ab52d57d176b74a15",
       "style": "IPY_MODEL_03bfdc0caf8645a981c32f88ee67044a"
      }
     },
     "ad3c0c891ce1421e8d148d4a4080cc9c": {
      "model_module": "@jupyter-widgets/base",
      "model_module_version": "1.0.0",
      "model_name": "LayoutModel",
      "state": {}
     },
     "ad60779f2fb041239201b103598bc6dd": {
      "model_module": "@jupyter-widgets/controls",
      "model_module_version": "1.0.0",
      "model_name": "DescriptionStyleModel",
      "state": {
       "description_width": ""
      }
     },
     "add87ceb9ae849e7b38f19c30a793eec": {
      "model_module": "@jupyter-widgets/controls",
      "model_module_version": "1.0.0",
      "model_name": "VBoxModel",
      "state": {
       "children": [
        "IPY_MODEL_64ca095075cd4753a07f813f5e80d866",
        "IPY_MODEL_94f41a6adc404532a852fa5ee6af369b",
        "IPY_MODEL_0d7f468550c94eb79af116aeaa919368"
       ],
       "layout": "IPY_MODEL_104e0a560f1c424394e6a98666393a87"
      }
     },
     "ae5ff7218b3e4628a84e082a5c83d9ba": {
      "model_module": "@jupyter-widgets/controls",
      "model_module_version": "1.0.0",
      "model_name": "DescriptionStyleModel",
      "state": {
       "description_width": ""
      }
     },
     "ae712dd4cae743069cc9ff57d43cdc05": {
      "model_module": "@jupyter-widgets/base",
      "model_module_version": "1.0.0",
      "model_name": "LayoutModel",
      "state": {}
     },
     "aeac05a433b34012b8bada74aee06f92": {
      "model_module": "@jupyter-widgets/controls",
      "model_module_version": "1.0.0",
      "model_name": "HBoxModel",
      "state": {
       "children": [
        "IPY_MODEL_4f75a9dd9ea44eb0a93618d99c7bf923",
        "IPY_MODEL_958be916eb5e44e1b33aaa7c229a692f"
       ],
       "layout": "IPY_MODEL_4e2ae72d4a474a09a4c04a8a82e6d310"
      }
     },
     "aecc63866174425194c7a4333f928135": {
      "model_module": "@jupyter-widgets/base",
      "model_module_version": "1.0.0",
      "model_name": "LayoutModel",
      "state": {}
     },
     "af737012811341c3b743a32db6be417b": {
      "model_module": "@jupyter-widgets/controls",
      "model_module_version": "1.0.0",
      "model_name": "DescriptionStyleModel",
      "state": {
       "description_width": ""
      }
     },
     "af76402875804e87aacc2247815d3be0": {
      "model_module": "@jupyter-widgets/controls",
      "model_module_version": "1.0.0",
      "model_name": "VBoxModel",
      "state": {
       "children": [
        "IPY_MODEL_40700ff5f15e49db92bca6a2b0c42aff",
        "IPY_MODEL_0c7a094922854a4ab0272c1064853c73",
        "IPY_MODEL_6aedc700c4284e77a72eff56eef2185b"
       ],
       "layout": "IPY_MODEL_65bb779651984dc7ba6c262af39fc496"
      }
     },
     "af778db69c144907bd34105e23899b29": {
      "model_module": "@jupyter-widgets/controls",
      "model_module_version": "1.0.0",
      "model_name": "DropdownModel",
      "state": {
       "_options_labels": [
        "None Selected",
        "High Pressue Liquid Chromatography",
        "Electrophoresis",
        "Cell-based",
        "Mass Spectrometry",
        "Polymerase Chain Reaction",
        "Potency / Interaction",
        "Crystallography",
        "Protein Concentration"
       ],
       "description": "Fundamental Technique",
       "index": 0,
       "layout": "IPY_MODEL_4fd37a35810945709998dc355e7179a2",
       "style": "IPY_MODEL_844698370bc647a7b228377f41a180e7"
      }
     },
     "afe0ebba3ef54c31b92fb0530565a0d6": {
      "model_module": "@jupyter-widgets/controls",
      "model_module_version": "1.0.0",
      "model_name": "DescriptionStyleModel",
      "state": {
       "description_width": ""
      }
     },
     "aff70f77be764ef5b76bb78287258e90": {
      "model_module": "@jupyter-widgets/base",
      "model_module_version": "1.0.0",
      "model_name": "LayoutModel",
      "state": {}
     },
     "b08af02c296f487b9b7a14fe61f9be43": {
      "model_module": "@jupyter-widgets/controls",
      "model_module_version": "1.0.0",
      "model_name": "VBoxModel",
      "state": {
       "children": [
        "IPY_MODEL_40700ff5f15e49db92bca6a2b0c42aff",
        "IPY_MODEL_e927fafd26fb4ef1b70b55230d28a810",
        "IPY_MODEL_b3cd1135eca24481b6a9e6691f92bf59"
       ],
       "layout": "IPY_MODEL_10410de12e024ea5ac6c60fb09e0ef34"
      }
     },
     "b08b31992c014005a8594f477dfdf572": {
      "model_module": "@jupyter-widgets/controls",
      "model_module_version": "1.0.0",
      "model_name": "DescriptionStyleModel",
      "state": {
       "description_width": ""
      }
     },
     "b09cb06898ee448185058de00e52a500": {
      "model_module": "@jupyter-widgets/base",
      "model_module_version": "1.0.0",
      "model_name": "LayoutModel",
      "state": {}
     },
     "b151f0be4e82479e822c95c7360d7b79": {
      "model_module": "@jupyter-widgets/base",
      "model_module_version": "1.0.0",
      "model_name": "LayoutModel",
      "state": {}
     },
     "b160352dd8f44bcd89accb630940784c": {
      "model_module": "@jupyter-widgets/controls",
      "model_module_version": "1.0.0",
      "model_name": "DropdownModel",
      "state": {
       "_options_labels": [
        "None Selected",
        "Africa",
        "North America",
        "South America"
       ],
       "description": "Project",
       "index": 0,
       "layout": "IPY_MODEL_f9f396db0aa5411685ba557abef90ad9",
       "style": "IPY_MODEL_ee689ba059ef44a09e40135f3a9eb8c5"
      }
     },
     "b17e731cb76444e5817676f2047c2577": {
      "model_module": "@jupyter-widgets/controls",
      "model_module_version": "1.0.0",
      "model_name": "DescriptionStyleModel",
      "state": {
       "description_width": "150px"
      }
     },
     "b24b7db4005741d3aa0e91733186cb1b": {
      "model_module": "@jupyter-widgets/controls",
      "model_module_version": "1.0.0",
      "model_name": "DropdownModel",
      "state": {
       "_options_labels": [
        "None Selected",
        "Africa",
        "North America",
        "South America"
       ],
       "description": "Project",
       "index": 0,
       "layout": "IPY_MODEL_902889665284420cb621d5b173c8431d",
       "style": "IPY_MODEL_25bc059738be4d02840af4de46cd3b4e"
      }
     },
     "b2578e09436d4c6d970aad05910da329": {
      "model_module": "@jupyter-widgets/controls",
      "model_module_version": "1.0.0",
      "model_name": "DropdownModel",
      "state": {
       "_options_labels": [
        "None Selected",
        "High Pressue Liquid Chromatography",
        "Electrophoresis",
        "Cell-based",
        "Mass Spectrometry",
        "Polymerase Chain Reaction",
        "Potency / Interaction",
        "Crystallography",
        "Protein Concentration"
       ],
       "description": "Fundamental Technique",
       "index": 1,
       "layout": "IPY_MODEL_c9a40f729e654da387b76d1612a0d0f1",
       "style": "IPY_MODEL_933733f3e5624859b1deb06298242951"
      }
     },
     "b27c6015421a468388819b802b453a70": {
      "model_module": "@jupyter-widgets/controls",
      "model_module_version": "1.0.0",
      "model_name": "VBoxModel",
      "state": {
       "children": [
        "IPY_MODEL_3b3c7fbe540046a3825c521459afc10f",
        "IPY_MODEL_9c24d5141b624449bec457f0b6866186",
        "IPY_MODEL_09bd479f8ebc4238aab4d52204525ea6"
       ],
       "layout": "IPY_MODEL_4ae730486ad44c3abaa7159585dd2351"
      }
     },
     "b2b017f1910644a9b04959cc36c16823": {
      "model_module": "@jupyter-widgets/base",
      "model_module_version": "1.0.0",
      "model_name": "LayoutModel",
      "state": {
       "width": "350px"
      }
     },
     "b2bae14e4f4c47ed93bdc510eb2da662": {
      "model_module": "@jupyter-widgets/base",
      "model_module_version": "1.0.0",
      "model_name": "LayoutModel",
      "state": {}
     },
     "b2d2391bdff44789824a551b9a2f41d2": {
      "model_module": "@jupyter-widgets/controls",
      "model_module_version": "1.0.0",
      "model_name": "VBoxModel",
      "state": {
       "children": [
        "IPY_MODEL_40700ff5f15e49db92bca6a2b0c42aff",
        "IPY_MODEL_0dab00001bef4592bb3a88e9761e6b43",
        "IPY_MODEL_2081ebc10e2a4a8c9c39e819cd072c28"
       ],
       "layout": "IPY_MODEL_7e8bb62bc6904de1978dc4b5811e9333"
      }
     },
     "b341dfdd0a4c46cc848566e7b528794c": {
      "model_module": "@jupyter-widgets/controls",
      "model_module_version": "1.0.0",
      "model_name": "VBoxModel",
      "state": {
       "children": [
        "IPY_MODEL_40700ff5f15e49db92bca6a2b0c42aff",
        "IPY_MODEL_d58c9d1526a54f8087d67230abdfaa3d",
        "IPY_MODEL_66c283dcd80645b6a63182223ec1029f"
       ],
       "layout": "IPY_MODEL_98310e92a99840d49d191166fb4c67c1"
      }
     },
     "b3c05d53f0004a5788f3171f17332587": {
      "model_module": "@jupyter-widgets/controls",
      "model_module_version": "1.0.0",
      "model_name": "DescriptionStyleModel",
      "state": {
       "description_width": ""
      }
     },
     "b3cbd25b25324f74875b3d790f4c66f7": {
      "model_module": "@jupyter-widgets/base",
      "model_module_version": "1.0.0",
      "model_name": "LayoutModel",
      "state": {
       "width": "450px"
      }
     },
     "b3cd1135eca24481b6a9e6691f92bf59": {
      "model_module": "@jupyter-widgets/controls",
      "model_module_version": "1.0.0",
      "model_name": "HBoxModel",
      "state": {
       "children": [
        "IPY_MODEL_3d1bea791e0e440f87a0b92ac04d8f7c",
        "IPY_MODEL_958be916eb5e44e1b33aaa7c229a692f"
       ],
       "layout": "IPY_MODEL_74e2dd2c3fb84633bbdb2b1373a3c3d4"
      }
     },
     "b3f4fa24c9004b03a71941d6b1c2bd13": {
      "model_module": "@jupyter-widgets/base",
      "model_module_version": "1.0.0",
      "model_name": "LayoutModel",
      "state": {}
     },
     "b4384ceca49f4fa3950edee7480884b6": {
      "model_module": "@jupyter-widgets/controls",
      "model_module_version": "1.0.0",
      "model_name": "DropdownModel",
      "state": {
       "_options_labels": [
        "None Selected",
        "High Pressue Liquid Chromatography",
        "Electrophoresis",
        "Cell-based",
        "Mass Spectrometry",
        "Polymerase Chain Reaction",
        "Potency / Interaction",
        "Crystallography",
        "Protein Concentration"
       ],
       "description": "Fundamental Technique",
       "index": 0,
       "layout": "IPY_MODEL_3aa471307ec1404cbbb014b0c90f4e20",
       "style": "IPY_MODEL_7e4910ff5cc6492f9fb428e942646be7"
      }
     },
     "b4ac7ff993674c22a499283a0a4872ea": {
      "model_module": "@jupyter-widgets/controls",
      "model_module_version": "1.0.0",
      "model_name": "DescriptionStyleModel",
      "state": {
       "description_width": ""
      }
     },
     "b50908c6759a4b1995e2f9fca6ace7db": {
      "model_module": "@jupyter-widgets/base",
      "model_module_version": "1.0.0",
      "model_name": "LayoutModel",
      "state": {}
     },
     "b52cc575e4844461abf560c6c5f801c1": {
      "model_module": "@jupyter-widgets/base",
      "model_module_version": "1.0.0",
      "model_name": "LayoutModel",
      "state": {}
     },
     "b6b9762726f64528a847049ac04d0393": {
      "model_module": "@jupyter-widgets/base",
      "model_module_version": "1.0.0",
      "model_name": "LayoutModel",
      "state": {
       "width": "350px"
      }
     },
     "b717b59839754a9890240499fbdfff13": {
      "model_module": "@jupyter-widgets/controls",
      "model_module_version": "1.0.0",
      "model_name": "DropdownModel",
      "state": {
       "_options_labels": [
        "None Selected",
        "High Pressue Liquid Chromatography",
        "Electrophoresis",
        "Cell-based",
        "Mass Spectrometry",
        "Polymerase Chain Reaction",
        "Potency / Interaction",
        "Crystallography",
        "Protein Concentration"
       ],
       "description": "Fundamental Technique",
       "index": 1,
       "layout": "IPY_MODEL_fd50e48317cb4506b8b002dcafd34126",
       "style": "IPY_MODEL_a1d36a31413a40239a8e56adff75fd38"
      }
     },
     "b7d87c324cc547dc8b5b661e1e396c46": {
      "model_module": "@jupyter-widgets/controls",
      "model_module_version": "1.0.0",
      "model_name": "DropdownModel",
      "state": {
       "_options_labels": [
        "None Selected",
        "High Pressue Liquid Chromatography",
        "Electrophoresis",
        "Cell-based",
        "Mass Spectrometry",
        "Polymerase Chain Reaction",
        "Potency / Interaction",
        "Crystallography",
        "Protein Concentration"
       ],
       "description": "Fundamental Technique",
       "index": 0,
       "layout": "IPY_MODEL_15d8e4f5e541469e84d848ec4f716be9",
       "style": "IPY_MODEL_948d6624547146ff8c73a38f51b5c295"
      }
     },
     "b814c0720566462e85fbc5acd5221382": {
      "model_module": "@jupyter-widgets/controls",
      "model_module_version": "1.0.0",
      "model_name": "DropdownModel",
      "state": {
       "_options_labels": [
        "None Selected",
        "High Pressue Liquid Chromatography",
        "Electrophoresis",
        "Cell-based",
        "Mass Spectrometry",
        "Polymerase Chain Reaction",
        "Potency / Interaction",
        "Crystallography",
        "Protein Concentration"
       ],
       "description": "Fundamental Technique",
       "index": 0,
       "layout": "IPY_MODEL_43cdb86d0e944c95ada007147c194de6",
       "style": "IPY_MODEL_d1b8550ae0df4d91b5f50cbfa6a73bf4"
      }
     },
     "b8e1585b39b3490ba47c58438c50c63d": {
      "model_module": "@jupyter-widgets/controls",
      "model_module_version": "1.0.0",
      "model_name": "DescriptionStyleModel",
      "state": {
       "description_width": ""
      }
     },
     "b8e69f973dc54f1a98ea6234e3974163": {
      "model_module": "@jupyter-widgets/base",
      "model_module_version": "1.0.0",
      "model_name": "LayoutModel",
      "state": {}
     },
     "b928008197674e3abf7494cf863a07fc": {
      "model_module": "@jupyter-widgets/controls",
      "model_module_version": "1.0.0",
      "model_name": "DescriptionStyleModel",
      "state": {
       "description_width": "initial"
      }
     },
     "b934258489fe4e90bf878b0c965bf610": {
      "model_module": "@jupyter-widgets/base",
      "model_module_version": "1.0.0",
      "model_name": "LayoutModel",
      "state": {
       "width": "350px"
      }
     },
     "b940cd36245243489682c8df14a45644": {
      "model_module": "@jupyter-widgets/controls",
      "model_module_version": "1.0.0",
      "model_name": "DescriptionStyleModel",
      "state": {
       "description_width": ""
      }
     },
     "b9852f6f4876487db925f7b2e416e821": {
      "model_module": "@jupyter-widgets/base",
      "model_module_version": "1.0.0",
      "model_name": "LayoutModel",
      "state": {}
     },
     "b99e8d7dcdb6496f8a090a448bd34b34": {
      "model_module": "@jupyter-widgets/base",
      "model_module_version": "1.0.0",
      "model_name": "LayoutModel",
      "state": {}
     },
     "b9cf6a96c11e4257a4e0caf7fb4320a7": {
      "model_module": "@jupyter-widgets/base",
      "model_module_version": "1.0.0",
      "model_name": "LayoutModel",
      "state": {}
     },
     "b9d30ac1df4747b085eeae1df211b14b": {
      "model_module": "@jupyter-widgets/controls",
      "model_module_version": "1.0.0",
      "model_name": "DescriptionStyleModel",
      "state": {
       "description_width": ""
      }
     },
     "ba1c4b5aa2b541258d83c83bd76505a1": {
      "model_module": "@jupyter-widgets/controls",
      "model_module_version": "1.0.0",
      "model_name": "DescriptionStyleModel",
      "state": {
       "description_width": ""
      }
     },
     "ba2e830da9cc4c8c8de08f6ab8f29d92": {
      "model_module": "@jupyter-widgets/controls",
      "model_module_version": "1.0.0",
      "model_name": "DropdownModel",
      "state": {
       "_options_labels": [
        "None Selected",
        "High Pressue Liquid Chromatography",
        "Electrophoresis",
        "Cell-based",
        "Mass Spectrometry",
        "Polymerase Chain Reaction",
        "Potency / Interaction",
        "Crystallography",
        "Protein Concentration"
       ],
       "description": "Fundamental Technique",
       "index": 0,
       "layout": "IPY_MODEL_c016d3e58f7e446caf4f95d17825a631",
       "style": "IPY_MODEL_91ef1906b65c4181b15e3ad7fab446e5"
      }
     },
     "ba95ac27b28546a395806c51ec018159": {
      "model_module": "@jupyter-widgets/controls",
      "model_module_version": "1.0.0",
      "model_name": "DescriptionStyleModel",
      "state": {
       "description_width": ""
      }
     },
     "baec5aef8b2446d19cc5f20197d0e7be": {
      "model_module": "@jupyter-widgets/controls",
      "model_module_version": "1.0.0",
      "model_name": "VBoxModel",
      "state": {
       "children": [
        "IPY_MODEL_40700ff5f15e49db92bca6a2b0c42aff",
        "IPY_MODEL_e2647831d43044a1b17785decb4f0e54",
        "IPY_MODEL_0e6b663ba3d44963b1f9d2cfdc8b498e"
       ],
       "layout": "IPY_MODEL_405074d1ac394e209dd6ee31993c128b"
      }
     },
     "baee2dfc90284db4a683e4ff4b43d678": {
      "model_module": "@jupyter-widgets/controls",
      "model_module_version": "1.0.0",
      "model_name": "DropdownModel",
      "state": {
       "_options_labels": [
        "None Selected",
        "High Pressue Liquid Chromatography",
        "Electrophoresis",
        "Cell-based",
        "Mass Spectrometry",
        "Polymerase Chain Reaction",
        "Potency / Interaction",
        "Crystallography",
        "Protein Concentration"
       ],
       "description": "Fundamental Technique",
       "index": 0,
       "layout": "IPY_MODEL_6a7f2d702cf9454f9b0218ca3bcb5c6e",
       "style": "IPY_MODEL_e4d4f9f532414bcfb8fe0109b1245505"
      }
     },
     "bba5f68b57e24453b1e587586dde9d78": {
      "model_module": "@jupyter-widgets/controls",
      "model_module_version": "1.0.0",
      "model_name": "DescriptionStyleModel",
      "state": {
       "description_width": "150px"
      }
     },
     "bc73e2740e10441b910201a9bcc29596": {
      "model_module": "@jupyter-widgets/controls",
      "model_module_version": "1.0.0",
      "model_name": "VBoxModel",
      "state": {
       "children": [
        "IPY_MODEL_907ea4d305a74ca99e529438ed7a4303",
        "IPY_MODEL_6c81ce9032d244259e5300ca21b8ff74",
        "IPY_MODEL_741404b0132d4afe9d6c582f4df94838"
       ],
       "layout": "IPY_MODEL_1471c3b2b6bf4c0eaa82adca3bbf31a6"
      }
     },
     "bc81497bd0fa46e4badf0788cfc5b863": {
      "model_module": "@jupyter-widgets/controls",
      "model_module_version": "1.0.0",
      "model_name": "DropdownModel",
      "state": {
       "_options_labels": [
        "None Selected",
        "Size Exclusion",
        "Anion Exchange",
        "Cation Exchange",
        "Polysorbate80",
        "Reverse Phase"
       ],
       "description": "Methodology",
       "index": 0,
       "layout": "IPY_MODEL_0ddcd5882fc4421687bf12493f8fbb97",
       "style": "IPY_MODEL_81a37ef5d478410684f0e32474b5f963"
      }
     },
     "bcb2ba7c853045d8bca30c6f0a94d059": {
      "model_module": "@jupyter-widgets/controls",
      "model_module_version": "1.0.0",
      "model_name": "DropdownModel",
      "state": {
       "_options_labels": [
        "None Selected",
        "CSL689",
        "CSL312",
        "CSL324",
        "CSL346",
        "CSL311",
        "CSL730"
       ],
       "description": "Project",
       "index": 0,
       "layout": "IPY_MODEL_93ed43dfe5434db6a474951e4e79283f",
       "style": "IPY_MODEL_52f27d60c9b843fdbcf4e1e6aea4f338"
      }
     },
     "bcea67bab9034521bc31f29f8fd860bc": {
      "model_module": "@jupyter-widgets/controls",
      "model_module_version": "1.0.0",
      "model_name": "DropdownModel",
      "state": {
       "_options_labels": [
        "None Selected",
        "CSL689",
        "CSL312",
        "CSL324",
        "CSL346",
        "CSL311",
        "CSL730"
       ],
       "description": "Project",
       "index": 0,
       "layout": "IPY_MODEL_91398d58cc1a43498c22766a01e3465c",
       "style": "IPY_MODEL_edbf627cb5dd4b85b06a711964f48a90"
      }
     },
     "bd7735e818074daaa68475ea7ecc17f7": {
      "model_module": "@jupyter-widgets/controls",
      "model_module_version": "1.0.0",
      "model_name": "DescriptionStyleModel",
      "state": {
       "description_width": ""
      }
     },
     "bd981fa9b35345f8ab683a9cac6e1700": {
      "model_module": "@jupyter-widgets/base",
      "model_module_version": "1.0.0",
      "model_name": "LayoutModel",
      "state": {
       "width": "350px"
      }
     },
     "bec4c18fc6cf4aa1b0027c1789bad9e3": {
      "model_module": "@jupyter-widgets/controls",
      "model_module_version": "1.0.0",
      "model_name": "HBoxModel",
      "state": {
       "children": [
        "IPY_MODEL_2d1c1b11536949959a5fb0a7c451d76c",
        "IPY_MODEL_958be916eb5e44e1b33aaa7c229a692f"
       ],
       "layout": "IPY_MODEL_9881c83b8bf14beca004af0d1a04c696"
      }
     },
     "bf38ec2425bf405f803066ceebdbee0a": {
      "model_module": "@jupyter-widgets/base",
      "model_module_version": "1.0.0",
      "model_name": "LayoutModel",
      "state": {
       "width": "450px"
      }
     },
     "bfb9560a391f4d4a8a14198cd85d75d8": {
      "model_module": "@jupyter-widgets/base",
      "model_module_version": "1.0.0",
      "model_name": "LayoutModel",
      "state": {
       "width": "350px"
      }
     },
     "bfe7bd7627774cb8b3c3208a739109e4": {
      "model_module": "@jupyter-widgets/base",
      "model_module_version": "1.0.0",
      "model_name": "LayoutModel",
      "state": {
       "width": "350px"
      }
     },
     "c016d3e58f7e446caf4f95d17825a631": {
      "model_module": "@jupyter-widgets/base",
      "model_module_version": "1.0.0",
      "model_name": "LayoutModel",
      "state": {
       "height": "200px",
       "width": "50%"
      }
     },
     "c03188adfd5d48bea789eef02af91acb": {
      "model_module": "@jupyter-widgets/controls",
      "model_module_version": "1.0.0",
      "model_name": "HBoxModel",
      "state": {
       "children": [
        "IPY_MODEL_3d1bea791e0e440f87a0b92ac04d8f7c",
        "IPY_MODEL_958be916eb5e44e1b33aaa7c229a692f"
       ],
       "layout": "IPY_MODEL_038b1037257e459997bc5922a5c37a91"
      }
     },
     "c06d9c9df5f940dd979d499eb00572fc": {
      "model_module": "@jupyter-widgets/controls",
      "model_module_version": "1.0.0",
      "model_name": "DescriptionStyleModel",
      "state": {
       "description_width": ""
      }
     },
     "c08eff069e044ac39d9d7844d17cb95a": {
      "model_module": "@jupyter-widgets/controls",
      "model_module_version": "1.0.0",
      "model_name": "HBoxModel",
      "state": {
       "children": [
        "IPY_MODEL_3d1bea791e0e440f87a0b92ac04d8f7c",
        "IPY_MODEL_958be916eb5e44e1b33aaa7c229a692f"
       ],
       "layout": "IPY_MODEL_8c4ba6e599234935b2d38d294786292c"
      }
     },
     "c11a2ab34ed5485f98b4b1bf2d109420": {
      "model_module": "@jupyter-widgets/controls",
      "model_module_version": "1.0.0",
      "model_name": "DescriptionStyleModel",
      "state": {
       "description_width": "150px"
      }
     },
     "c11c0c8341d4452c8236a8679f661871": {
      "model_module": "@jupyter-widgets/controls",
      "model_module_version": "1.0.0",
      "model_name": "HBoxModel",
      "state": {
       "children": [
        "IPY_MODEL_4f75a9dd9ea44eb0a93618d99c7bf923",
        "IPY_MODEL_958be916eb5e44e1b33aaa7c229a692f"
       ],
       "layout": "IPY_MODEL_a138279376ca4392b459bf4288002214"
      }
     },
     "c197f1aa3761470cabc01fc4042bd335": {
      "model_module": "@jupyter-widgets/controls",
      "model_module_version": "1.0.0",
      "model_name": "DescriptionStyleModel",
      "state": {
       "description_width": ""
      }
     },
     "c1b12ee6eebc490cbdab84d40f004de4": {
      "model_module": "@jupyter-widgets/controls",
      "model_module_version": "1.0.0",
      "model_name": "DropdownModel",
      "state": {
       "_options_labels": [
        "None Selected",
        "High Pressue Liquid Chromatography",
        "Electrophoresis",
        "Cell-based",
        "Mass Spectrometry",
        "Polymerase Chain Reaction",
        "Potency / Interaction",
        "Crystallography",
        "Protein Concentration"
       ],
       "description": "Fundamental Technique",
       "index": 1,
       "layout": "IPY_MODEL_675e5f54998842fabe4c86edcf020298",
       "style": "IPY_MODEL_ba1c4b5aa2b541258d83c83bd76505a1"
      }
     },
     "c1b1b8455b1644f185f4b4e8ad06b750": {
      "model_module": "@jupyter-widgets/controls",
      "model_module_version": "1.0.0",
      "model_name": "VBoxModel",
      "state": {
       "children": [
        "IPY_MODEL_57219adff3d2485385489760866d24c3",
        "IPY_MODEL_fc5b4adcce1c4f04b8cde3fddb86ec82",
        "IPY_MODEL_5324f736f28c4c7fbd42d252aee59ef7"
       ],
       "layout": "IPY_MODEL_760a87394d8a49ceacbc08d3363f9691"
      }
     },
     "c1c5ddc676844ed38d3b7ad8f2eb1e23": {
      "model_module": "@jupyter-widgets/controls",
      "model_module_version": "1.0.0",
      "model_name": "DropdownModel",
      "state": {
       "_options_labels": [
        "None Selected",
        "South Africa",
        "Rwanda",
        "Uganda",
        "Ethiopia"
       ],
       "description": "Countries",
       "index": 0,
       "layout": "IPY_MODEL_7b01073ed76e4bd1bd00fe7b88479be5",
       "style": "IPY_MODEL_d31e7008676b4261a4067a0fe4ecb030"
      }
     },
     "c28d779520cd434ca3b08a690dbe660e": {
      "model_module": "@jupyter-widgets/controls",
      "model_module_version": "1.0.0",
      "model_name": "DescriptionStyleModel",
      "state": {
       "description_width": "150px"
      }
     },
     "c2ac5e46e5b9484ebcc8c766e3de4948": {
      "model_module": "@jupyter-widgets/controls",
      "model_module_version": "1.0.0",
      "model_name": "HBoxModel",
      "state": {
       "children": [
        "IPY_MODEL_4f75a9dd9ea44eb0a93618d99c7bf923",
        "IPY_MODEL_958be916eb5e44e1b33aaa7c229a692f"
       ],
       "layout": "IPY_MODEL_4f101e71f1ab40038038454d547b9022"
      }
     },
     "c2e74cf9195d4d70a81322eb5168915a": {
      "model_module": "@jupyter-widgets/base",
      "model_module_version": "1.0.0",
      "model_name": "LayoutModel",
      "state": {
       "width": "450px"
      }
     },
     "c30d666b1580445fa6428aafaffadde5": {
      "model_module": "@jupyter-widgets/controls",
      "model_module_version": "1.0.0",
      "model_name": "VBoxModel",
      "state": {
       "children": [
        "IPY_MODEL_92297dc44e944300a0fabe03b7fc218f",
        "IPY_MODEL_03166eb67dca4ee792f89f845d8608c7",
        "IPY_MODEL_deaefe59c7a24057b80e402bebcf3fd4"
       ],
       "layout": "IPY_MODEL_1cf235cf83d34053a0f89b5e81755b0b"
      }
     },
     "c31256a0badc4ec2aa99f9621e2466b1": {
      "model_module": "@jupyter-widgets/base",
      "model_module_version": "1.0.0",
      "model_name": "LayoutModel",
      "state": {
       "width": "350px"
      }
     },
     "c3849bbe709940c4952ff2a284730b7b": {
      "model_module": "@jupyter-widgets/controls",
      "model_module_version": "1.0.0",
      "model_name": "HBoxModel",
      "state": {
       "children": [
        "IPY_MODEL_4f75a9dd9ea44eb0a93618d99c7bf923",
        "IPY_MODEL_958be916eb5e44e1b33aaa7c229a692f"
       ],
       "layout": "IPY_MODEL_25dc622cd8774751b6ddae01f4fe9d3e"
      }
     },
     "c39188e683e64c2c89ff5777a204f649": {
      "model_module": "@jupyter-widgets/controls",
      "model_module_version": "1.0.0",
      "model_name": "HBoxModel",
      "state": {
       "children": [
        "IPY_MODEL_3d1bea791e0e440f87a0b92ac04d8f7c",
        "IPY_MODEL_958be916eb5e44e1b33aaa7c229a692f"
       ],
       "layout": "IPY_MODEL_395170066c6745a48c172065ebf5279b"
      }
     },
     "c40a91a9699f456aae9528871ad2e9fe": {
      "model_module": "@jupyter-widgets/base",
      "model_module_version": "1.0.0",
      "model_name": "LayoutModel",
      "state": {
       "width": "350px"
      }
     },
     "c4c3e93f7b5d45439fc8667606dc0232": {
      "model_module": "@jupyter-widgets/base",
      "model_module_version": "1.0.0",
      "model_name": "LayoutModel",
      "state": {}
     },
     "c50837802b494461aa15294ff6f4f886": {
      "model_module": "@jupyter-widgets/controls",
      "model_module_version": "1.0.0",
      "model_name": "DescriptionStyleModel",
      "state": {
       "description_width": ""
      }
     },
     "c52cbd94d03342a69f4f22d1d6a5a3c6": {
      "model_module": "@jupyter-widgets/controls",
      "model_module_version": "1.0.0",
      "model_name": "DropdownModel",
      "state": {
       "_options_labels": [
        "None Selected",
        "High Pressue Liquid Chromatography",
        "Electrophoresis",
        "Cell-based",
        "Mass Spectrometry",
        "Polymerase Chain Reaction",
        "Potency / Interaction",
        "Crystallography",
        "Protein Concentration"
       ],
       "description": "Fundamental Technique",
       "index": 0,
       "layout": "IPY_MODEL_249cd74f3b5349cd996c2c36d84ab5e2",
       "style": "IPY_MODEL_17f0db181f764a48906dbffbe8c37125"
      }
     },
     "c5f27017d3074f429f447c7a3d84f9c4": {
      "model_module": "@jupyter-widgets/controls",
      "model_module_version": "1.0.0",
      "model_name": "DropdownModel",
      "state": {
       "_options_labels": [
        "None Selected",
        "Africa",
        "North America",
        "South America"
       ],
       "description": "Project",
       "index": 0,
       "layout": "IPY_MODEL_62b860b6f21f41b4bb139a897d4ef365",
       "style": "IPY_MODEL_013fed27698b4e6aa4c50d2813157d98"
      }
     },
     "c5f63d9f82154d1aa0da6c7ecf24909c": {
      "model_module": "@jupyter-widgets/base",
      "model_module_version": "1.0.0",
      "model_name": "LayoutModel",
      "state": {
       "width": "350px"
      }
     },
     "c6cfb58a0f034b3aae02433fed51d72a": {
      "model_module": "@jupyter-widgets/base",
      "model_module_version": "1.0.0",
      "model_name": "LayoutModel",
      "state": {
       "width": "350px"
      }
     },
     "c72ba963de0948659ecf58b471e4e1c8": {
      "model_module": "@jupyter-widgets/controls",
      "model_module_version": "1.0.0",
      "model_name": "VBoxModel",
      "state": {
       "children": [
        "IPY_MODEL_40700ff5f15e49db92bca6a2b0c42aff",
        "IPY_MODEL_18cbc00ef5c14b329d432889b3c9aba9",
        "IPY_MODEL_c39188e683e64c2c89ff5777a204f649"
       ],
       "layout": "IPY_MODEL_aecc63866174425194c7a4333f928135"
      }
     },
     "c75aac45c3b44f538b1cf1d4f455bfe8": {
      "model_module": "@jupyter-widgets/base",
      "model_module_version": "1.0.0",
      "model_name": "LayoutModel",
      "state": {}
     },
     "c77af9ef87f6431cbac4e50e8ac89933": {
      "model_module": "@jupyter-widgets/base",
      "model_module_version": "1.0.0",
      "model_name": "LayoutModel",
      "state": {}
     },
     "c87883660b854e3baa1fa2521cee196f": {
      "model_module": "@jupyter-widgets/base",
      "model_module_version": "1.0.0",
      "model_name": "LayoutModel",
      "state": {
       "width": "350px"
      }
     },
     "c88c938ffefc4870afedf9ecde56ad9d": {
      "model_module": "@jupyter-widgets/controls",
      "model_module_version": "1.0.0",
      "model_name": "DescriptionStyleModel",
      "state": {
       "description_width": ""
      }
     },
     "c8970e65ceff4aa296f8d70f1aa916c8": {
      "model_module": "@jupyter-widgets/base",
      "model_module_version": "1.0.0",
      "model_name": "LayoutModel",
      "state": {}
     },
     "c917892fee334a44b672a8b1c46b154e": {
      "model_module": "@jupyter-widgets/controls",
      "model_module_version": "1.0.0",
      "model_name": "DescriptionStyleModel",
      "state": {
       "description_width": ""
      }
     },
     "c9a40f729e654da387b76d1612a0d0f1": {
      "model_module": "@jupyter-widgets/base",
      "model_module_version": "1.0.0",
      "model_name": "LayoutModel",
      "state": {
       "width": "350px"
      }
     },
     "ca896f27da844245a3b5a1a3469d21bd": {
      "model_module": "@jupyter-widgets/controls",
      "model_module_version": "1.0.0",
      "model_name": "DropdownModel",
      "state": {
       "_options_labels": [
        "None Selected",
        "CSL689",
        "CSL312",
        "CSL324",
        "CSL346",
        "CSL311",
        "CSL730"
       ],
       "description": "Project",
       "index": 0,
       "layout": "IPY_MODEL_c5f63d9f82154d1aa0da6c7ecf24909c",
       "style": "IPY_MODEL_7660cda10b0748b396d74a1ee2e97386"
      }
     },
     "cb06b13bf33e4692a781b74e157f3601": {
      "model_module": "@jupyter-widgets/controls",
      "model_module_version": "1.0.0",
      "model_name": "DescriptionStyleModel",
      "state": {
       "description_width": "150px"
      }
     },
     "cb926d2177d340749c1c2bc7972e7a20": {
      "model_module": "@jupyter-widgets/controls",
      "model_module_version": "1.0.0",
      "model_name": "DescriptionStyleModel",
      "state": {
       "description_width": ""
      }
     },
     "cc394985c45e4207b18a6ed5040404eb": {
      "model_module": "@jupyter-widgets/base",
      "model_module_version": "1.0.0",
      "model_name": "LayoutModel",
      "state": {}
     },
     "cc5ffd1e70d7470a825c66845bb29d0b": {
      "model_module": "@jupyter-widgets/controls",
      "model_module_version": "1.0.0",
      "model_name": "HBoxModel",
      "state": {
       "children": [
        "IPY_MODEL_3d1bea791e0e440f87a0b92ac04d8f7c",
        "IPY_MODEL_958be916eb5e44e1b33aaa7c229a692f"
       ],
       "layout": "IPY_MODEL_b8e69f973dc54f1a98ea6234e3974163"
      }
     },
     "cdd73f176f2d454f9f359f8085b607c9": {
      "model_module": "@jupyter-widgets/controls",
      "model_module_version": "1.0.0",
      "model_name": "VBoxModel",
      "state": {
       "children": [
        "IPY_MODEL_1efdd12dc64746f7aa86982b2392278b",
        "IPY_MODEL_8e33642e732d43b3b3e09bfbb7174e5d",
        "IPY_MODEL_d7a3e878adcc4e9ab84f2698a9e6f30d"
       ],
       "layout": "IPY_MODEL_6f4fc4d65fef42fca23535db12da00ec"
      }
     },
     "cdec35fb2fbe4172afa2dc1304418545": {
      "model_module": "@jupyter-widgets/controls",
      "model_module_version": "1.0.0",
      "model_name": "DropdownModel",
      "state": {
       "_options_labels": [
        "None Selected",
        "CSL689",
        "CSL312",
        "CSL324",
        "CSL346",
        "CSL311",
        "CSL730"
       ],
       "description": "Project",
       "index": 1,
       "layout": "IPY_MODEL_4e68ea9fb63c4f49b40b78cafb075983",
       "style": "IPY_MODEL_502cf34e35044689987b63235664e604"
      }
     },
     "ceacbac5e9ec453b9147489e328686f9": {
      "model_module": "@jupyter-widgets/base",
      "model_module_version": "1.0.0",
      "model_name": "LayoutModel",
      "state": {}
     },
     "cead3c74ff3940b1b1894edc0d9f15ff": {
      "model_module": "@jupyter-widgets/controls",
      "model_module_version": "1.0.0",
      "model_name": "DescriptionStyleModel",
      "state": {
       "description_width": ""
      }
     },
     "cebe41681f214dca9fa7ef75044e2710": {
      "model_module": "@jupyter-widgets/controls",
      "model_module_version": "1.0.0",
      "model_name": "HBoxModel",
      "state": {
       "children": [
        "IPY_MODEL_4f75a9dd9ea44eb0a93618d99c7bf923",
        "IPY_MODEL_958be916eb5e44e1b33aaa7c229a692f"
       ],
       "layout": "IPY_MODEL_00bc3f5acd9b4530bf2f56a4d8bb0d9b"
      }
     },
     "cfc6e72e8be9484db015c7088b86fa50": {
      "model_module": "@jupyter-widgets/controls",
      "model_module_version": "1.0.0",
      "model_name": "DescriptionStyleModel",
      "state": {
       "description_width": ""
      }
     },
     "cff3a38a8cb94bbc8b23bc97bf922ae3": {
      "model_module": "@jupyter-widgets/controls",
      "model_module_version": "1.0.0",
      "model_name": "DropdownModel",
      "state": {
       "_options_labels": [
        "None Selected",
        "Africa",
        "North America",
        "South America"
       ],
       "description": "Project",
       "index": 0,
       "layout": "IPY_MODEL_fe6e0209627b414e810896e1ea82d518",
       "style": "IPY_MODEL_ba95ac27b28546a395806c51ec018159"
      }
     },
     "d026ef60a8594cd994b9d20273123543": {
      "model_module": "@jupyter-widgets/controls",
      "model_module_version": "1.0.0",
      "model_name": "DescriptionStyleModel",
      "state": {
       "description_width": ""
      }
     },
     "d06dddfa70514beebd8a9828c2a8853b": {
      "model_module": "@jupyter-widgets/base",
      "model_module_version": "1.0.0",
      "model_name": "LayoutModel",
      "state": {
       "width": "350px"
      }
     },
     "d1101825636a4373aac49e39b7d6ad97": {
      "model_module": "@jupyter-widgets/controls",
      "model_module_version": "1.0.0",
      "model_name": "DescriptionStyleModel",
      "state": {
       "description_width": ""
      }
     },
     "d1142319607443408ef2594e02a269a4": {
      "model_module": "@jupyter-widgets/controls",
      "model_module_version": "1.0.0",
      "model_name": "DescriptionStyleModel",
      "state": {
       "description_width": ""
      }
     },
     "d1b8550ae0df4d91b5f50cbfa6a73bf4": {
      "model_module": "@jupyter-widgets/controls",
      "model_module_version": "1.0.0",
      "model_name": "DescriptionStyleModel",
      "state": {
       "description_width": "initial"
      }
     },
     "d1d63ff9b2ef4bcbbdac9dc93a6f338d": {
      "model_module": "@jupyter-widgets/base",
      "model_module_version": "1.0.0",
      "model_name": "LayoutModel",
      "state": {
       "height": "20px",
       "width": "100px"
      }
     },
     "d22d5e26230d45b8ab8a4e991011837e": {
      "model_module": "@jupyter-widgets/controls",
      "model_module_version": "1.0.0",
      "model_name": "HBoxModel",
      "state": {
       "children": [
        "IPY_MODEL_3d1bea791e0e440f87a0b92ac04d8f7c",
        "IPY_MODEL_958be916eb5e44e1b33aaa7c229a692f"
       ],
       "layout": "IPY_MODEL_2358ce9e840747acb839885c4cae95ac"
      }
     },
     "d26898f4ddb8473daa5d3530def6c16b": {
      "model_module": "@jupyter-widgets/base",
      "model_module_version": "1.0.0",
      "model_name": "LayoutModel",
      "state": {}
     },
     "d31e7008676b4261a4067a0fe4ecb030": {
      "model_module": "@jupyter-widgets/controls",
      "model_module_version": "1.0.0",
      "model_name": "DescriptionStyleModel",
      "state": {
       "description_width": ""
      }
     },
     "d32793c114fd46e38d68fc2640c7d5cd": {
      "model_module": "@jupyter-widgets/controls",
      "model_module_version": "1.0.0",
      "model_name": "DescriptionStyleModel",
      "state": {
       "description_width": ""
      }
     },
     "d3532080b2604970bfbd1d7cdcc8abac": {
      "model_module": "@jupyter-widgets/controls",
      "model_module_version": "1.0.0",
      "model_name": "TextModel",
      "state": {
       "description": "ELN Name:",
       "layout": "IPY_MODEL_bf38ec2425bf405f803066ceebdbee0a",
       "placeholder": "Make selection from dropdowns",
       "style": "IPY_MODEL_869f4deb10844384bd932cd1fae05487",
       "value": "20180105_689_HPLC_SE"
      }
     },
     "d3e82e9aa14c44898614e2a5f2aaaa89": {
      "model_module": "@jupyter-widgets/base",
      "model_module_version": "1.0.0",
      "model_name": "LayoutModel",
      "state": {}
     },
     "d3f3c2b56bc7452680beafc2c3ec2679": {
      "model_module": "@jupyter-widgets/base",
      "model_module_version": "1.0.0",
      "model_name": "LayoutModel",
      "state": {}
     },
     "d4d101ffadcd4e37a985e91e1f7c9c9a": {
      "model_module": "@jupyter-widgets/controls",
      "model_module_version": "1.0.0",
      "model_name": "HBoxModel",
      "state": {
       "children": [
        "IPY_MODEL_3d1bea791e0e440f87a0b92ac04d8f7c",
        "IPY_MODEL_958be916eb5e44e1b33aaa7c229a692f"
       ],
       "layout": "IPY_MODEL_6ea9e8d1a79a41d3b4401e878764bcca"
      }
     },
     "d4d9e7953d774efd86778bf9a841e8c6": {
      "model_module": "@jupyter-widgets/controls",
      "model_module_version": "1.0.0",
      "model_name": "DescriptionStyleModel",
      "state": {
       "description_width": ""
      }
     },
     "d56b13d9fa53471f879b8f8def03374c": {
      "model_module": "@jupyter-widgets/base",
      "model_module_version": "1.0.0",
      "model_name": "LayoutModel",
      "state": {}
     },
     "d58c9d1526a54f8087d67230abdfaa3d": {
      "model_module": "@jupyter-widgets/controls",
      "model_module_version": "1.0.0",
      "model_name": "VBoxModel",
      "state": {
       "children": [
        "IPY_MODEL_cdec35fb2fbe4172afa2dc1304418545",
        "IPY_MODEL_b2578e09436d4c6d970aad05910da329",
        "IPY_MODEL_36d82d01307642c7bea0c0d14ce683e1"
       ],
       "layout": "IPY_MODEL_f9d861fbff8143429e7c7d72068f84ff"
      }
     },
     "d6171402eb2e45168d0744fa46df665c": {
      "model_module": "@jupyter-widgets/controls",
      "model_module_version": "1.0.0",
      "model_name": "VBoxModel",
      "state": {
       "children": [
        "IPY_MODEL_40700ff5f15e49db92bca6a2b0c42aff",
        "IPY_MODEL_ea4a50886f304295ae0fa979d51bb0bf",
        "IPY_MODEL_cc5ffd1e70d7470a825c66845bb29d0b"
       ],
       "layout": "IPY_MODEL_065d8edce45244a588f1e1cf40a1b220"
      }
     },
     "d6319a3f013545928ada2fd64f086a79": {
      "model_module": "@jupyter-widgets/controls",
      "model_module_version": "1.0.0",
      "model_name": "VBoxModel",
      "state": {
       "children": [
        "IPY_MODEL_40700ff5f15e49db92bca6a2b0c42aff",
        "IPY_MODEL_924634edad7d49879bc8e1bdf0f44aa0",
        "IPY_MODEL_e3fe03fff9684e359b93a29eb004b5d5"
       ],
       "layout": "IPY_MODEL_575e5613b6034289a762455f46fcce38"
      }
     },
     "d70f9217dd5f4a19938659cb97549719": {
      "model_module": "@jupyter-widgets/controls",
      "model_module_version": "1.0.0",
      "model_name": "HBoxModel",
      "state": {
       "children": [
        "IPY_MODEL_d3532080b2604970bfbd1d7cdcc8abac",
        "IPY_MODEL_a686a865a140455592f2ae31ad5656c5"
       ],
       "layout": "IPY_MODEL_0481258f980f4d8e8ac6a933e24e84d1"
      }
     },
     "d792fe7512e149ee8e268be6836157ce": {
      "model_module": "@jupyter-widgets/controls",
      "model_module_version": "1.0.0",
      "model_name": "DescriptionStyleModel",
      "state": {
       "description_width": ""
      }
     },
     "d7a3e878adcc4e9ab84f2698a9e6f30d": {
      "model_module": "@jupyter-widgets/controls",
      "model_module_version": "1.0.0",
      "model_name": "DropdownModel",
      "state": {
       "_options_labels": [
        "None Selected",
        "Size Exclusion",
        "Anion Exchange",
        "Cation Exchange",
        "Polysorbate80",
        "Reverse Phase"
       ],
       "description": "Methodology",
       "index": 0,
       "layout": "IPY_MODEL_1dd5783206e548aaba98296b002e32eb",
       "style": "IPY_MODEL_38312b59b8654940aefceb0bb86b0c5b"
      }
     },
     "d7e70da73c0e4da9a35d18bc2dd9b8ef": {
      "model_module": "@jupyter-widgets/base",
      "model_module_version": "1.0.0",
      "model_name": "LayoutModel",
      "state": {}
     },
     "d87be2f81ee047f3b71818a397dfb3a8": {
      "model_module": "@jupyter-widgets/controls",
      "model_module_version": "1.0.0",
      "model_name": "VBoxModel",
      "state": {
       "children": [
        "IPY_MODEL_40700ff5f15e49db92bca6a2b0c42aff",
        "IPY_MODEL_0c7a094922854a4ab0272c1064853c73",
        "IPY_MODEL_d22d5e26230d45b8ab8a4e991011837e"
       ],
       "layout": "IPY_MODEL_83ddf8ccaf5e405d8ee7e321739cd2e6"
      }
     },
     "d9aa451cd24845e687274c96f2d4eca5": {
      "model_module": "@jupyter-widgets/controls",
      "model_module_version": "1.0.0",
      "model_name": "DropdownModel",
      "state": {
       "_options_labels": [
        "None Selected",
        "High Pressue Liquid Chromatography",
        "Electrophoresis",
        "Cell-based",
        "Mass Spectrometry",
        "Polymerase Chain Reaction",
        "Potency / Interaction",
        "Crystallography",
        "Protein Concentration"
       ],
       "description": "Fundamental Technique",
       "index": 0,
       "layout": "IPY_MODEL_4172982215134b58bb60affb1705e186",
       "style": "IPY_MODEL_3ae689a82f2d41c099455120978a2c83"
      }
     },
     "da5ff9d70b9a4d9d9cbdbd929c073ca2": {
      "model_module": "@jupyter-widgets/base",
      "model_module_version": "1.0.0",
      "model_name": "LayoutModel",
      "state": {}
     },
     "da82223ac3e1418193edaca06672d6e4": {
      "model_module": "@jupyter-widgets/base",
      "model_module_version": "1.0.0",
      "model_name": "LayoutModel",
      "state": {}
     },
     "dc51c8a4b24b4bcabe9af8065d4064fb": {
      "model_module": "@jupyter-widgets/controls",
      "model_module_version": "1.0.0",
      "model_name": "VBoxModel",
      "state": {
       "children": [
        "IPY_MODEL_5ac398773bef44018f94348055bca359",
        "IPY_MODEL_5d82cc17ece940b29bc5cc0ae3c76579",
        "IPY_MODEL_44ada19e445d4120abb0ed43a02b671c"
       ],
       "layout": "IPY_MODEL_988a30ed3fe64fae96a7200570e50ed9"
      }
     },
     "dc82a77e55c04d479123f85d52189c00": {
      "model_module": "@jupyter-widgets/base",
      "model_module_version": "1.0.0",
      "model_name": "LayoutModel",
      "state": {
       "width": "350px"
      }
     },
     "dcbaddce1eef49e8a62c29223c8c2fd8": {
      "model_module": "@jupyter-widgets/base",
      "model_module_version": "1.0.0",
      "model_name": "LayoutModel",
      "state": {
       "width": "350px"
      }
     },
     "dcc3db5c124849b78bf36637a8bab2cc": {
      "model_module": "@jupyter-widgets/controls",
      "model_module_version": "1.0.0",
      "model_name": "DropdownModel",
      "state": {
       "_options_labels": [
        "None Selected",
        "Size Exclusion",
        "Anion Exchange",
        "Cation Exchange",
        "Polysorbate80",
        "Reverse Phase"
       ],
       "description": "Methodology",
       "index": 0,
       "layout": "IPY_MODEL_dcbaddce1eef49e8a62c29223c8c2fd8",
       "style": "IPY_MODEL_767e04f32c804f6bbdea1b726d21de53"
      }
     },
     "ddf92f056f964fffaa24a8742b7ff52d": {
      "model_module": "@jupyter-widgets/controls",
      "model_module_version": "1.0.0",
      "model_name": "HBoxModel",
      "state": {
       "children": [
        "IPY_MODEL_3d1bea791e0e440f87a0b92ac04d8f7c",
        "IPY_MODEL_958be916eb5e44e1b33aaa7c229a692f"
       ],
       "layout": "IPY_MODEL_62bf6caf05e94f249f4368db3b6dc886"
      }
     },
     "de67d581d5c44fa6a5305947eebc58a2": {
      "model_module": "@jupyter-widgets/base",
      "model_module_version": "1.0.0",
      "model_name": "LayoutModel",
      "state": {}
     },
     "dea083a454704b01b4393a848daec5cf": {
      "model_module": "@jupyter-widgets/controls",
      "model_module_version": "1.0.0",
      "model_name": "HBoxModel",
      "state": {
       "children": [
        "IPY_MODEL_4f75a9dd9ea44eb0a93618d99c7bf923",
        "IPY_MODEL_958be916eb5e44e1b33aaa7c229a692f"
       ],
       "layout": "IPY_MODEL_8fd950f462f74fb4adacc1c8741bac92"
      }
     },
     "dea2938fe2064c17a992341251b994d9": {
      "model_module": "@jupyter-widgets/base",
      "model_module_version": "1.0.0",
      "model_name": "LayoutModel",
      "state": {
       "width": "350px"
      }
     },
     "deaefe59c7a24057b80e402bebcf3fd4": {
      "model_module": "@jupyter-widgets/controls",
      "model_module_version": "1.0.0",
      "model_name": "DropdownModel",
      "state": {
       "_options_labels": [
        "None Selected",
        "Size Exclusion",
        "Anion Exchange",
        "Cation Exchange",
        "Polysorbate80",
        "Reverse Phase"
       ],
       "description": "Methodology",
       "index": 0,
       "layout": "IPY_MODEL_3b139351ad0748e3bc3adcce1fd20551",
       "style": "IPY_MODEL_3ce6c1c39a3e4e949d4b785e5d735108"
      }
     },
     "df2278cba20c4ad8b1283539f29e7401": {
      "model_module": "@jupyter-widgets/controls",
      "model_module_version": "1.0.0",
      "model_name": "DropdownModel",
      "state": {
       "_options_labels": [
        "None Selected",
        "Size Exclusion",
        "Anion Exchange",
        "Cation Exchange",
        "Polysorbate80",
        "Reverse Phase"
       ],
       "description": "Methodology",
       "index": 0,
       "layout": "IPY_MODEL_25239d8231a44ef18cdcbf692037b916",
       "style": "IPY_MODEL_a069afaf00104946ab3b304a4e97b086"
      }
     },
     "df5b3933f1af4e859ee75d9b82a97e16": {
      "model_module": "@jupyter-widgets/controls",
      "model_module_version": "1.0.0",
      "model_name": "VBoxModel",
      "state": {
       "children": [
        "IPY_MODEL_40700ff5f15e49db92bca6a2b0c42aff",
        "IPY_MODEL_ea4a50886f304295ae0fa979d51bb0bf",
        "IPY_MODEL_e294b903d59847dba9cef6a891e228d6"
       ],
       "layout": "IPY_MODEL_9901553d45d2468d845bd14ceb490fe7"
      }
     },
     "df83ee9668a04ba2a860e5c37d66bae3": {
      "model_module": "@jupyter-widgets/base",
      "model_module_version": "1.0.0",
      "model_name": "LayoutModel",
      "state": {}
     },
     "dfcc1d827ce0484cb60bfda3566ffe06": {
      "model_module": "@jupyter-widgets/base",
      "model_module_version": "1.0.0",
      "model_name": "LayoutModel",
      "state": {
       "width": "450px"
      }
     },
     "e0040471ec004a1889a5d08f48de84e4": {
      "model_module": "@jupyter-widgets/controls",
      "model_module_version": "1.0.0",
      "model_name": "DropdownModel",
      "state": {
       "_options_labels": [
        "None Selected",
        "High Pressue Liquid Chromatography",
        "Electrophoresis",
        "Cell-based",
        "Mass Spectrometry",
        "Polymerase Chain Reaction",
        "Potency / Interaction",
        "Crystallography",
        "Protein Concentration"
       ],
       "description": "Fundamental Technique",
       "index": 0,
       "layout": "IPY_MODEL_28142cbffec341a3993586be2690a0c0",
       "style": "IPY_MODEL_9aa26a90219b44608851cf22da8aa576"
      }
     },
     "e01a3fb7e32d459fac262b4ef53abad3": {
      "model_module": "@jupyter-widgets/controls",
      "model_module_version": "1.0.0",
      "model_name": "HBoxModel",
      "state": {
       "children": [
        "IPY_MODEL_4f75a9dd9ea44eb0a93618d99c7bf923",
        "IPY_MODEL_958be916eb5e44e1b33aaa7c229a692f"
       ],
       "layout": "IPY_MODEL_fa013a02d82d4c07bc1ef2a6daae9738"
      }
     },
     "e0572b542245490e9f4e5f5fbd37fd89": {
      "model_module": "@jupyter-widgets/controls",
      "model_module_version": "1.0.0",
      "model_name": "DescriptionStyleModel",
      "state": {
       "description_width": "150px"
      }
     },
     "e14ac2316a1044fe8632e61bad18977d": {
      "model_module": "@jupyter-widgets/base",
      "model_module_version": "1.0.0",
      "model_name": "LayoutModel",
      "state": {}
     },
     "e1b4f958ccb9442ebcbf9127fe0078f4": {
      "model_module": "@jupyter-widgets/base",
      "model_module_version": "1.0.0",
      "model_name": "LayoutModel",
      "state": {
       "width": "350px"
      }
     },
     "e1d39af67a4541bda9a641c93f6a8796": {
      "model_module": "@jupyter-widgets/base",
      "model_module_version": "1.0.0",
      "model_name": "LayoutModel",
      "state": {}
     },
     "e200fa2944cf4a73bab5af2066f3ea42": {
      "model_module": "@jupyter-widgets/base",
      "model_module_version": "1.0.0",
      "model_name": "LayoutModel",
      "state": {
       "width": "350px"
      }
     },
     "e22ba96f2b7f4fd0a9cc538efe6d2a43": {
      "model_module": "@jupyter-widgets/base",
      "model_module_version": "1.0.0",
      "model_name": "LayoutModel",
      "state": {
       "width": "350px"
      }
     },
     "e2647831d43044a1b17785decb4f0e54": {
      "model_module": "@jupyter-widgets/controls",
      "model_module_version": "1.0.0",
      "model_name": "VBoxModel",
      "state": {
       "children": [
        "IPY_MODEL_0bc36f18b04a4e08bbefdb42fd09dd03",
        "IPY_MODEL_e40b0f5ca609444183718a1e0875f46a",
        "IPY_MODEL_8a01d6ae9afd4fcb93c4c929e3dff9ff"
       ],
       "layout": "IPY_MODEL_8b368db78ebd4d6abf5c573cb2cff5f6"
      }
     },
     "e294b903d59847dba9cef6a891e228d6": {
      "model_module": "@jupyter-widgets/controls",
      "model_module_version": "1.0.0",
      "model_name": "HBoxModel",
      "state": {
       "children": [
        "IPY_MODEL_3d1bea791e0e440f87a0b92ac04d8f7c",
        "IPY_MODEL_958be916eb5e44e1b33aaa7c229a692f"
       ],
       "layout": "IPY_MODEL_7054bf3e1c1447e88ccc7562db8a13c2"
      }
     },
     "e2fb6b4ba99b49b089c262a9a1c90c59": {
      "model_module": "@jupyter-widgets/controls",
      "model_module_version": "1.0.0",
      "model_name": "DropdownModel",
      "state": {
       "_options_labels": [
        "None Selected",
        "Size Exclusion",
        "Anion Exchange",
        "Cation Exchange",
        "Polysorbate80",
        "Reverse Phase"
       ],
       "description": "Methodology",
       "index": 0,
       "layout": "IPY_MODEL_ac23987a83f147e681553f61df3419a4",
       "style": "IPY_MODEL_778052f4089548ca952d917967b8b079"
      }
     },
     "e327044d2a2b40148febd343fcc63674": {
      "model_module": "@jupyter-widgets/controls",
      "model_module_version": "1.0.0",
      "model_name": "DescriptionStyleModel",
      "state": {
       "description_width": "150px"
      }
     },
     "e393c9c49f3d4162b3fa81490a4435cc": {
      "model_module": "@jupyter-widgets/controls",
      "model_module_version": "1.0.0",
      "model_name": "DropdownModel",
      "state": {
       "_options_labels": [
        "None Selected",
        "High Pressue Liquid Chromatography",
        "Electrophoresis",
        "Cell-based",
        "Mass Spectrometry",
        "Polymerase Chain Reaction",
        "Potency / Interaction",
        "Crystallography",
        "Protein Concentration"
       ],
       "description": "Fundamental Technique",
       "index": 0,
       "layout": "IPY_MODEL_dea2938fe2064c17a992341251b994d9",
       "style": "IPY_MODEL_7bbbc10ce44848859705ee6cf6294199"
      }
     },
     "e3abd92d0de34e409c8e8725b1934b5f": {
      "model_module": "@jupyter-widgets/controls",
      "model_module_version": "1.0.0",
      "model_name": "HBoxModel",
      "state": {
       "children": [
        "IPY_MODEL_3d1bea791e0e440f87a0b92ac04d8f7c",
        "IPY_MODEL_958be916eb5e44e1b33aaa7c229a692f"
       ],
       "layout": "IPY_MODEL_9886704563854238ab9bbc58269139bb"
      }
     },
     "e3ae22f03201472b95c12c81cdd4b71a": {
      "model_module": "@jupyter-widgets/controls",
      "model_module_version": "1.0.0",
      "model_name": "VBoxModel",
      "state": {
       "children": [
        "IPY_MODEL_e6a6e439a1754a5f8972709d776b9dab",
        "IPY_MODEL_640984448c524f78a15691c9043a186e",
        "IPY_MODEL_dcc3db5c124849b78bf36637a8bab2cc"
       ],
       "layout": "IPY_MODEL_d7e70da73c0e4da9a35d18bc2dd9b8ef"
      }
     },
     "e3d170a1bfeb44cf88ce934427043d9a": {
      "model_module": "@jupyter-widgets/controls",
      "model_module_version": "1.0.0",
      "model_name": "HBoxModel",
      "state": {
       "children": [
        "IPY_MODEL_3d1bea791e0e440f87a0b92ac04d8f7c",
        "IPY_MODEL_958be916eb5e44e1b33aaa7c229a692f"
       ],
       "layout": "IPY_MODEL_b9cf6a96c11e4257a4e0caf7fb4320a7"
      }
     },
     "e3fe03fff9684e359b93a29eb004b5d5": {
      "model_module": "@jupyter-widgets/controls",
      "model_module_version": "1.0.0",
      "model_name": "HBoxModel",
      "state": {
       "children": [
        "IPY_MODEL_3d1bea791e0e440f87a0b92ac04d8f7c",
        "IPY_MODEL_958be916eb5e44e1b33aaa7c229a692f"
       ],
       "layout": "IPY_MODEL_5b04cb38efe74dd79446851065e44bdb"
      }
     },
     "e40b0f5ca609444183718a1e0875f46a": {
      "model_module": "@jupyter-widgets/controls",
      "model_module_version": "1.0.0",
      "model_name": "DropdownModel",
      "state": {
       "_options_labels": [
        "None Selected",
        "High Pressue Liquid Chromatography",
        "Electrophoresis",
        "Cell-based",
        "Mass Spectrometry",
        "Polymerase Chain Reaction",
        "Potency / Interaction",
        "Crystallography",
        "Protein Concentration"
       ],
       "description": "Fundamental Technique",
       "index": 0,
       "layout": "IPY_MODEL_e86843c11a234ef4af84e20da9a09f87",
       "style": "IPY_MODEL_65d27920a6e04871b7bb9edb2b6b552c"
      }
     },
     "e4181c90c58d41a4bb64de7b55de4136": {
      "model_module": "@jupyter-widgets/controls",
      "model_module_version": "1.0.0",
      "model_name": "DropdownModel",
      "state": {
       "_options_labels": [
        "None Selected",
        "Size Exclusion",
        "Anion Exchange",
        "Cation Exchange",
        "Polysorbate80",
        "Reverse Phase"
       ],
       "description": "Methodology",
       "index": 0,
       "layout": "IPY_MODEL_97e5cb3a11734a909e849b5d50ee3b56",
       "style": "IPY_MODEL_c50837802b494461aa15294ff6f4f886"
      }
     },
     "e475547ff907478180904af2ebda25ea": {
      "model_module": "@jupyter-widgets/controls",
      "model_module_version": "1.0.0",
      "model_name": "DescriptionStyleModel",
      "state": {
       "description_width": ""
      }
     },
     "e48b0625fa034aa5880084f95e2bfad2": {
      "model_module": "@jupyter-widgets/base",
      "model_module_version": "1.0.0",
      "model_name": "LayoutModel",
      "state": {
       "height": "80px",
       "width": "50%"
      }
     },
     "e4d4f9f532414bcfb8fe0109b1245505": {
      "model_module": "@jupyter-widgets/controls",
      "model_module_version": "1.0.0",
      "model_name": "DescriptionStyleModel",
      "state": {
       "description_width": ""
      }
     },
     "e53776c3959440d293837a506578cc9c": {
      "model_module": "@jupyter-widgets/controls",
      "model_module_version": "1.0.0",
      "model_name": "DropdownModel",
      "state": {
       "_options_labels": [
        "None Selected",
        "CSL689",
        "CSL312",
        "CSL324",
        "CSL346",
        "CSL311",
        "CSL730"
       ],
       "description": "Project",
       "index": 0,
       "layout": "IPY_MODEL_bfe7bd7627774cb8b3c3208a739109e4",
       "style": "IPY_MODEL_2b5d2d6185a142b7863a70cd313c040e"
      }
     },
     "e5662031331a4d70af317866c1b63ed2": {
      "model_module": "@jupyter-widgets/base",
      "model_module_version": "1.0.0",
      "model_name": "LayoutModel",
      "state": {}
     },
     "e58657cac78d41f0a0b72f62f807dca0": {
      "model_module": "@jupyter-widgets/base",
      "model_module_version": "1.0.0",
      "model_name": "LayoutModel",
      "state": {}
     },
     "e6a6e439a1754a5f8972709d776b9dab": {
      "model_module": "@jupyter-widgets/controls",
      "model_module_version": "1.0.0",
      "model_name": "DropdownModel",
      "state": {
       "_options_labels": [
        "None Selected",
        "CSL689",
        "CSL312",
        "CSL324",
        "CSL346",
        "CSL311",
        "CSL730"
       ],
       "description": "Project",
       "index": 0,
       "layout": "IPY_MODEL_79bc78af4db94a5e81b9b2e460ea9319",
       "style": "IPY_MODEL_420c14295ca14a65bed74ea246c2b879"
      }
     },
     "e6aebc4779b24bed9f41090f192755ce": {
      "model_module": "@jupyter-widgets/controls",
      "model_module_version": "1.0.0",
      "model_name": "DescriptionStyleModel",
      "state": {
       "description_width": "150px"
      }
     },
     "e6fe67579ce846ad92b899dccaed5ccd": {
      "model_module": "@jupyter-widgets/base",
      "model_module_version": "1.0.0",
      "model_name": "LayoutModel",
      "state": {
       "width": "350px"
      }
     },
     "e71d39b81ff445e2a85322c265e7cfcb": {
      "model_module": "@jupyter-widgets/controls",
      "model_module_version": "1.0.0",
      "model_name": "DropdownModel",
      "state": {
       "_options_labels": [
        "None Selected",
        "Size Exclusion",
        "Anion Exchange",
        "Cation Exchange",
        "Polysorbate80",
        "Reverse Phase"
       ],
       "description": "Methodology",
       "index": 0,
       "layout": "IPY_MODEL_64da673cd0294cc79caf460c47c25531",
       "style": "IPY_MODEL_ed39aa735a3a41f58bc6ed1879da43fb"
      }
     },
     "e7b6bd5ee0824f40b92d1a19d42c54b9": {
      "model_module": "@jupyter-widgets/controls",
      "model_module_version": "1.0.0",
      "model_name": "DescriptionStyleModel",
      "state": {
       "description_width": ""
      }
     },
     "e859acdfe91244808e5bf57bee31ded8": {
      "model_module": "@jupyter-widgets/base",
      "model_module_version": "1.0.0",
      "model_name": "LayoutModel",
      "state": {
       "width": "350px"
      }
     },
     "e86843c11a234ef4af84e20da9a09f87": {
      "model_module": "@jupyter-widgets/base",
      "model_module_version": "1.0.0",
      "model_name": "LayoutModel",
      "state": {
       "width": "350px"
      }
     },
     "e8c76716822f44d3a9df0fe24b395bb0": {
      "model_module": "@jupyter-widgets/controls",
      "model_module_version": "1.0.0",
      "model_name": "VBoxModel",
      "state": {
       "children": [
        "IPY_MODEL_3b3c7fbe540046a3825c521459afc10f",
        "IPY_MODEL_ec9c0d326eb04360a8562ff84be349ae",
        "IPY_MODEL_928112b441a04c1ca7e6510543bc4bc1"
       ],
       "layout": "IPY_MODEL_f4d55655f67044c68e67c831932107bb"
      }
     },
     "e927fafd26fb4ef1b70b55230d28a810": {
      "model_module": "@jupyter-widgets/controls",
      "model_module_version": "1.0.0",
      "model_name": "VBoxModel",
      "state": {
       "children": [
        "IPY_MODEL_498b861ef50444c1a567f1235d08fb46",
        "IPY_MODEL_c52cbd94d03342a69f4f22d1d6a5a3c6",
        "IPY_MODEL_a1227ade92164b1f8202c5d2091d4eb6"
       ],
       "layout": "IPY_MODEL_6e8cd70d54464560b5427d5c18071ca5"
      }
     },
     "e99cd8b2694643988d7e7cedba6dbd5b": {
      "model_module": "@jupyter-widgets/controls",
      "model_module_version": "1.0.0",
      "model_name": "DescriptionStyleModel",
      "state": {
       "description_width": ""
      }
     },
     "ea4a50886f304295ae0fa979d51bb0bf": {
      "model_module": "@jupyter-widgets/controls",
      "model_module_version": "1.0.0",
      "model_name": "VBoxModel",
      "state": {
       "children": [
        "IPY_MODEL_ee6c4b30a5be458a90730176ab6b664a",
        "IPY_MODEL_51aa695658414267b400becc73d23d5f",
        "IPY_MODEL_a41042a9f59e4f75b55501af2f1d2e2f"
       ],
       "layout": "IPY_MODEL_1334a185d7ea4caea716ffa9c6400c6a"
      }
     },
     "ea64e47ac6f74b53879cfa9632ef2e0e": {
      "model_module": "@jupyter-widgets/controls",
      "model_module_version": "1.0.0",
      "model_name": "DescriptionStyleModel",
      "state": {
       "description_width": "150px"
      }
     },
     "ea97085614a549899d79c716269082cc": {
      "model_module": "@jupyter-widgets/base",
      "model_module_version": "1.0.0",
      "model_name": "LayoutModel",
      "state": {}
     },
     "eb390f8def5b4e1a81fd597288d93669": {
      "model_module": "@jupyter-widgets/controls",
      "model_module_version": "1.0.0",
      "model_name": "DropdownModel",
      "state": {
       "_options_labels": [
        "None Selected",
        "High Pressue Liquid Chromatography",
        "Electrophoresis",
        "Cell-based",
        "Mass Spectrometry",
        "Polymerase Chain Reaction",
        "Potency / Interaction",
        "Crystallography",
        "Protein Concentration"
       ],
       "description": "Fundamental Technique",
       "index": 0,
       "layout": "IPY_MODEL_96ce0ab36ce3457e80c801299bd697d2",
       "style": "IPY_MODEL_381be0f71dcb4121a288097ac6b133ce"
      }
     },
     "eb8dd970255f4d89ab25832a259f1b92": {
      "model_module": "@jupyter-widgets/controls",
      "model_module_version": "1.0.0",
      "model_name": "DropdownModel",
      "state": {
       "_options_labels": [
        "None Selected",
        "Size Exclusion",
        "Anion Exchange",
        "Cation Exchange",
        "Polysorbate80",
        "Reverse Phase"
       ],
       "description": "Methodology",
       "index": 0,
       "layout": "IPY_MODEL_2fae0fc8a9e445b69f57479e4c209cf7",
       "style": "IPY_MODEL_3bb7765654844d709d03f5897b6d4a98"
      }
     },
     "ebf4b8e8edcd43cda7407ff73c68ccb6": {
      "model_module": "@jupyter-widgets/base",
      "model_module_version": "1.0.0",
      "model_name": "LayoutModel",
      "state": {}
     },
     "ec9c0d326eb04360a8562ff84be349ae": {
      "model_module": "@jupyter-widgets/controls",
      "model_module_version": "1.0.0",
      "model_name": "VBoxModel",
      "state": {
       "children": [
        "IPY_MODEL_5d039a0e2eb3495d905aa1c587ef9c97",
        "IPY_MODEL_039ddf3f9d2c43bf95c50aa85122c0dc",
        "IPY_MODEL_1bfdae9b253c4854ba53c3959a8f041c"
       ],
       "layout": "IPY_MODEL_fac0878b77c140188754d7f192dd3a00"
      }
     },
     "ecab41f4780340b892100c744eac1b36": {
      "model_module": "@jupyter-widgets/base",
      "model_module_version": "1.0.0",
      "model_name": "LayoutModel",
      "state": {}
     },
     "ed39aa735a3a41f58bc6ed1879da43fb": {
      "model_module": "@jupyter-widgets/controls",
      "model_module_version": "1.0.0",
      "model_name": "DescriptionStyleModel",
      "state": {
       "description_width": ""
      }
     },
     "edbf627cb5dd4b85b06a711964f48a90": {
      "model_module": "@jupyter-widgets/controls",
      "model_module_version": "1.0.0",
      "model_name": "DescriptionStyleModel",
      "state": {
       "description_width": ""
      }
     },
     "edc8d1409ec647ce99f1030f6d2b6fae": {
      "model_module": "@jupyter-widgets/controls",
      "model_module_version": "1.0.0",
      "model_name": "VBoxModel",
      "state": {
       "children": [
        "IPY_MODEL_3b3c7fbe540046a3825c521459afc10f",
        "IPY_MODEL_ec9c0d326eb04360a8562ff84be349ae",
        "IPY_MODEL_e01a3fb7e32d459fac262b4ef53abad3"
       ],
       "layout": "IPY_MODEL_0ed69701b53642b6acaaa9c1bffb650b"
      }
     },
     "ee689ba059ef44a09e40135f3a9eb8c5": {
      "model_module": "@jupyter-widgets/controls",
      "model_module_version": "1.0.0",
      "model_name": "DescriptionStyleModel",
      "state": {
       "description_width": ""
      }
     },
     "ee6c4b30a5be458a90730176ab6b664a": {
      "model_module": "@jupyter-widgets/controls",
      "model_module_version": "1.0.0",
      "model_name": "DropdownModel",
      "state": {
       "_options_labels": [
        "None Selected",
        "CSL689",
        "CSL312",
        "CSL324",
        "CSL346",
        "CSL311",
        "CSL730"
       ],
       "description": "Project",
       "index": 1,
       "layout": "IPY_MODEL_2895332e484341bfb4cf5e51972e5626",
       "style": "IPY_MODEL_afe0ebba3ef54c31b92fb0530565a0d6"
      }
     },
     "ee86c156e3de49d9ba15abc8a4a1cc12": {
      "model_module": "@jupyter-widgets/controls",
      "model_module_version": "1.0.0",
      "model_name": "VBoxModel",
      "state": {
       "children": [
        "IPY_MODEL_1735d55abbf147e98925899874ceb512",
        "IPY_MODEL_b814c0720566462e85fbc5acd5221382",
        "IPY_MODEL_0cd5535f167345efb617d7183fc977fe"
       ],
       "layout": "IPY_MODEL_f621a29485b14df49b061753a64d5941"
      }
     },
     "efc8fc02a7bc47789f03803be150c6ed": {
      "model_module": "@jupyter-widgets/base",
      "model_module_version": "1.0.0",
      "model_name": "LayoutModel",
      "state": {}
     },
     "eff217738a644f36a1289a3be37ef3aa": {
      "model_module": "@jupyter-widgets/controls",
      "model_module_version": "1.0.0",
      "model_name": "DropdownModel",
      "state": {
       "_options_labels": [
        "None Selected",
        "High Pressue Liquid Chromatography",
        "Electrophoresis",
        "Cell-based",
        "Mass Spectrometry",
        "Polymerase Chain Reaction",
        "Potency / Interaction",
        "Crystallography",
        "Protein Concentration"
       ],
       "description": "Fundamental Technique",
       "index": 0,
       "layout": "IPY_MODEL_164900e10f5844e1868b359107f52bea",
       "style": "IPY_MODEL_79b51ba65d97497aa72de2c1026e39a4"
      }
     },
     "f010ce3b80d94a64a92fe25bd9bc4248": {
      "model_module": "@jupyter-widgets/controls",
      "model_module_version": "1.0.0",
      "model_name": "DescriptionStyleModel",
      "state": {
       "description_width": ""
      }
     },
     "f1265c411d9149ae98fb087fe6dbc11b": {
      "model_module": "@jupyter-widgets/controls",
      "model_module_version": "1.0.0",
      "model_name": "DescriptionStyleModel",
      "state": {
       "description_width": ""
      }
     },
     "f1c2c1cade0148d6b9791ef15ff8889e": {
      "model_module": "@jupyter-widgets/controls",
      "model_module_version": "1.0.0",
      "model_name": "DropdownModel",
      "state": {
       "_options_labels": [
        "None Selected",
        "CSL689",
        "CSL312",
        "CSL324",
        "CSL346",
        "CSL311",
        "CSL730"
       ],
       "description": "Project",
       "index": 0,
       "layout": "IPY_MODEL_e5662031331a4d70af317866c1b63ed2",
       "style": "IPY_MODEL_ae5ff7218b3e4628a84e082a5c83d9ba"
      }
     },
     "f1c9a9fe1da14b9bad4cdc1b8fd1e9b7": {
      "model_module": "@jupyter-widgets/base",
      "model_module_version": "1.0.0",
      "model_name": "LayoutModel",
      "state": {}
     },
     "f1d637ae43e44451baaa9675d4e669fc": {
      "model_module": "@jupyter-widgets/controls",
      "model_module_version": "1.0.0",
      "model_name": "DatePickerModel",
      "state": {
       "description": "Analysis Date",
       "disabled": false,
       "layout": "IPY_MODEL_3c9a52747ec84886946f3a4527abe49e",
       "style": "IPY_MODEL_3d8338a0c5c64993904ddddf1aaedc9b",
       "value": {
        "date": 5,
        "month": 0,
        "year": 2018
       }
      }
     },
     "f1f9435d2b3e4dc68c83796acd2d1be5": {
      "model_module": "@jupyter-widgets/base",
      "model_module_version": "1.0.0",
      "model_name": "LayoutModel",
      "state": {
       "width": "350px"
      }
     },
     "f2ef4ccdad34446b96674bef6842a4a7": {
      "model_module": "@jupyter-widgets/base",
      "model_module_version": "1.0.0",
      "model_name": "LayoutModel",
      "state": {}
     },
     "f3cb794e6e3c49409d71173243cbeed8": {
      "model_module": "@jupyter-widgets/controls",
      "model_module_version": "1.0.0",
      "model_name": "DescriptionStyleModel",
      "state": {
       "description_width": "initial"
      }
     },
     "f475bcb15d3b468698499f26ee6e6552": {
      "model_module": "@jupyter-widgets/controls",
      "model_module_version": "1.0.0",
      "model_name": "DropdownModel",
      "state": {
       "_options_labels": [
        "None Selected",
        "High Pressue Liquid Chromatography",
        "Electrophoresis",
        "Cell-based",
        "Mass Spectrometry",
        "Polymerase Chain Reaction",
        "Potency / Interaction",
        "Crystallography",
        "Protein Concentration"
       ],
       "description": "Fundamental Technique",
       "index": 0,
       "layout": "IPY_MODEL_205144f19a1d408ab568887e60ca8d8a",
       "style": "IPY_MODEL_af737012811341c3b743a32db6be417b"
      }
     },
     "f4d55655f67044c68e67c831932107bb": {
      "model_module": "@jupyter-widgets/base",
      "model_module_version": "1.0.0",
      "model_name": "LayoutModel",
      "state": {
       "height": "200px",
       "width": "100%"
      }
     },
     "f5555590d8a243908a585b1287c2eb62": {
      "model_module": "@jupyter-widgets/base",
      "model_module_version": "1.0.0",
      "model_name": "LayoutModel",
      "state": {}
     },
     "f555ba7425aa43b69d280a7f743faf9e": {
      "model_module": "@jupyter-widgets/base",
      "model_module_version": "1.0.0",
      "model_name": "LayoutModel",
      "state": {
       "width": "350px"
      }
     },
     "f56884f5c4704ef998887ec914536985": {
      "model_module": "@jupyter-widgets/controls",
      "model_module_version": "1.0.0",
      "model_name": "DropdownModel",
      "state": {
       "_options_labels": [
        "None Selected",
        "High Pressue Liquid Chromatography",
        "Electrophoresis",
        "Cell-based",
        "Mass Spectrometry",
        "Polymerase Chain Reaction",
        "Potency / Interaction",
        "Crystallography",
        "Protein Concentration"
       ],
       "description": "Fundamental Technique",
       "index": 1,
       "layout": "IPY_MODEL_47a8b473ee3e40cc851c3b0cb4aeeeb8",
       "style": "IPY_MODEL_b4ac7ff993674c22a499283a0a4872ea"
      }
     },
     "f621a29485b14df49b061753a64d5941": {
      "model_module": "@jupyter-widgets/base",
      "model_module_version": "1.0.0",
      "model_name": "LayoutModel",
      "state": {}
     },
     "f6533802ada046769912461d790f440d": {
      "model_module": "@jupyter-widgets/base",
      "model_module_version": "1.0.0",
      "model_name": "LayoutModel",
      "state": {}
     },
     "f6948a07b25249e29d4b6b07047ed4fd": {
      "model_module": "@jupyter-widgets/base",
      "model_module_version": "1.0.0",
      "model_name": "LayoutModel",
      "state": {}
     },
     "f6bc1a9dbf4645f0b8079f7b0183568c": {
      "model_module": "@jupyter-widgets/base",
      "model_module_version": "1.0.0",
      "model_name": "LayoutModel",
      "state": {}
     },
     "f6c2baf65dfb40aeaa81ce9da7db6500": {
      "model_module": "@jupyter-widgets/base",
      "model_module_version": "1.0.0",
      "model_name": "LayoutModel",
      "state": {}
     },
     "f6dbfae319c945178eaacc25984367f6": {
      "model_module": "@jupyter-widgets/controls",
      "model_module_version": "1.0.0",
      "model_name": "DropdownModel",
      "state": {
       "_options_labels": [
        "None Selected",
        "CSL689",
        "CSL312",
        "CSL324",
        "CSL346",
        "CSL311",
        "CSL730"
       ],
       "description": "Project",
       "index": 0,
       "layout": "IPY_MODEL_c6cfb58a0f034b3aae02433fed51d72a",
       "style": "IPY_MODEL_2bff9e46b59240babc51efa502faccb3"
      }
     },
     "f7074f17524a4ebc959d66965a05698d": {
      "model_module": "@jupyter-widgets/controls",
      "model_module_version": "1.0.0",
      "model_name": "DropdownModel",
      "state": {
       "_options_labels": [
        "None Selected",
        "Size Exclusion",
        "Anion Exchange",
        "Cation Exchange",
        "Polysorbate80",
        "Reverse Phase"
       ],
       "description": "Methodology",
       "index": 0,
       "layout": "IPY_MODEL_0924681c43d446de8866eea3251ac4d6",
       "style": "IPY_MODEL_cfc6e72e8be9484db015c7088b86fa50"
      }
     },
     "f7d4cdbdfbe0495395049a20f1c801a6": {
      "model_module": "@jupyter-widgets/controls",
      "model_module_version": "1.0.0",
      "model_name": "DropdownModel",
      "state": {
       "_options_labels": [
        "None Selected",
        "CSL689",
        "CSL312",
        "CSL324",
        "CSL346",
        "CSL311",
        "CSL730"
       ],
       "description": "Project",
       "index": 1,
       "layout": "IPY_MODEL_c31256a0badc4ec2aa99f9621e2466b1",
       "style": "IPY_MODEL_e99cd8b2694643988d7e7cedba6dbd5b"
      }
     },
     "f8e0c14c9c054487913b4efccea0cc20": {
      "model_module": "@jupyter-widgets/controls",
      "model_module_version": "1.0.0",
      "model_name": "DescriptionStyleModel",
      "state": {
       "description_width": "150px"
      }
     },
     "f9ad6d3a87884e4a9c87475cb321666f": {
      "model_module": "@jupyter-widgets/base",
      "model_module_version": "1.0.0",
      "model_name": "LayoutModel",
      "state": {
       "width": "350px"
      }
     },
     "f9c0c7023dc042a3a40d7c5b6011b7e2": {
      "model_module": "@jupyter-widgets/base",
      "model_module_version": "1.0.0",
      "model_name": "LayoutModel",
      "state": {}
     },
     "f9c848df07654cf0a1ebd61c109ac90c": {
      "model_module": "@jupyter-widgets/controls",
      "model_module_version": "1.0.0",
      "model_name": "DropdownModel",
      "state": {
       "_options_labels": [
        "None Selected",
        "Size Exclusion",
        "Anion Exchange",
        "Cation Exchange",
        "Polysorbate80",
        "Reverse Phase"
       ],
       "description": "Methodology",
       "index": 0,
       "layout": "IPY_MODEL_2b4f3eec25694032a4199b9b47d79994",
       "style": "IPY_MODEL_4135877a0ba74447b43d9db7fe385391"
      }
     },
     "f9d861fbff8143429e7c7d72068f84ff": {
      "model_module": "@jupyter-widgets/base",
      "model_module_version": "1.0.0",
      "model_name": "LayoutModel",
      "state": {}
     },
     "f9f396db0aa5411685ba557abef90ad9": {
      "model_module": "@jupyter-widgets/base",
      "model_module_version": "1.0.0",
      "model_name": "LayoutModel",
      "state": {}
     },
     "fa013a02d82d4c07bc1ef2a6daae9738": {
      "model_module": "@jupyter-widgets/base",
      "model_module_version": "1.0.0",
      "model_name": "LayoutModel",
      "state": {}
     },
     "fa468d9d14724062976af74ddf2b50f7": {
      "model_module": "@jupyter-widgets/base",
      "model_module_version": "1.0.0",
      "model_name": "LayoutModel",
      "state": {}
     },
     "fac0878b77c140188754d7f192dd3a00": {
      "model_module": "@jupyter-widgets/base",
      "model_module_version": "1.0.0",
      "model_name": "LayoutModel",
      "state": {}
     },
     "fb5a983d628849b8a0bf645df371cc27": {
      "model_module": "@jupyter-widgets/controls",
      "model_module_version": "1.0.0",
      "model_name": "DropdownModel",
      "state": {
       "_options_labels": [
        "None Selected",
        "CSL689",
        "CSL312",
        "CSL324",
        "CSL346",
        "CSL311",
        "CSL730"
       ],
       "description": "Project",
       "index": 0,
       "layout": "IPY_MODEL_fbb31b4953e642f88858cd56e65c75f4",
       "style": "IPY_MODEL_3741ca846ac94b9db1281b78e44360b0"
      }
     },
     "fb812329aef7436eaeafcd0d590b9368": {
      "model_module": "@jupyter-widgets/controls",
      "model_module_version": "1.0.0",
      "model_name": "DescriptionStyleModel",
      "state": {
       "description_width": ""
      }
     },
     "fbb31b4953e642f88858cd56e65c75f4": {
      "model_module": "@jupyter-widgets/base",
      "model_module_version": "1.0.0",
      "model_name": "LayoutModel",
      "state": {}
     },
     "fbf82c7b896a48c9b037d86b645d4106": {
      "model_module": "@jupyter-widgets/controls",
      "model_module_version": "1.0.0",
      "model_name": "DropdownModel",
      "state": {
       "_options_labels": [
        "None Selected",
        "CSL689",
        "CSL312",
        "CSL324",
        "CSL346",
        "CSL311",
        "CSL730"
       ],
       "description": "Project",
       "index": 0,
       "layout": "IPY_MODEL_aff70f77be764ef5b76bb78287258e90",
       "style": "IPY_MODEL_9e92c3d62b244fa3acf85e8c1b7acf92"
      }
     },
     "fc2058cb0e77444ca24f07cfaf807368": {
      "model_module": "@jupyter-widgets/base",
      "model_module_version": "1.0.0",
      "model_name": "LayoutModel",
      "state": {}
     },
     "fc5b4adcce1c4f04b8cde3fddb86ec82": {
      "model_module": "@jupyter-widgets/controls",
      "model_module_version": "1.0.0",
      "model_name": "DropdownModel",
      "state": {
       "_options_labels": [
        "None Selected",
        "High Pressue Liquid Chromatography",
        "Electrophoresis",
        "Cell-based",
        "Mass Spectrometry",
        "Polymerase Chain Reaction",
        "Potency / Interaction",
        "Crystallography",
        "Protein Concentration"
       ],
       "description": "Fundamental Technique",
       "index": 0,
       "layout": "IPY_MODEL_aa17ed46dfbd41549b01d2f0a7383307",
       "style": "IPY_MODEL_98421b75821d4385afbe95c9317d28a9"
      }
     },
     "fcb6be56b2a84098958e42f2fbbb8312": {
      "model_module": "@jupyter-widgets/base",
      "model_module_version": "1.0.0",
      "model_name": "LayoutModel",
      "state": {}
     },
     "fcda104a2b6444ab99c2537d61a76fbd": {
      "model_module": "@jupyter-widgets/controls",
      "model_module_version": "1.0.0",
      "model_name": "DescriptionStyleModel",
      "state": {
       "description_width": ""
      }
     },
     "fd50e48317cb4506b8b002dcafd34126": {
      "model_module": "@jupyter-widgets/base",
      "model_module_version": "1.0.0",
      "model_name": "LayoutModel",
      "state": {
       "width": "350px"
      }
     },
     "fd6cd419762d45f286216f06b4c52880": {
      "model_module": "@jupyter-widgets/controls",
      "model_module_version": "1.0.0",
      "model_name": "DescriptionStyleModel",
      "state": {
       "description_width": "150px"
      }
     },
     "fd81dfd4183a4e16b99531c9cf1eb4f7": {
      "model_module": "@jupyter-widgets/base",
      "model_module_version": "1.0.0",
      "model_name": "LayoutModel",
      "state": {
       "width": "350px"
      }
     },
     "fdd725eb2c004c33ab0fe879f3f0f014": {
      "model_module": "@jupyter-widgets/base",
      "model_module_version": "1.0.0",
      "model_name": "LayoutModel",
      "state": {
       "width": "450px"
      }
     },
     "fe6acfa8e1654684a6e026711f02cf43": {
      "model_module": "@jupyter-widgets/controls",
      "model_module_version": "1.0.0",
      "model_name": "DescriptionStyleModel",
      "state": {
       "description_width": ""
      }
     },
     "fe6e0209627b414e810896e1ea82d518": {
      "model_module": "@jupyter-widgets/base",
      "model_module_version": "1.0.0",
      "model_name": "LayoutModel",
      "state": {}
     },
     "fe9e0d7631b34bdcbe842ccde90fc545": {
      "model_module": "@jupyter-widgets/base",
      "model_module_version": "1.0.0",
      "model_name": "LayoutModel",
      "state": {}
     },
     "ff8f2f483abc478fbc6278cf8188a86e": {
      "model_module": "@jupyter-widgets/base",
      "model_module_version": "1.0.0",
      "model_name": "LayoutModel",
      "state": {
       "width": "350px"
      }
     }
    },
    "version_major": 2,
    "version_minor": 0
   }
  }
 },
 "nbformat": 4,
 "nbformat_minor": 2
}
