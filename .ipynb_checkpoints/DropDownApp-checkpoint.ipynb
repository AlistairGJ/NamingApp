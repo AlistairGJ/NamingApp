{
 "cells": [
  {
   "cell_type": "code",
   "execution_count": 1,
   "metadata": {
    "collapsed": true
   },
   "outputs": [],
   "source": [
    "import ipywidgets as ipw\n",
    "import pyperclip\n",
    "import datetime\n",
    "import string\n",
    "import appmode"
   ]
  },
  {
   "cell_type": "code",
   "execution_count": 15,
   "metadata": {},
   "outputs": [
    {
     "data": {
      "text/plain": [
       "'/Users/alistairgj/Documents/GitHub/NamingApp'"
      ]
     },
     "execution_count": 15,
     "metadata": {},
     "output_type": "execute_result"
    }
   ],
   "source": [
    "#import os\n",
    "#os.getcwd()"
   ]
  },
  {
   "cell_type": "code",
   "execution_count": 16,
   "metadata": {},
   "outputs": [
    {
     "data": {
      "text/plain": [
       "['',\n",
       " '/Users/alistairgj/anaconda/envs/py36/lib/python36.zip',\n",
       " '/Users/alistairgj/anaconda/envs/py36/lib/python3.6',\n",
       " '/Users/alistairgj/anaconda/envs/py36/lib/python3.6/lib-dynload',\n",
       " '/Users/alistairgj/anaconda/envs/py36/lib/python3.6/site-packages',\n",
       " '/Users/alistairgj/anaconda/envs/py36/lib/python3.6/site-packages/aeosa',\n",
       " '/Users/alistairgj/anaconda/envs/py36/lib/python3.6/site-packages/IPython/extensions',\n",
       " '/Users/alistairgj/.ipython']"
      ]
     },
     "execution_count": 16,
     "metadata": {},
     "output_type": "execute_result"
    }
   ],
   "source": [
    "#import sys\n",
    "#sys.path"
   ]
  },
  {
   "cell_type": "markdown",
   "metadata": {},
   "source": [
    "### Dictionary"
   ]
  },
  {
   "cell_type": "code",
   "execution_count": 2,
   "metadata": {
    "collapsed": true
   },
   "outputs": [],
   "source": [
    "continent = {'None Selected':'None Selected',\n",
    "             'Africa':('Africa', 'AF'), \n",
    "             'North America':('North America','NA'), \n",
    "             'South America':('South America','SA')}\n",
    "country = {}\n",
    "country['Africa'] = {'None Selected':'None Selected',\n",
    "                     'South Africa':('South Africa','SA'), \n",
    "                     'Rwanda' :('Rwanda','RW'),\n",
    "                     'Uganda':('Uganda','UG'), \n",
    "                     'Ethiopia':('Ethiopia','ET')}\n",
    "country['North America'] = {'None Selected':'None Selected',\n",
    "                            'Canada':('Canada','CA'), \n",
    "                            'USA':('USA','US'), \n",
    "                            'Mexico':('Mexico','MX')}\n",
    "country['South America'] = {'None Selected':'None Selected',\n",
    "                            'Brazil':('Brazil','BZ'), \n",
    "                            'Chile':('Chile','CH'), \n",
    "                            'Peru':('Peru','PE')}\n",
    "city = {}\n",
    "city['Africa'] = {}\n",
    "city['Africa']['South Africa'] = {'None Selected':'None Selected',\n",
    "                                  'TestSA':('TestSA', 'TSA')}\n",
    "city['Africa']['Rwanda'] = {'None Selected':'None Selected',\n",
    "                            'TestRW':('TestRW', 'TRW')}\n",
    "city['Africa']['Uganda'] = {'None Selected':'None Selected',\n",
    "                            'TestUG':('TestUG', 'TUG')}\n",
    "city['Africa']['Ethiopia'] = {'None Selected':'None Selected',\n",
    "                              'TestET':('TestET', 'TET')}\n",
    "\n",
    "city['North America'] = {}\n",
    "city['North America']['Canada'] = {'None Selected':'None Selected',\n",
    "                                   'TestCA':('TestCA', 'TCA')}\n",
    "city['North America']['USA'] = {'None Selected':'None Selected',\n",
    "                                'TestUS':('TestUS', 'TUS')}\n",
    "city['North America']['Mexico'] = {'None Selected':'None Selected',\n",
    "                                   'TestMX':('TestMX', 'TMX')}\n",
    "\n",
    "city['South America'] = {}\n",
    "city['South America']['Brazil'] = {'None Selected':'None Selected',\n",
    "                                   'TestBZ':('TestBZ', 'TBZ')}\n",
    "city['South America']['Chile'] = {'None Selected':'None Selected',\n",
    "                                  'TestCH':('TestCH', 'TCH')}\n",
    "city['South America']['Peru'] = {'None Selected':'None Selected',\n",
    "                                 'TestPE':('TestPE', 'TPE')}\n"
   ]
  },
  {
   "cell_type": "markdown",
   "metadata": {},
   "source": [
    "### Date Picker Widget"
   ]
  },
  {
   "cell_type": "code",
   "execution_count": 3,
   "metadata": {
    "collapsed": true
   },
   "outputs": [],
   "source": [
    "dp = ipw.DatePicker(\n",
    "    description='Analysis Date',\n",
    "    disabled=False,\n",
    "    value=datetime.datetime.now()\n",
    ")\n",
    "\n",
    "def on_dp_change(change):\n",
    "    refresh_eln_name()\n",
    "\n",
    "dp.observe(on_dp_change)"
   ]
  },
  {
   "cell_type": "markdown",
   "metadata": {},
   "source": [
    "### Dependent Drop Down Code"
   ]
  },
  {
   "cell_type": "code",
   "execution_count": 4,
   "metadata": {
    "collapsed": true
   },
   "outputs": [],
   "source": [
    "cont_drop = ipw.Dropdown(\n",
    "    options = continent,\n",
    "    value = 'None Selected',\n",
    "    description = 'Continent'\n",
    ")\n",
    "\n",
    "count_drop = ipw.Dropdown(\n",
    "    options = country['Africa'],\n",
    "    value = 'None Selected',\n",
    "    description = 'Countries'\n",
    ")\n",
    "\n",
    "city_drop = ipw.Dropdown(\n",
    "    options = city['Africa']['South Africa'],\n",
    "    value = 'None Selected',\n",
    "    description = 'Cities'\n",
    ")\n",
    "\n",
    "def on_continent_select(change):\n",
    "    if change['name'] == 'label':\n",
    "        if change['new'] != 'None Selected':\n",
    "            count_drop.options=country[change['new']]\n",
    "        #print(list(count_drop.options.keys()))\n",
    "\n",
    "    count_drop.value = 'None Selected'\n",
    "    city_drop.value = 'None Selected'\n",
    "    refresh_eln_name()\n",
    "        \n",
    "\n",
    "def on_country_select(change):\n",
    "    if change['name'] == 'label':\n",
    "        if change['new'] != 'None Selected':\n",
    "            city_drop.options=city[cont_drop.value[0]][change['new']]\n",
    "    city_drop.value = 'None Selected'\n",
    "    refresh_eln_name()\n",
    "\n",
    "def on_city_select(change):\n",
    "    refresh_eln_name()\n",
    "\n",
    "cont_drop.observe(on_continent_select)\n",
    "count_drop.observe(on_country_select)\n",
    "city_drop.observe(on_city_select)\n",
    "\n",
    "name_selector = ipw.VBox((cont_drop, count_drop, city_drop))"
   ]
  },
  {
   "cell_type": "markdown",
   "metadata": {},
   "source": [
    "### Text Widget "
   ]
  },
  {
   "cell_type": "code",
   "execution_count": 5,
   "metadata": {
    "collapsed": true
   },
   "outputs": [],
   "source": [
    "eln_name = ipw.Text(\n",
    "    value=None,\n",
    "    placeholder='Make selection from dropdowns',\n",
    "    description='ELN Name:',\n",
    "    disabled=False\n",
    ")"
   ]
  },
  {
   "cell_type": "markdown",
   "metadata": {},
   "source": [
    "### Widget Button"
   ]
  },
  {
   "cell_type": "code",
   "execution_count": 6,
   "metadata": {
    "collapsed": true
   },
   "outputs": [],
   "source": [
    "btn = ipw.Button(\n",
    "    description='Copy to Clipboard',\n",
    "    disabled=False,\n",
    "    button_style='', # 'success', 'info', 'warning', 'danger' or ''\n",
    "    tooltip='Copy to Clipboard',\n",
    "    icon='paperclip'\n",
    ")\n",
    "\n",
    "def copy_to_clip(b):\n",
    "    pyperclip.copy(eln_name.value)\n",
    "\n",
    "btn.on_click(copy_to_clip)"
   ]
  },
  {
   "cell_type": "markdown",
   "metadata": {},
   "source": [
    "### Amalgamate Functions / Widgets"
   ]
  },
  {
   "cell_type": "code",
   "execution_count": 9,
   "metadata": {
    "collapsed": true
   },
   "outputs": [],
   "source": [
    "def refresh_eln_name():\n",
    "    if dp.value != None:\n",
    "        eln_name.value = dp.value.strftime('%Y%m%d') + '_'\n",
    "    if cont_drop.value != 'None Selected':\n",
    "        eln_name.value += cont_drop.value[1]\n",
    "        if count_drop.value != 'None Selected':\n",
    "            eln_name.value += '_' + count_drop.value[1]\n",
    "            if city_drop.value != 'None Selected':\n",
    "                eln_name.value += '_' + city_drop.value[1]\n",
    "                \n",
    "refresh_eln_name()"
   ]
  },
  {
   "cell_type": "markdown",
   "metadata": {},
   "source": [
    "## Dependent Drop Down with Date and Copy"
   ]
  },
  {
   "cell_type": "code",
   "execution_count": 13,
   "metadata": {},
   "outputs": [
    {
     "data": {
      "application/vnd.jupyter.widget-view+json": {
       "model_id": "d53c8891c8384e299ed11208561f764a",
       "version_major": 2,
       "version_minor": 0
      },
      "text/plain": [
       "A Jupyter Widget"
      ]
     },
     "metadata": {},
     "output_type": "display_data"
    }
   ],
   "source": [
    "ipw.VBox((dp, name_selector, ipw.HBox((eln_name, btn))))"
   ]
  },
  {
   "cell_type": "code",
   "execution_count": null,
   "metadata": {
    "collapsed": true
   },
   "outputs": [],
   "source": [
    "# If select middle then NS top, will crash\n",
    "# "
   ]
  }
 ],
 "metadata": {
  "kernelspec": {
   "display_name": "Python 3",
   "language": "python",
   "name": "python3"
  },
  "language_info": {
   "codemirror_mode": {
    "name": "ipython",
    "version": 3
   },
   "file_extension": ".py",
   "mimetype": "text/x-python",
   "name": "python",
   "nbconvert_exporter": "python",
   "pygments_lexer": "ipython3",
   "version": "3.6.3"
  }
 },
 "nbformat": 4,
 "nbformat_minor": 2
}
