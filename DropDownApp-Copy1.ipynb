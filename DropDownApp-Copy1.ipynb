{
 "cells": [
  {
   "cell_type": "code",
   "execution_count": 1,
   "metadata": {
    "collapsed": true
   },
   "outputs": [],
   "source": [
    "import ipywidgets as ipw\n",
    "from ipywidgets import Layout\n",
    "import pyperclip\n",
    "import datetime\n",
    "import string\n",
    "import appmode\n",
    "import pandas as pd"
   ]
  },
  {
   "cell_type": "markdown",
   "metadata": {},
   "source": [
    "### Dictionary"
   ]
  },
  {
   "cell_type": "code",
   "execution_count": 2,
   "metadata": {
    "collapsed": true
   },
   "outputs": [],
   "source": [
    "project = {'None Selected':'None Selected',\n",
    "           'CSL689':('CSL689', '689'), \n",
    "           'CSL312':('CSL312','312'), \n",
    "           'CSL324':('CSL324','324'),\n",
    "           'CSL346':('CSL346','346'),\n",
    "           'CSL311':('CSL311','311'),\n",
    "           'CSL730':('CLS730','730'),\n",
    "           'CSL627':('CLS627','672')}\n",
    "\n",
    "fund_technique = {}\n",
    "\n",
    "fund_technique['CSL689'] = {'None Selected':'None Selected',\n",
    "                            'High Pressure Liquid Chromatography':('High Pressure Liquid Chromatography','HPLC'),\n",
    "                            'Electrophoresis':('Electrophoresis','EP'),\n",
    "                            'Cell-based':('Cell-based','CB'),\n",
    "                            'Mass Spectrometry':('Mass Spectrometry','MS'),\n",
    "                            'Polymerase Chain Reaction':('Polymerase Chain Reaction','PCR'),\n",
    "                            'Potency / Interaction':('Potency / Interaction','PI'),\n",
    "                            'Crystallography':('Crystallography','CR'),\n",
    "                            'Protein Concentration':('Protein Concentration','ProteinConc')}\n",
    "\n",
    "fund_technique['CSL312'] = {'None Selected':'None Selected',\n",
    "                            'High Pressure Liquid Chromatography':('High Pressure Liquid Chromatography','HPLC'),\n",
    "                            'Electrophoresis':('Electrophoresis','EP'),\n",
    "                            'Cell-based':('Cell-based','CB'),\n",
    "                            'Mass Spectrometry':('Mass Spectrometry','MS'),\n",
    "                            'Polymerase Chain Reaction':('Polymerase Chain Reaction','PCR'),\n",
    "                            'Potency / Interaction':('Potency / Interaction','PI'),\n",
    "                            'Crystallography':('Crystallography','CR'),\n",
    "                            'Protein Concentration':('Protein Concentration','ProteinConc')}\n",
    "\n",
    "fund_technique['CSL324'] = {'None Selected':'None Selected',\n",
    "                            'High Pressure Liquid Chromatography':('High Pressure Liquid Chromatography','HPLC'),\n",
    "                            'Electrophoresis':('Electrophoresis','EP'),\n",
    "                            'Cell-based':('Cell-based','CB'),\n",
    "                            'Mass Spectrometry':('Mass Spectrometry','MS'),\n",
    "                            'Polymerase Chain Reaction':('Polymerase Chain Reaction','PCR'),\n",
    "                            'Potency / Interaction':('Potency / Interaction','PI'),\n",
    "                            'Crystallography':('Crystallography','CR'),\n",
    "                            'Protein Concentration':('Protein Concentration','ProteinConc')}\n",
    "\n",
    "fund_technique['CSL346'] = {'None Selected':'None Selected',\n",
    "                            'High Pressure Liquid Chromatography':('High Pressure Liquid Chromatography','HPLC'),\n",
    "                            'Electrophoresis':('Electrophoresis','EP'),\n",
    "                            'Cell-based':('Cell-based','CB'),\n",
    "                            'Mass Spectrometry':('Mass Spectrometry','MS'),\n",
    "                            'Polymerase Chain Reaction':('Polymerase Chain Reaction','PCR'),\n",
    "                            'Potency / Interaction':('Potency / Interaction','PI'),\n",
    "                            'Crystallography':('Crystallography','CR'),\n",
    "                            'Protein Concentration':('Protein Concentration','ProteinConc')}\n",
    "\n",
    "fund_technique['CSL311'] = {'None Selected':'None Selected',\n",
    "                            'High Pressure Liquid Chromatography':('High Pressure Liquid Chromatography','HPLC'),\n",
    "                            'Electrophoresis':('Electrophoresis','EP'),\n",
    "                            'Cell-based':('Cell-based','CB'),\n",
    "                            'Mass Spectrometry':('Mass Spectrometry','MS'),\n",
    "                            'Polymerase Chain Reaction':('Polymerase Chain Reaction','PCR'),\n",
    "                            'Potency / Interaction':('Potency / Interaction','PI'),\n",
    "                            'Crystallography':('Crystallography','CR'),\n",
    "                            'Protein Concentration':('Protein Concentration','ProteinConc')}\n",
    "\n",
    "fund_technique['CSL730'] = {'None Selected':'None Selected',\n",
    "                            'High Pressure Liquid Chromatography':('High Pressure Liquid Chromatography','HPLC'),\n",
    "                            'Electrophoresis':('Electrophoresis','EP'),\n",
    "                            'Cell-based':('Cell-based','CB'),\n",
    "                            'Mass Spectrometry':('Mass Spectrometry','MS'),\n",
    "                            'Polymerase Chain Reaction':('Polymerase Chain Reaction','PCR'),\n",
    "                            'Potency / Interaction':('Potency / Interaction','PI'),\n",
    "                            'Crystallography':('Crystallography','CR'),\n",
    "                            'Protein Concentration':('Protein Concentration','ProteinConc')}\n",
    "\n",
    "methodology = {}\n",
    "\n",
    "methodology['CSL689'] = {}\n",
    "methodology['CSL689']['High Pressure Liquid Chromatography'] = {'None Selected':'None Selected',\n",
    "                                                               'Size Exclusion':('Size Exclusion', 'SE'),\n",
    "                                                               'Anion Exchange':('Anion Exchange', 'AEX'),\n",
    "                                                               'Cation Exchange':('Cation Exchange', 'CEX'),\n",
    "                                                               'Polysorbate80':('Polysorbate80', 'PS80'),\n",
    "                                                               'Reverse Phase':('Reverse Phase', 'RP')}\n",
    "methodology['CSL312'] = {}\n",
    "methodology['CSL312']['High Pressure Liquid Chromatography'] = {'None Selected':'None Selected',\n",
    "                                                               'Size Exclusion':('Size Exclusion', 'SE'),\n",
    "                                                               'Anion Exchange':('Anion Exchange', 'AEX'),\n",
    "                                                               'Cation Exchange':('Cation Exchange', 'CEX'),\n",
    "                                                               'Polysorbate80':('Polysorbate80', 'PS80'),\n",
    "                                                               'Reverse Phase':('Reverse Phase', 'RP')}\n",
    "methodology['CSL324'] = {}\n",
    "methodology['CSL324']['High Pressure Liquid Chromatography'] = {'None Selected':'None Selected',\n",
    "                                                               'Size Exclusion':('Size Exclusion', 'SE'),\n",
    "                                                               'Anion Exchange':('Anion Exchange', 'AEX'),\n",
    "                                                               'Cation Exchange':('Cation Exchange', 'CEX'),\n",
    "                                                               'Polysorbate80':('Polysorbate80', 'PS80'),\n",
    "                                                               'Reverse Phase':('Reverse Phase', 'RP')}\n",
    "methodology['CSL346'] = {}\n",
    "methodology['CSL346']['High Pressure Liquid Chromatography'] = {'None Selected':'None Selected',\n",
    "                                                               'Size Exclusion':('Size Exclusion', 'SE'),\n",
    "                                                               'Anion Exchange':('Anion Exchange', 'AEX'),\n",
    "                                                               'Cation Exchange':('Cation Exchange', 'CEX'),\n",
    "                                                               'Polysorbate80':('Polysorbate80', 'PS80'),\n",
    "                                                               'Reverse Phase':('Reverse Phase', 'RP')}\n",
    "methodology['CSL311'] = {}\n",
    "methodology['CSL311']['High Pressure Liquid Chromatography'] = {'None Selected':'None Selected',\n",
    "                                                               'Size Exclusion':('Size Exclusion', 'SE'),\n",
    "                                                               'Anion Exchange':('Anion Exchange', 'AEX'),\n",
    "                                                               'Cation Exchange':('Cation Exchange', 'CEX'),\n",
    "                                                               'Polysorbate80':('Polysorbate80', 'PS80'),\n",
    "                                                               'Reverse Phase':('Reverse Phase', 'RP')}\n",
    "methodology['CSL730'] = {}\n",
    "methodology['CSL730']['High Pressure Liquid Chromatography'] = {'None Selected':'None Selected',\n",
    "                                                               'Size Exclusion':('Size Exclusion', 'SE'),\n",
    "                                                               'Anion Exchange':('Anion Exchange', 'AEX'),\n",
    "                                                               'Cation Exchange':('Cation Exchange', 'CEX'),\n",
    "                                                               'Polysorbate80':('Polysorbate80', 'PS80'),\n",
    "                                                               'Reverse Phase':('Reverse Phase', 'RP')}"
   ]
  },
  {
   "cell_type": "markdown",
   "metadata": {},
   "source": [
    "### Date Picker Widget"
   ]
  },
  {
   "cell_type": "code",
   "execution_count": 3,
   "metadata": {
    "collapsed": true
   },
   "outputs": [],
   "source": [
    "dp = ipw.DatePicker(\n",
    "    description='Analysis Date', style= {'description_width': '150px'},\n",
    "    disabled=False,\n",
    "    layout=Layout(width='450px'),\n",
    "    value=datetime.datetime.now()\n",
    ")\n",
    "\n",
    "def on_dp_change(change):\n",
    "    refresh_eln_name()\n",
    "\n",
    "dp.observe(on_dp_change)"
   ]
  },
  {
   "cell_type": "markdown",
   "metadata": {},
   "source": [
    "### Dependent Drop Down Code"
   ]
  },
  {
   "cell_type": "code",
   "execution_count": 4,
   "metadata": {
    "collapsed": true
   },
   "outputs": [],
   "source": [
    "pro_drop = ipw.Dropdown(\n",
    "    options = project,\n",
    "    value = 'None Selected',\n",
    "    description = 'Project', style= {'description_width': '150px'},\n",
    "    layout=Layout(width='450px')\n",
    ")\n",
    "\n",
    "tech_drop = ipw.Dropdown(\n",
    "    options = fund_technique['CSL689'],\n",
    "    value = 'None Selected',\n",
    "    description = 'Fundamental Technique', style= {'description_width': '150px'},\n",
    "    layout=Layout(width='450px')\n",
    ")\n",
    "\n",
    "meth_drop = ipw.Dropdown(\n",
    "    options = methodology['CSL689']['High Pressure Liquid Chromatography'],\n",
    "    value = 'None Selected',\n",
    "    description = 'Methodology', style= {'description_width': '150px'},\n",
    "    layout=Layout(width='450px')\n",
    ")\n",
    "\n",
    "def on_project_select(change):\n",
    "    if change['name'] == 'label':\n",
    "        if change['new'] != 'None Selected':\n",
    "            tech_drop.options=fund_technique[change['new']]\n",
    "        #print(list(count_drop.options.keys()))\n",
    "\n",
    "    tech_drop.value = 'None Selected'\n",
    "    meth_drop.value = 'None Selected'\n",
    "    refresh_eln_name()\n",
    "        \n",
    "\n",
    "def on_technique_select(change):\n",
    "    if change['name'] == 'label':\n",
    "        if change['new'] != 'None Selected':\n",
    "            meth_drop.options=methodology[pro_drop.value[0]][change['new']]\n",
    "    meth_drop.value = 'None Selected'\n",
    "    refresh_eln_name()\n",
    "\n",
    "def on_meth_select(change):\n",
    "    refresh_eln_name()\n",
    "    \n",
    "    \n",
    "    \n",
    "pro_drop.observe(on_project_select)\n",
    "tech_drop.observe(on_technique_select)\n",
    "meth_drop.observe(on_meth_select)\n",
    "\n",
    "name_selector = ipw.VBox((pro_drop, tech_drop, meth_drop))"
   ]
  },
  {
   "cell_type": "markdown",
   "metadata": {},
   "source": [
    "### Text Widget "
   ]
  },
  {
   "cell_type": "code",
   "execution_count": 5,
   "metadata": {
    "collapsed": true
   },
   "outputs": [],
   "source": [
    "eln_name = ipw.Text(\n",
    "    value=None,\n",
    "    placeholder='Make selection from dropdowns',\n",
    "    description='ELN Name:', style= {'description_width': '150px'},\n",
    "    disabled=False,\n",
    "    layout=Layout(width='450px')\n",
    ")"
   ]
  },
  {
   "cell_type": "markdown",
   "metadata": {},
   "source": [
    "### Widget Button"
   ]
  },
  {
   "cell_type": "code",
   "execution_count": 6,
   "metadata": {
    "collapsed": true
   },
   "outputs": [],
   "source": [
    "btn = ipw.Button(\n",
    "    description='Copy to Clipboard',\n",
    "    disabled=False,\n",
    "    button_style='', # 'success', 'info', 'warning', 'danger' or ''\n",
    "    tooltip='Copy to Clipboard',\n",
    "    icon='paperclip'\n",
    ")\n",
    "\n",
    "\n",
    "def copy_to_clip(b):\n",
    "    df = pd.DataFrame([eln_name.value])\n",
    "    df.to_clipboard(index=False,header=False)\n",
    "\n",
    "btn.on_click(copy_to_clip)"
   ]
  },
  {
   "cell_type": "markdown",
   "metadata": {},
   "source": [
    "### Amalgamate Functions / Widgets"
   ]
  },
  {
   "cell_type": "code",
   "execution_count": 7,
   "metadata": {
    "collapsed": true
   },
   "outputs": [],
   "source": [
    "def refresh_eln_name():\n",
    "    if dp.value != None:\n",
    "        eln_name.value = dp.value.strftime('%Y%m%d') + '_'\n",
    "    if pro_drop.value != 'None Selected':\n",
    "        eln_name.value += pro_drop.value[1]\n",
    "        if tech_drop.value != 'None Selected':\n",
    "            eln_name.value += '_' + tech_drop.value[1]\n",
    "            if meth_drop.value != 'None Selected':\n",
    "                eln_name.value += '_' + meth_drop.value[1]\n",
    "            \n",
    "             #   if tech_drop.value != 'None Selected':\n",
    "              #      eln_name.value -= '_' + tech_drop.value[1]\n",
    "               #     if meth_drop.value != 'None Selected':\n",
    "                #        eln_name.value -= '_' + meth_drop.value[1]\n",
    "\n",
    "refresh_eln_name()"
   ]
  },
  {
   "cell_type": "markdown",
   "metadata": {},
   "source": [
    "## Dependent Drop Down with Date and Copy"
   ]
  },
  {
   "cell_type": "code",
   "execution_count": 11,
   "metadata": {
    "collapsed": false
   },
   "outputs": [
    {
     "data": {
      "application/vnd.jupyter.widget-view+json": {
       "model_id": "6c15fa922fef4804aea686dcd15b4b19",
       "version_major": 2,
       "version_minor": 0
      },
      "text/plain": [
       "A Jupyter Widget"
      ]
     },
     "metadata": {},
     "output_type": "display_data"
    }
   ],
   "source": [
    "from ipywidgets import Layout\n",
    "ipw.VBox((dp,name_selector, ipw.HBox((eln_name, btn))))"
   ]
  },
  {
   "cell_type": "code",
   "execution_count": null,
   "metadata": {
    "collapsed": false
   },
   "outputs": [],
   "source": [
    "# If select middle then NS top, will crash\n",
    "# eln_name.value\n",
    "# Decouple project analytical techniques\n",
    "20180110_312_HPLC_SE\n",
    "20180110_312_HPLC_SE type\n",
    "20180118_689_HPLC_SE\n"
   ]
  },
  {
   "cell_type": "code",
   "execution_count": null,
   "metadata": {
    "collapsed": true
   },
   "outputs": [],
   "source": [
    "# import os\n",
    "# os.getcwd()"
   ]
  },
  {
   "cell_type": "code",
   "execution_count": null,
   "metadata": {
    "collapsed": true
   },
   "outputs": [],
   "source": [
    "# import sys\n",
    "#sys.path"
   ]
  },
  {
   "cell_type": "code",
   "execution_count": null,
   "metadata": {
    "collapsed": false
   },
   "outputs": [],
   "source": [
    "# https://nbconvert.readthedocs.io/en/latest/nbconvert_library.html\n",
    "# from traitlets.config import Config\n",
    "# from nbconvert import HTMLExporter\n",
    "# html_exporter = HTMLExporter()\n",
    "# html_exporter.template_file = 'basic'\n",
    "# (body, resources) = html_exporter.from_notebook_node(NamingApp)"
   ]
  },
  {
   "cell_type": "markdown",
   "metadata": {
    "collapsed": true
   },
   "source": [
    "## To Do"
   ]
  },
  {
   "cell_type": "code",
   "execution_count": null,
   "metadata": {
    "collapsed": true
   },
   "outputs": [],
   "source": [
    "# NOTE when certain things are selected, e.g., \"HPLC includes UPLC\""
   ]
  }
 ],
 "metadata": {
  "kernelspec": {
   "display_name": "Python 3",
   "language": "python",
   "name": "python3"
  },
  "language_info": {
   "codemirror_mode": {
    "name": "ipython",
    "version": 3
   },
   "file_extension": ".py",
   "mimetype": "text/x-python",
   "name": "python",
   "nbconvert_exporter": "python",
   "pygments_lexer": "ipython3",
   "version": "3.6.3"
  }
 },
 "nbformat": 4,
 "nbformat_minor": 2
}
